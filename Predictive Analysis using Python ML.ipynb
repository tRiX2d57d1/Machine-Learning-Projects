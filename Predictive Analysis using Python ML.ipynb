{
 "cells": [
  {
   "cell_type": "markdown",
   "id": "060c212a",
   "metadata": {},
   "source": [
    "# _Predictive Analysis using Python_\n",
    "#### _by Subadarshini Madhanan_\n",
    "\n",
    "___AIM___\n",
    "\n",
    "_This project aims to predict the salary of upcoming employees, using the historical data of the company using machine learning regression models._\n",
    "\n",
    "___STEPS INVOLVED___\n",
    "- _Importing necessary libraries_\n",
    "- _Creation of Dataframe and Loading Data_\n",
    "- _Running EDD on data_\n",
    "- _Data Pre-processing_\n",
    "    - _Assigning tiers and cities to colleges and cities respectively_\n",
    "    - _Creating dummy variables using One-hot Encoding_\n",
    "    - _Correlation Analysis_\n",
    "    - _Bi-variate Analysis_\n",
    "    - _Feature Selection_\n",
    "    - _Outlier Treatment_\n",
    "- _Test-Train-Split_\n",
    "- _Training Models_\n",
    "    - _Ordinary Least Squares_\n",
    "    - _Linear Regression_\n",
    "    - _Ridge Regression_\n",
    "        - _Validation Curve_\n",
    "    - _Lasso Regression_\n",
    "        - _Validation_curve_\n",
    "    - _Decision Tree Regression_\n",
    "    - _Bagging Regression_\n",
    "    - _Random Forest Regression_\n",
    "        - _GridSearch for Hyperparameter Tuning_\n",
    "    - _Gradient Boosting Regression_\n",
    "    - _Ada Boost Regression_\n",
    "    - _XG Boost Regression_\n",
    "\n",
    "- _Evaluating the model Performance_\n",
    "\n",
    "___RESULT___\n"
   ]
  },
  {
   "cell_type": "markdown",
   "id": "b05e947f",
   "metadata": {},
   "source": [
    "### Importing necessary libraries"
   ]
  },
  {
   "cell_type": "code",
   "execution_count": 1,
   "id": "6463fa2b",
   "metadata": {},
   "outputs": [],
   "source": [
    "import numpy as np \n",
    "import pandas as pd\n",
    "import seaborn as sns\n",
    "import matplotlib.pyplot as plt\n"
   ]
  },
  {
   "cell_type": "markdown",
   "id": "ccba7cd2",
   "metadata": {},
   "source": [
    "### Creation of Dataframe and Loading Data"
   ]
  },
  {
   "cell_type": "code",
   "execution_count": 2,
   "id": "2a5221f5",
   "metadata": {},
   "outputs": [],
   "source": [
    "df = pd.read_csv(\"case_study_data.csv\",header = 0) #the dataframe df stores the data from case_study_data csv file\n",
    "colleges = pd.read_csv(\"Colleges.csv\",header = 0) #the dataframe colleges stores the data from Colleges csv file\n",
    "cities = pd.read_csv(\"cities.csv\",header = 0) #the dataframe cities stores the data from cities csv file"
   ]
  },
  {
   "cell_type": "code",
   "execution_count": 3,
   "id": "58da5100",
   "metadata": {},
   "outputs": [
    {
     "data": {
      "text/html": [
       "<div>\n",
       "<style scoped>\n",
       "    .dataframe tbody tr th:only-of-type {\n",
       "        vertical-align: middle;\n",
       "    }\n",
       "\n",
       "    .dataframe tbody tr th {\n",
       "        vertical-align: top;\n",
       "    }\n",
       "\n",
       "    .dataframe thead th {\n",
       "        text-align: right;\n",
       "    }\n",
       "</style>\n",
       "<table border=\"1\" class=\"dataframe\">\n",
       "  <thead>\n",
       "    <tr style=\"text-align: right;\">\n",
       "      <th></th>\n",
       "      <th>College</th>\n",
       "      <th>City</th>\n",
       "      <th>Role</th>\n",
       "      <th>Previous_CTC</th>\n",
       "      <th>Previous_job_change</th>\n",
       "      <th>Graduation_Marks</th>\n",
       "      <th>EXP_in_Months</th>\n",
       "      <th>CTC</th>\n",
       "    </tr>\n",
       "  </thead>\n",
       "  <tbody>\n",
       "    <tr>\n",
       "      <th>0</th>\n",
       "      <td>SVNIT Surat</td>\n",
       "      <td>Asansol</td>\n",
       "      <td>Manager</td>\n",
       "      <td>55523</td>\n",
       "      <td>3</td>\n",
       "      <td>66</td>\n",
       "      <td>19</td>\n",
       "      <td>71406.58</td>\n",
       "    </tr>\n",
       "    <tr>\n",
       "      <th>1</th>\n",
       "      <td>NIT Bhopal</td>\n",
       "      <td>Ajmer</td>\n",
       "      <td>Executive</td>\n",
       "      <td>57081</td>\n",
       "      <td>1</td>\n",
       "      <td>84</td>\n",
       "      <td>18</td>\n",
       "      <td>68005.87</td>\n",
       "    </tr>\n",
       "    <tr>\n",
       "      <th>2</th>\n",
       "      <td>IEM, Kolkata</td>\n",
       "      <td>Rajpur Sonarpur</td>\n",
       "      <td>Executive</td>\n",
       "      <td>60347</td>\n",
       "      <td>2</td>\n",
       "      <td>52</td>\n",
       "      <td>28</td>\n",
       "      <td>76764.02</td>\n",
       "    </tr>\n",
       "    <tr>\n",
       "      <th>3</th>\n",
       "      <td>KIIT, Bhubaneswar</td>\n",
       "      <td>Ajmer</td>\n",
       "      <td>Executive</td>\n",
       "      <td>49010</td>\n",
       "      <td>2</td>\n",
       "      <td>81</td>\n",
       "      <td>33</td>\n",
       "      <td>82092.39</td>\n",
       "    </tr>\n",
       "    <tr>\n",
       "      <th>4</th>\n",
       "      <td>DTU</td>\n",
       "      <td>Durgapur</td>\n",
       "      <td>Executive</td>\n",
       "      <td>57879</td>\n",
       "      <td>4</td>\n",
       "      <td>74</td>\n",
       "      <td>32</td>\n",
       "      <td>73878.10</td>\n",
       "    </tr>\n",
       "  </tbody>\n",
       "</table>\n",
       "</div>"
      ],
      "text/plain": [
       "             College             City       Role  Previous_CTC  \\\n",
       "0        SVNIT Surat          Asansol    Manager         55523   \n",
       "1         NIT Bhopal            Ajmer  Executive         57081   \n",
       "2       IEM, Kolkata  Rajpur Sonarpur  Executive         60347   \n",
       "3  KIIT, Bhubaneswar            Ajmer  Executive         49010   \n",
       "4                DTU         Durgapur  Executive         57879   \n",
       "\n",
       "   Previous_job_change  Graduation_Marks  EXP_in_Months       CTC  \n",
       "0                    3                66             19  71406.58  \n",
       "1                    1                84             18  68005.87  \n",
       "2                    2                52             28  76764.02  \n",
       "3                    2                81             33  82092.39  \n",
       "4                    4                74             32  73878.10  "
      ]
     },
     "execution_count": 3,
     "metadata": {},
     "output_type": "execute_result"
    }
   ],
   "source": [
    "df.head() #this statement helps us in viewing the first five rows of the df data"
   ]
  },
  {
   "cell_type": "code",
   "execution_count": 4,
   "id": "e8482699",
   "metadata": {},
   "outputs": [
    {
     "data": {
      "text/html": [
       "<div>\n",
       "<style scoped>\n",
       "    .dataframe tbody tr th:only-of-type {\n",
       "        vertical-align: middle;\n",
       "    }\n",
       "\n",
       "    .dataframe tbody tr th {\n",
       "        vertical-align: top;\n",
       "    }\n",
       "\n",
       "    .dataframe thead th {\n",
       "        text-align: right;\n",
       "    }\n",
       "</style>\n",
       "<table border=\"1\" class=\"dataframe\">\n",
       "  <thead>\n",
       "    <tr style=\"text-align: right;\">\n",
       "      <th></th>\n",
       "      <th>Tier1</th>\n",
       "      <th>Tier2</th>\n",
       "      <th>Tier3</th>\n",
       "    </tr>\n",
       "  </thead>\n",
       "  <tbody>\n",
       "    <tr>\n",
       "      <th>0</th>\n",
       "      <td>IIT Bombay</td>\n",
       "      <td>IIIT Bangalore</td>\n",
       "      <td>Ramaiah Institute of Technology, Bengaluru</td>\n",
       "    </tr>\n",
       "    <tr>\n",
       "      <th>1</th>\n",
       "      <td>IIT Delhi</td>\n",
       "      <td>IIIT Delhi</td>\n",
       "      <td>TIET/Thapar University</td>\n",
       "    </tr>\n",
       "    <tr>\n",
       "      <th>2</th>\n",
       "      <td>IIT Kharagpur</td>\n",
       "      <td>IGDTUW</td>\n",
       "      <td>Manipal Main Campus</td>\n",
       "    </tr>\n",
       "    <tr>\n",
       "      <th>3</th>\n",
       "      <td>IIT Madras</td>\n",
       "      <td>NIT Calicut</td>\n",
       "      <td>VIT Vellore</td>\n",
       "    </tr>\n",
       "    <tr>\n",
       "      <th>4</th>\n",
       "      <td>IIT Kanpur</td>\n",
       "      <td>IIITM Gwalior</td>\n",
       "      <td>SRM Main Campus</td>\n",
       "    </tr>\n",
       "  </tbody>\n",
       "</table>\n",
       "</div>"
      ],
      "text/plain": [
       "           Tier1           Tier2                                       Tier3\n",
       "0     IIT Bombay  IIIT Bangalore  Ramaiah Institute of Technology, Bengaluru\n",
       "1      IIT Delhi      IIIT Delhi                      TIET/Thapar University\n",
       "2  IIT Kharagpur          IGDTUW                         Manipal Main Campus\n",
       "3     IIT Madras     NIT Calicut                                 VIT Vellore\n",
       "4     IIT Kanpur   IIITM Gwalior                             SRM Main Campus"
      ]
     },
     "execution_count": 4,
     "metadata": {},
     "output_type": "execute_result"
    }
   ],
   "source": [
    "colleges.head() #this statement helps us in viewing the first five rows of the colleges data"
   ]
  },
  {
   "cell_type": "code",
   "execution_count": 5,
   "id": "f4b8835e",
   "metadata": {},
   "outputs": [
    {
     "data": {
      "text/html": [
       "<div>\n",
       "<style scoped>\n",
       "    .dataframe tbody tr th:only-of-type {\n",
       "        vertical-align: middle;\n",
       "    }\n",
       "\n",
       "    .dataframe tbody tr th {\n",
       "        vertical-align: top;\n",
       "    }\n",
       "\n",
       "    .dataframe thead th {\n",
       "        text-align: right;\n",
       "    }\n",
       "</style>\n",
       "<table border=\"1\" class=\"dataframe\">\n",
       "  <thead>\n",
       "    <tr style=\"text-align: right;\">\n",
       "      <th></th>\n",
       "      <th>metro_city</th>\n",
       "      <th>non_metro_cities</th>\n",
       "    </tr>\n",
       "  </thead>\n",
       "  <tbody>\n",
       "    <tr>\n",
       "      <th>0</th>\n",
       "      <td>Mumbai</td>\n",
       "      <td>Dehradun</td>\n",
       "    </tr>\n",
       "    <tr>\n",
       "      <th>1</th>\n",
       "      <td>Delhi</td>\n",
       "      <td>Durgapur</td>\n",
       "    </tr>\n",
       "    <tr>\n",
       "      <th>2</th>\n",
       "      <td>Kolkata</td>\n",
       "      <td>Asansol</td>\n",
       "    </tr>\n",
       "    <tr>\n",
       "      <th>3</th>\n",
       "      <td>Chennai</td>\n",
       "      <td>Rourkela</td>\n",
       "    </tr>\n",
       "    <tr>\n",
       "      <th>4</th>\n",
       "      <td>Bangalore</td>\n",
       "      <td>Kozhikode</td>\n",
       "    </tr>\n",
       "  </tbody>\n",
       "</table>\n",
       "</div>"
      ],
      "text/plain": [
       "  metro_city non_metro_cities\n",
       "0     Mumbai         Dehradun\n",
       "1      Delhi         Durgapur\n",
       "2    Kolkata          Asansol\n",
       "3    Chennai         Rourkela\n",
       "4  Bangalore        Kozhikode"
      ]
     },
     "execution_count": 5,
     "metadata": {},
     "output_type": "execute_result"
    }
   ],
   "source": [
    "cities.head() #this statement helps us in viewing the first five rows of the cities data"
   ]
  },
  {
   "cell_type": "markdown",
   "id": "a8824e7d",
   "metadata": {},
   "source": [
    "### EDD "
   ]
  },
  {
   "cell_type": "code",
   "execution_count": 6,
   "id": "d5a85411",
   "metadata": {},
   "outputs": [
    {
     "data": {
      "text/html": [
       "<div>\n",
       "<style scoped>\n",
       "    .dataframe tbody tr th:only-of-type {\n",
       "        vertical-align: middle;\n",
       "    }\n",
       "\n",
       "    .dataframe tbody tr th {\n",
       "        vertical-align: top;\n",
       "    }\n",
       "\n",
       "    .dataframe thead th {\n",
       "        text-align: right;\n",
       "    }\n",
       "</style>\n",
       "<table border=\"1\" class=\"dataframe\">\n",
       "  <thead>\n",
       "    <tr style=\"text-align: right;\">\n",
       "      <th></th>\n",
       "      <th>Previous_CTC</th>\n",
       "      <th>Previous_job_change</th>\n",
       "      <th>Graduation_Marks</th>\n",
       "      <th>EXP_in_Months</th>\n",
       "      <th>CTC</th>\n",
       "    </tr>\n",
       "  </thead>\n",
       "  <tbody>\n",
       "    <tr>\n",
       "      <th>count</th>\n",
       "      <td>1589.000000</td>\n",
       "      <td>1589.000000</td>\n",
       "      <td>1589.000000</td>\n",
       "      <td>1589.000000</td>\n",
       "      <td>1589.000000</td>\n",
       "    </tr>\n",
       "    <tr>\n",
       "      <th>mean</th>\n",
       "      <td>55518.453744</td>\n",
       "      <td>2.528634</td>\n",
       "      <td>59.855255</td>\n",
       "      <td>39.044682</td>\n",
       "      <td>75353.278798</td>\n",
       "    </tr>\n",
       "    <tr>\n",
       "      <th>std</th>\n",
       "      <td>6655.218445</td>\n",
       "      <td>1.123918</td>\n",
       "      <td>14.935139</td>\n",
       "      <td>14.108875</td>\n",
       "      <td>12587.288237</td>\n",
       "    </tr>\n",
       "    <tr>\n",
       "      <th>min</th>\n",
       "      <td>36990.000000</td>\n",
       "      <td>1.000000</td>\n",
       "      <td>35.000000</td>\n",
       "      <td>18.000000</td>\n",
       "      <td>53020.320000</td>\n",
       "    </tr>\n",
       "    <tr>\n",
       "      <th>25%</th>\n",
       "      <td>50518.000000</td>\n",
       "      <td>2.000000</td>\n",
       "      <td>46.000000</td>\n",
       "      <td>26.000000</td>\n",
       "      <td>66902.350000</td>\n",
       "    </tr>\n",
       "    <tr>\n",
       "      <th>50%</th>\n",
       "      <td>55291.000000</td>\n",
       "      <td>3.000000</td>\n",
       "      <td>60.000000</td>\n",
       "      <td>39.000000</td>\n",
       "      <td>73028.670000</td>\n",
       "    </tr>\n",
       "    <tr>\n",
       "      <th>75%</th>\n",
       "      <td>60109.000000</td>\n",
       "      <td>4.000000</td>\n",
       "      <td>73.000000</td>\n",
       "      <td>51.000000</td>\n",
       "      <td>80588.670000</td>\n",
       "    </tr>\n",
       "    <tr>\n",
       "      <th>max</th>\n",
       "      <td>77911.000000</td>\n",
       "      <td>4.000000</td>\n",
       "      <td>85.000000</td>\n",
       "      <td>64.000000</td>\n",
       "      <td>123416.990000</td>\n",
       "    </tr>\n",
       "  </tbody>\n",
       "</table>\n",
       "</div>"
      ],
      "text/plain": [
       "       Previous_CTC  Previous_job_change  Graduation_Marks  EXP_in_Months  \\\n",
       "count   1589.000000          1589.000000       1589.000000    1589.000000   \n",
       "mean   55518.453744             2.528634         59.855255      39.044682   \n",
       "std     6655.218445             1.123918         14.935139      14.108875   \n",
       "min    36990.000000             1.000000         35.000000      18.000000   \n",
       "25%    50518.000000             2.000000         46.000000      26.000000   \n",
       "50%    55291.000000             3.000000         60.000000      39.000000   \n",
       "75%    60109.000000             4.000000         73.000000      51.000000   \n",
       "max    77911.000000             4.000000         85.000000      64.000000   \n",
       "\n",
       "                 CTC  \n",
       "count    1589.000000  \n",
       "mean    75353.278798  \n",
       "std     12587.288237  \n",
       "min     53020.320000  \n",
       "25%     66902.350000  \n",
       "50%     73028.670000  \n",
       "75%     80588.670000  \n",
       "max    123416.990000  "
      ]
     },
     "execution_count": 6,
     "metadata": {},
     "output_type": "execute_result"
    }
   ],
   "source": [
    "df.describe() #running extended data dictionary"
   ]
  },
  {
   "cell_type": "markdown",
   "id": "f97fe9be",
   "metadata": {},
   "source": [
    "___Inference___\n",
    "\n",
    "_From the above Extended Data Dictionary or EDD, we can understand that the mean and median of the variable Previous_CTC is almost the same so, the graph of this variable will be __symmetrical__ about the middle whereas the graph of the variable CTC will be __positively skewed__ because the mean is higher than median. To prove this, I have plotted a histogram with mean and median lines on it._"
   ]
  },
  {
   "cell_type": "markdown",
   "id": "8bd4ba1c",
   "metadata": {},
   "source": [
    "### Distribution of Previous_CTC"
   ]
  },
  {
   "cell_type": "code",
   "execution_count": 7,
   "id": "601f8cb9",
   "metadata": {},
   "outputs": [
    {
     "data": {
      "image/png": "[encoded data removed]",
      "text/plain": [
       "<Figure size 504x360 with 1 Axes>"
      ]
     },
     "metadata": {
      "needs_background": "light"
     },
     "output_type": "display_data"
    }
   ],
   "source": [
    "plt.figure(figsize=(7, 5)) # defining the figure size\n",
    "\n",
    "plt.hist(df.Previous_CTC, bins=30, edgecolor='k', alpha=0.7, color='blue') # Plotting the histogram\n",
    "\n",
    "plt.axvline(x=np.mean(df.Previous_CTC), color='red', linestyle='dashed', linewidth=2) # plotting the mean line\n",
    "plt.axvline(x=np.median(df.Previous_CTC), color='green', linestyle='dashed', linewidth=2) # plotting the median line\n",
    "\n",
    "# defining the axis labels and the title of the graph\n",
    "plt.xlabel('Previous CTC')\n",
    "plt.ylabel('Frequency')\n",
    "plt.title('Distribution of Previous CTC')\n",
    "\n",
    "plt.show()\n"
   ]
  },
  {
   "cell_type": "markdown",
   "id": "d03ec494",
   "metadata": {},
   "source": [
    "### Distribution of CTC"
   ]
  },
  {
   "cell_type": "code",
   "execution_count": 8,
   "id": "63bde9d5",
   "metadata": {},
   "outputs": [
    {
     "data": {
      "image/png": "[encoded data removed]",
      "text/plain": [
       "<Figure size 576x432 with 1 Axes>"
      ]
     },
     "metadata": {
      "needs_background": "light"
     },
     "output_type": "display_data"
    }
   ],
   "source": [
    "plt.figure(figsize=(8, 6)) # defining the figure size\n",
    "\n",
    "plt.hist(df.CTC, bins=30, edgecolor='k', alpha=0.7, color='blue') # Plotting the histogram\n",
    "\n",
    "plt.axvline(x=np.mean(df.CTC), color='red', linestyle='dashed', linewidth=2) # plotting the mean line\n",
    "plt.axvline(x=np.median(df.CTC), color='green', linestyle='dashed', linewidth=2) # plotting the median line\n",
    "\n",
    "\n",
    "# defining the axis labels and the title of the graph\n",
    "plt.xlabel('CTC')\n",
    "plt.ylabel('Frequency')\n",
    "plt.title('Distribution of CTC')\n",
    "\n",
    "plt.show()\n"
   ]
  },
  {
   "cell_type": "code",
   "execution_count": 9,
   "id": "93aa8289",
   "metadata": {},
   "outputs": [
    {
     "name": "stdout",
     "output_type": "stream",
     "text": [
      "<class 'pandas.core.frame.DataFrame'>\n",
      "RangeIndex: 1589 entries, 0 to 1588\n",
      "Data columns (total 8 columns):\n",
      " #   Column               Non-Null Count  Dtype  \n",
      "---  ------               --------------  -----  \n",
      " 0   College              1589 non-null   object \n",
      " 1   City                 1589 non-null   object \n",
      " 2   Role                 1589 non-null   object \n",
      " 3   Previous_CTC         1589 non-null   int64  \n",
      " 4   Previous_job_change  1589 non-null   int64  \n",
      " 5   Graduation_Marks     1589 non-null   int64  \n",
      " 6   EXP_in_Months        1589 non-null   int64  \n",
      " 7   CTC                  1589 non-null   float64\n",
      "dtypes: float64(1), int64(4), object(3)\n",
      "memory usage: 99.4+ KB\n"
     ]
    }
   ],
   "source": [
    "df.info() #gives us the information about the data such as the count of non-null columns, data types of the columns etc"
   ]
  },
  {
   "cell_type": "markdown",
   "id": "719e43e7",
   "metadata": {},
   "source": [
    "__Inference__\n",
    "\n",
    "From the above information, we can understand that there are no null values in the dataset and there are three features with string datatype - College, City and Role."
   ]
  },
  {
   "cell_type": "code",
   "execution_count": 10,
   "id": "7ebd74d0",
   "metadata": {},
   "outputs": [
    {
     "data": {
      "text/plain": [
       "(1589, 8)"
      ]
     },
     "execution_count": 10,
     "metadata": {},
     "output_type": "execute_result"
    }
   ],
   "source": [
    "df.shape #provides us total number of rows and columns in the dataset"
   ]
  },
  {
   "cell_type": "markdown",
   "id": "0d300a53",
   "metadata": {},
   "source": [
    "# Data Pre-Processing\n",
    "\n",
    "### Assigning tier to colleges"
   ]
  },
  {
   "cell_type": "code",
   "execution_count": 11,
   "id": "9eb72726",
   "metadata": {},
   "outputs": [
    {
     "data": {
      "text/plain": [
       "['IIT Bombay',\n",
       " 'IIT Delhi',\n",
       " 'IIT Kharagpur',\n",
       " 'IIT Madras',\n",
       " 'IIT Kanpur',\n",
       " 'IIT Roorkee',\n",
       " 'IIT Guwahati',\n",
       " 'IIIT Hyderabad',\n",
       " 'BITS Pilani (Pilani Campus)',\n",
       " 'IIT Indore',\n",
       " 'IIT Ropar',\n",
       " 'IIT BHU (Varanasi)',\n",
       " 'IIT ISM Dhanbad',\n",
       " 'DTU',\n",
       " 'NSUT Delhi (NSIT)',\n",
       " 'NIT Tiruchipally (Trichy)',\n",
       " 'NIT Warangal',\n",
       " 'NIT Surathkal (Karnataka)',\n",
       " 'Jadavpur University',\n",
       " 'BITS Pilani (Hyderabad Campus)',\n",
       " 'BITS Pilani (Goa Campus)',\n",
       " 'IIIT Allahabad',\n",
       " nan,\n",
       " nan,\n",
       " nan,\n",
       " nan,\n",
       " nan,\n",
       " nan]"
      ]
     },
     "execution_count": 11,
     "metadata": {},
     "output_type": "execute_result"
    }
   ],
   "source": [
    "Tier1 = colleges['Tier1'].tolist() # converting Tier1 column of colleges data into list and storing it in variable Tier1\n",
    "Tier1"
   ]
  },
  {
   "cell_type": "code",
   "execution_count": 12,
   "id": "7747ab9f",
   "metadata": {},
   "outputs": [
    {
     "data": {
      "text/plain": [
       "['IIIT Bangalore',\n",
       " 'IIIT Delhi',\n",
       " 'IGDTUW',\n",
       " 'NIT Calicut',\n",
       " 'IIITM Gwalior',\n",
       " 'IIIT Lucknow',\n",
       " 'MNNIT Allahabad',\n",
       " 'Punjab Engineering College',\n",
       " 'DAIICT',\n",
       " 'MNIT Jaipur',\n",
       " 'NIT Durgapur',\n",
       " 'VNIT Nagpur',\n",
       " 'LNMIIT',\n",
       " 'BIT Mesra',\n",
       " 'SVNIT Surat',\n",
       " 'NIT Jalandhar',\n",
       " 'NIT Jamshedpur',\n",
       " 'NIT Kurukshetra',\n",
       " 'NIT Patna',\n",
       " 'NIT Raipur',\n",
       " 'NIT Bhopal',\n",
       " 'NIT Rourkela',\n",
       " 'NIT Silchar',\n",
       " 'NIT Sikkim',\n",
       " 'IIIT Jabalpur',\n",
       " 'Jalpaiguri Government Engineering College',\n",
       " 'IIEST/BESU Shibpur',\n",
       " 'R.V. College of Engineering']"
      ]
     },
     "execution_count": 12,
     "metadata": {},
     "output_type": "execute_result"
    }
   ],
   "source": [
    "Tier2 = colleges['Tier2'].tolist() # converting Tier2 column to list and storing it in variable Tier2\n",
    "Tier2"
   ]
  },
  {
   "cell_type": "code",
   "execution_count": 13,
   "id": "71fcb6b6",
   "metadata": {},
   "outputs": [
    {
     "data": {
      "text/plain": [
       "['Ramaiah Institute of Technology, Bengaluru',\n",
       " 'TIET/Thapar University',\n",
       " 'Manipal Main Campus',\n",
       " 'VIT Vellore',\n",
       " 'SRM Main Campus',\n",
       " 'KIIT, Bhubaneswar',\n",
       " 'Amity University',\n",
       " 'BMS College, Bangalore',\n",
       " 'PES University, Bangalore',\n",
       " 'USIT, Delhi',\n",
       " 'MAIT, Delhi',\n",
       " 'MSIT, Delhi',\n",
       " 'Dayanand College of Engineering, Bangalore',\n",
       " 'Heritage Institute of Technology, Kolkata',\n",
       " 'IEM, Kolkata',\n",
       " 'Techno India, Kolkata',\n",
       " 'Jaypee, Noida',\n",
       " 'Amrita University, Coimbatore',\n",
       " 'Cummins College of Engineering for Women, Pune',\n",
       " nan,\n",
       " nan,\n",
       " nan,\n",
       " nan,\n",
       " nan,\n",
       " nan,\n",
       " nan,\n",
       " nan,\n",
       " nan]"
      ]
     },
     "execution_count": 13,
     "metadata": {},
     "output_type": "execute_result"
    }
   ],
   "source": [
    "Tier3 = colleges['Tier3'].tolist() # converting Tier3 column to list and storing it in variable Tier3\n",
    "Tier3"
   ]
  },
  {
   "cell_type": "code",
   "execution_count": 14,
   "id": "fa68623a",
   "metadata": {},
   "outputs": [],
   "source": [
    "# the function \"assign_tier\" checks if the value is in list Tier1 or Tier2 or Tier3 and returns the respective Tier names to the\n",
    "# college names in the College column of df data and if the value is not present in the list, it returns \"Unknown\"\n",
    "def assign_tier(college):\n",
    "    if college in Tier1:\n",
    "        return \"Tier1\"\n",
    "    elif college in Tier2:\n",
    "        return \"Tier2\"\n",
    "    elif college in Tier3:\n",
    "        return \"Tier3\"\n",
    "    else:\n",
    "        return \"Unknown\""
   ]
  },
  {
   "cell_type": "code",
   "execution_count": 15,
   "id": "4c03ccfc",
   "metadata": {},
   "outputs": [
    {
     "data": {
      "text/html": [
       "<div>\n",
       "<style scoped>\n",
       "    .dataframe tbody tr th:only-of-type {\n",
       "        vertical-align: middle;\n",
       "    }\n",
       "\n",
       "    .dataframe tbody tr th {\n",
       "        vertical-align: top;\n",
       "    }\n",
       "\n",
       "    .dataframe thead th {\n",
       "        text-align: right;\n",
       "    }\n",
       "</style>\n",
       "<table border=\"1\" class=\"dataframe\">\n",
       "  <thead>\n",
       "    <tr style=\"text-align: right;\">\n",
       "      <th></th>\n",
       "      <th>College</th>\n",
       "      <th>City</th>\n",
       "      <th>Role</th>\n",
       "      <th>Previous_CTC</th>\n",
       "      <th>Previous_job_change</th>\n",
       "      <th>Graduation_Marks</th>\n",
       "      <th>EXP_in_Months</th>\n",
       "      <th>CTC</th>\n",
       "    </tr>\n",
       "  </thead>\n",
       "  <tbody>\n",
       "    <tr>\n",
       "      <th>0</th>\n",
       "      <td>Tier2</td>\n",
       "      <td>Asansol</td>\n",
       "      <td>Manager</td>\n",
       "      <td>55523</td>\n",
       "      <td>3</td>\n",
       "      <td>66</td>\n",
       "      <td>19</td>\n",
       "      <td>71406.58</td>\n",
       "    </tr>\n",
       "    <tr>\n",
       "      <th>1</th>\n",
       "      <td>Tier2</td>\n",
       "      <td>Ajmer</td>\n",
       "      <td>Executive</td>\n",
       "      <td>57081</td>\n",
       "      <td>1</td>\n",
       "      <td>84</td>\n",
       "      <td>18</td>\n",
       "      <td>68005.87</td>\n",
       "    </tr>\n",
       "    <tr>\n",
       "      <th>2</th>\n",
       "      <td>Tier3</td>\n",
       "      <td>Rajpur Sonarpur</td>\n",
       "      <td>Executive</td>\n",
       "      <td>60347</td>\n",
       "      <td>2</td>\n",
       "      <td>52</td>\n",
       "      <td>28</td>\n",
       "      <td>76764.02</td>\n",
       "    </tr>\n",
       "    <tr>\n",
       "      <th>3</th>\n",
       "      <td>Tier3</td>\n",
       "      <td>Ajmer</td>\n",
       "      <td>Executive</td>\n",
       "      <td>49010</td>\n",
       "      <td>2</td>\n",
       "      <td>81</td>\n",
       "      <td>33</td>\n",
       "      <td>82092.39</td>\n",
       "    </tr>\n",
       "    <tr>\n",
       "      <th>4</th>\n",
       "      <td>Tier1</td>\n",
       "      <td>Durgapur</td>\n",
       "      <td>Executive</td>\n",
       "      <td>57879</td>\n",
       "      <td>4</td>\n",
       "      <td>74</td>\n",
       "      <td>32</td>\n",
       "      <td>73878.10</td>\n",
       "    </tr>\n",
       "  </tbody>\n",
       "</table>\n",
       "</div>"
      ],
      "text/plain": [
       "  College             City       Role  Previous_CTC  Previous_job_change  \\\n",
       "0   Tier2          Asansol    Manager         55523                    3   \n",
       "1   Tier2            Ajmer  Executive         57081                    1   \n",
       "2   Tier3  Rajpur Sonarpur  Executive         60347                    2   \n",
       "3   Tier3            Ajmer  Executive         49010                    2   \n",
       "4   Tier1         Durgapur  Executive         57879                    4   \n",
       "\n",
       "   Graduation_Marks  EXP_in_Months       CTC  \n",
       "0                66             19  71406.58  \n",
       "1                84             18  68005.87  \n",
       "2                52             28  76764.02  \n",
       "3                81             33  82092.39  \n",
       "4                74             32  73878.10  "
      ]
     },
     "execution_count": 15,
     "metadata": {},
     "output_type": "execute_result"
    }
   ],
   "source": [
    "df[\"College\"] = df[\"College\"].apply(assign_tier) # apply changes to the college column of df data\n",
    "df.head()"
   ]
  },
  {
   "cell_type": "markdown",
   "id": "9ada9867",
   "metadata": {},
   "source": [
    "### Assigning city type - metro / non metro city to cities"
   ]
  },
  {
   "cell_type": "code",
   "execution_count": 16,
   "id": "4c568731",
   "metadata": {},
   "outputs": [
    {
     "data": {
      "text/plain": [
       "['Mumbai',\n",
       " 'Delhi',\n",
       " 'Kolkata',\n",
       " 'Chennai',\n",
       " 'Bangalore',\n",
       " 'Hyderabad',\n",
       " 'Ahmedabad',\n",
       " 'Pune',\n",
       " 'Surat']"
      ]
     },
     "execution_count": 16,
     "metadata": {},
     "output_type": "execute_result"
    }
   ],
   "source": [
    "metro_city = cities['metro_city'].tolist() \n",
    "metro_city # converting metro city column of cities data to list and storing it in variable metro_city"
   ]
  },
  {
   "cell_type": "code",
   "execution_count": 17,
   "id": "2cdbb948",
   "metadata": {},
   "outputs": [
    {
     "data": {
      "text/plain": [
       "['Dehradun',\n",
       " 'Durgapur',\n",
       " 'Asansol',\n",
       " 'Rourkela',\n",
       " 'Kozhikode',\n",
       " 'Rajpur Sonarpur',\n",
       " 'Kolhapur',\n",
       " 'Ajmer',\n",
       " nan]"
      ]
     },
     "execution_count": 17,
     "metadata": {},
     "output_type": "execute_result"
    }
   ],
   "source": [
    "non_metro_city =cities['non_metro_cities'].tolist()\n",
    "non_metro_city # converting non metro city column of cities data to list and storing it in variable non_metro_city"
   ]
  },
  {
   "cell_type": "code",
   "execution_count": 18,
   "id": "25b4a79f",
   "metadata": {},
   "outputs": [],
   "source": [
    "# the function \"assign_city\" checks if the city name is present in the metro_city list or non_metro_city list and returns the\n",
    "# value metro city or non metro city respectively and Unknown if city is not present in either of the lists.\n",
    "def assign_city(city):\n",
    "    if city in metro_city:\n",
    "        return \"metro city\"\n",
    "    if city in non_metro_city:\n",
    "        return \"non metro city\"\n",
    "    else:\n",
    "        return \"Unknown\""
   ]
  },
  {
   "cell_type": "code",
   "execution_count": 19,
   "id": "91c1dd5c",
   "metadata": {},
   "outputs": [],
   "source": [
    "df['City'] = df['City'].apply(assign_city) # changes are reflected on the df data"
   ]
  },
  {
   "cell_type": "code",
   "execution_count": 20,
   "id": "a9cbfd69",
   "metadata": {},
   "outputs": [
    {
     "data": {
      "text/html": [
       "<div>\n",
       "<style scoped>\n",
       "    .dataframe tbody tr th:only-of-type {\n",
       "        vertical-align: middle;\n",
       "    }\n",
       "\n",
       "    .dataframe tbody tr th {\n",
       "        vertical-align: top;\n",
       "    }\n",
       "\n",
       "    .dataframe thead th {\n",
       "        text-align: right;\n",
       "    }\n",
       "</style>\n",
       "<table border=\"1\" class=\"dataframe\">\n",
       "  <thead>\n",
       "    <tr style=\"text-align: right;\">\n",
       "      <th></th>\n",
       "      <th>College</th>\n",
       "      <th>City</th>\n",
       "      <th>Role</th>\n",
       "      <th>Previous_CTC</th>\n",
       "      <th>Previous_job_change</th>\n",
       "      <th>Graduation_Marks</th>\n",
       "      <th>EXP_in_Months</th>\n",
       "      <th>CTC</th>\n",
       "    </tr>\n",
       "  </thead>\n",
       "  <tbody>\n",
       "    <tr>\n",
       "      <th>0</th>\n",
       "      <td>Tier2</td>\n",
       "      <td>non metro city</td>\n",
       "      <td>Manager</td>\n",
       "      <td>55523</td>\n",
       "      <td>3</td>\n",
       "      <td>66</td>\n",
       "      <td>19</td>\n",
       "      <td>71406.58</td>\n",
       "    </tr>\n",
       "    <tr>\n",
       "      <th>1</th>\n",
       "      <td>Tier2</td>\n",
       "      <td>non metro city</td>\n",
       "      <td>Executive</td>\n",
       "      <td>57081</td>\n",
       "      <td>1</td>\n",
       "      <td>84</td>\n",
       "      <td>18</td>\n",
       "      <td>68005.87</td>\n",
       "    </tr>\n",
       "    <tr>\n",
       "      <th>2</th>\n",
       "      <td>Tier3</td>\n",
       "      <td>non metro city</td>\n",
       "      <td>Executive</td>\n",
       "      <td>60347</td>\n",
       "      <td>2</td>\n",
       "      <td>52</td>\n",
       "      <td>28</td>\n",
       "      <td>76764.02</td>\n",
       "    </tr>\n",
       "    <tr>\n",
       "      <th>3</th>\n",
       "      <td>Tier3</td>\n",
       "      <td>non metro city</td>\n",
       "      <td>Executive</td>\n",
       "      <td>49010</td>\n",
       "      <td>2</td>\n",
       "      <td>81</td>\n",
       "      <td>33</td>\n",
       "      <td>82092.39</td>\n",
       "    </tr>\n",
       "    <tr>\n",
       "      <th>4</th>\n",
       "      <td>Tier1</td>\n",
       "      <td>non metro city</td>\n",
       "      <td>Executive</td>\n",
       "      <td>57879</td>\n",
       "      <td>4</td>\n",
       "      <td>74</td>\n",
       "      <td>32</td>\n",
       "      <td>73878.10</td>\n",
       "    </tr>\n",
       "    <tr>\n",
       "      <th>5</th>\n",
       "      <td>Tier2</td>\n",
       "      <td>non metro city</td>\n",
       "      <td>Executive</td>\n",
       "      <td>54340</td>\n",
       "      <td>4</td>\n",
       "      <td>73</td>\n",
       "      <td>31</td>\n",
       "      <td>59950.89</td>\n",
       "    </tr>\n",
       "    <tr>\n",
       "      <th>6</th>\n",
       "      <td>Tier3</td>\n",
       "      <td>metro city</td>\n",
       "      <td>Executive</td>\n",
       "      <td>60298</td>\n",
       "      <td>1</td>\n",
       "      <td>42</td>\n",
       "      <td>46</td>\n",
       "      <td>66602.34</td>\n",
       "    </tr>\n",
       "    <tr>\n",
       "      <th>7</th>\n",
       "      <td>Tier2</td>\n",
       "      <td>metro city</td>\n",
       "      <td>Executive</td>\n",
       "      <td>49944</td>\n",
       "      <td>2</td>\n",
       "      <td>56</td>\n",
       "      <td>37</td>\n",
       "      <td>57768.44</td>\n",
       "    </tr>\n",
       "    <tr>\n",
       "      <th>8</th>\n",
       "      <td>Tier3</td>\n",
       "      <td>metro city</td>\n",
       "      <td>Executive</td>\n",
       "      <td>53124</td>\n",
       "      <td>4</td>\n",
       "      <td>40</td>\n",
       "      <td>37</td>\n",
       "      <td>70083.30</td>\n",
       "    </tr>\n",
       "    <tr>\n",
       "      <th>9</th>\n",
       "      <td>Tier1</td>\n",
       "      <td>non metro city</td>\n",
       "      <td>Executive</td>\n",
       "      <td>51141</td>\n",
       "      <td>1</td>\n",
       "      <td>47</td>\n",
       "      <td>60</td>\n",
       "      <td>85648.48</td>\n",
       "    </tr>\n",
       "  </tbody>\n",
       "</table>\n",
       "</div>"
      ],
      "text/plain": [
       "  College            City       Role  Previous_CTC  Previous_job_change  \\\n",
       "0   Tier2  non metro city    Manager         55523                    3   \n",
       "1   Tier2  non metro city  Executive         57081                    1   \n",
       "2   Tier3  non metro city  Executive         60347                    2   \n",
       "3   Tier3  non metro city  Executive         49010                    2   \n",
       "4   Tier1  non metro city  Executive         57879                    4   \n",
       "5   Tier2  non metro city  Executive         54340                    4   \n",
       "6   Tier3      metro city  Executive         60298                    1   \n",
       "7   Tier2      metro city  Executive         49944                    2   \n",
       "8   Tier3      metro city  Executive         53124                    4   \n",
       "9   Tier1  non metro city  Executive         51141                    1   \n",
       "\n",
       "   Graduation_Marks  EXP_in_Months       CTC  \n",
       "0                66             19  71406.58  \n",
       "1                84             18  68005.87  \n",
       "2                52             28  76764.02  \n",
       "3                81             33  82092.39  \n",
       "4                74             32  73878.10  \n",
       "5                73             31  59950.89  \n",
       "6                42             46  66602.34  \n",
       "7                56             37  57768.44  \n",
       "8                40             37  70083.30  \n",
       "9                47             60  85648.48  "
      ]
     },
     "execution_count": 20,
     "metadata": {},
     "output_type": "execute_result"
    }
   ],
   "source": [
    "df.head(10)"
   ]
  },
  {
   "cell_type": "code",
   "execution_count": 21,
   "id": "0a9b619e",
   "metadata": {},
   "outputs": [
    {
     "data": {
      "text/plain": [
       "<AxesSubplot:xlabel='College', ylabel='count'>"
      ]
     },
     "execution_count": 21,
     "metadata": {},
     "output_type": "execute_result"
    },
    {
     "data": {
      "image/png": "[encoded data removed]",
      "text/plain": [
       "<Figure size 432x288 with 1 Axes>"
      ]
     },
     "metadata": {
      "needs_background": "light"
     },
     "output_type": "display_data"
    }
   ],
   "source": [
    "# plotting a countplot of college tiers using seaborn and sorting it in descending order; color of the bar is aquamarine\n",
    "sns.countplot(x=\"College\",data = df,color=\"aquamarine\",order=df['College'].value_counts().index)"
   ]
  },
  {
   "cell_type": "code",
   "execution_count": 22,
   "id": "db1c766d",
   "metadata": {},
   "outputs": [
    {
     "data": {
      "text/plain": [
       "<AxesSubplot:xlabel='Role', ylabel='count'>"
      ]
     },
     "execution_count": 22,
     "metadata": {},
     "output_type": "execute_result"
    },
    {
     "data": {
      "image/png": "[encoded data removed]",
      "text/plain": [
       "<Figure size 432x288 with 1 Axes>"
      ]
     },
     "metadata": {
      "needs_background": "light"
     },
     "output_type": "display_data"
    }
   ],
   "source": [
    "# plotting a countplot of Role and sorting it in descending order; color of the bar is tomato \n",
    "sns.countplot(x=\"Role\",data = df,color =\"tomato\",saturation = 0.9,order=df['Role'].value_counts().index)"
   ]
  },
  {
   "cell_type": "code",
   "execution_count": 23,
   "id": "760af596",
   "metadata": {},
   "outputs": [
    {
     "data": {
      "text/plain": [
       "<AxesSubplot:xlabel='City', ylabel='count'>"
      ]
     },
     "execution_count": 23,
     "metadata": {},
     "output_type": "execute_result"
    },
    {
     "data": {
      "image/png": "[encoded data removed]",
      "text/plain": [
       "<Figure size 432x288 with 1 Axes>"
      ]
     },
     "metadata": {
      "needs_background": "light"
     },
     "output_type": "display_data"
    }
   ],
   "source": [
    "# plotting a countplot of cities and sorting it in descending order; color of the bar is lawngreen\n",
    "sns.countplot(x=\"City\",data = df,color=\"lawngreen\",saturation = 0.8,order=df['City'].value_counts().index)"
   ]
  },
  {
   "cell_type": "markdown",
   "id": "02ab6971",
   "metadata": {},
   "source": [
    "### One-hot encoding"
   ]
  },
  {
   "cell_type": "code",
   "execution_count": 24,
   "id": "ec231204",
   "metadata": {},
   "outputs": [
    {
     "data": {
      "text/html": [
       "<div>\n",
       "<style scoped>\n",
       "    .dataframe tbody tr th:only-of-type {\n",
       "        vertical-align: middle;\n",
       "    }\n",
       "\n",
       "    .dataframe tbody tr th {\n",
       "        vertical-align: top;\n",
       "    }\n",
       "\n",
       "    .dataframe thead th {\n",
       "        text-align: right;\n",
       "    }\n",
       "</style>\n",
       "<table border=\"1\" class=\"dataframe\">\n",
       "  <thead>\n",
       "    <tr style=\"text-align: right;\">\n",
       "      <th></th>\n",
       "      <th>Previous_CTC</th>\n",
       "      <th>Previous_job_change</th>\n",
       "      <th>Graduation_Marks</th>\n",
       "      <th>EXP_in_Months</th>\n",
       "      <th>CTC</th>\n",
       "      <th>College_Tier2</th>\n",
       "      <th>College_Tier3</th>\n",
       "      <th>City_non metro city</th>\n",
       "      <th>Role_Manager</th>\n",
       "    </tr>\n",
       "  </thead>\n",
       "  <tbody>\n",
       "    <tr>\n",
       "      <th>0</th>\n",
       "      <td>55523</td>\n",
       "      <td>3</td>\n",
       "      <td>66</td>\n",
       "      <td>19</td>\n",
       "      <td>71406.58</td>\n",
       "      <td>1</td>\n",
       "      <td>0</td>\n",
       "      <td>1</td>\n",
       "      <td>1</td>\n",
       "    </tr>\n",
       "    <tr>\n",
       "      <th>1</th>\n",
       "      <td>57081</td>\n",
       "      <td>1</td>\n",
       "      <td>84</td>\n",
       "      <td>18</td>\n",
       "      <td>68005.87</td>\n",
       "      <td>1</td>\n",
       "      <td>0</td>\n",
       "      <td>1</td>\n",
       "      <td>0</td>\n",
       "    </tr>\n",
       "    <tr>\n",
       "      <th>2</th>\n",
       "      <td>60347</td>\n",
       "      <td>2</td>\n",
       "      <td>52</td>\n",
       "      <td>28</td>\n",
       "      <td>76764.02</td>\n",
       "      <td>0</td>\n",
       "      <td>1</td>\n",
       "      <td>1</td>\n",
       "      <td>0</td>\n",
       "    </tr>\n",
       "    <tr>\n",
       "      <th>3</th>\n",
       "      <td>49010</td>\n",
       "      <td>2</td>\n",
       "      <td>81</td>\n",
       "      <td>33</td>\n",
       "      <td>82092.39</td>\n",
       "      <td>0</td>\n",
       "      <td>1</td>\n",
       "      <td>1</td>\n",
       "      <td>0</td>\n",
       "    </tr>\n",
       "    <tr>\n",
       "      <th>4</th>\n",
       "      <td>57879</td>\n",
       "      <td>4</td>\n",
       "      <td>74</td>\n",
       "      <td>32</td>\n",
       "      <td>73878.10</td>\n",
       "      <td>0</td>\n",
       "      <td>0</td>\n",
       "      <td>1</td>\n",
       "      <td>0</td>\n",
       "    </tr>\n",
       "  </tbody>\n",
       "</table>\n",
       "</div>"
      ],
      "text/plain": [
       "   Previous_CTC  Previous_job_change  Graduation_Marks  EXP_in_Months  \\\n",
       "0         55523                    3                66             19   \n",
       "1         57081                    1                84             18   \n",
       "2         60347                    2                52             28   \n",
       "3         49010                    2                81             33   \n",
       "4         57879                    4                74             32   \n",
       "\n",
       "        CTC  College_Tier2  College_Tier3  City_non metro city  Role_Manager  \n",
       "0  71406.58              1              0                    1             1  \n",
       "1  68005.87              1              0                    1             0  \n",
       "2  76764.02              0              1                    1             0  \n",
       "3  82092.39              0              1                    1             0  \n",
       "4  73878.10              0              0                    1             0  "
      ]
     },
     "execution_count": 24,
     "metadata": {},
     "output_type": "execute_result"
    }
   ],
   "source": [
    "# changes categorical features into numerical features; drop_first is used to remove the first column for getting n-1 columns\n",
    "df = pd.get_dummies(df,drop_first = True) \n",
    "df.head()"
   ]
  },
  {
   "cell_type": "markdown",
   "id": "86f544d7",
   "metadata": {},
   "source": [
    "# Correlation Analysis"
   ]
  },
  {
   "cell_type": "code",
   "execution_count": 25,
   "id": "d7543916",
   "metadata": {},
   "outputs": [
    {
     "data": {
      "text/html": [
       "<div>\n",
       "<style scoped>\n",
       "    .dataframe tbody tr th:only-of-type {\n",
       "        vertical-align: middle;\n",
       "    }\n",
       "\n",
       "    .dataframe tbody tr th {\n",
       "        vertical-align: top;\n",
       "    }\n",
       "\n",
       "    .dataframe thead th {\n",
       "        text-align: right;\n",
       "    }\n",
       "</style>\n",
       "<table border=\"1\" class=\"dataframe\">\n",
       "  <thead>\n",
       "    <tr style=\"text-align: right;\">\n",
       "      <th></th>\n",
       "      <th>Previous_CTC</th>\n",
       "      <th>Previous_job_change</th>\n",
       "      <th>Graduation_Marks</th>\n",
       "      <th>EXP_in_Months</th>\n",
       "      <th>CTC</th>\n",
       "      <th>College_Tier2</th>\n",
       "      <th>College_Tier3</th>\n",
       "      <th>City_non metro city</th>\n",
       "      <th>Role_Manager</th>\n",
       "    </tr>\n",
       "  </thead>\n",
       "  <tbody>\n",
       "    <tr>\n",
       "      <th>Previous_CTC</th>\n",
       "      <td>1.000000</td>\n",
       "      <td>0.005756</td>\n",
       "      <td>-0.032976</td>\n",
       "      <td>0.119163</td>\n",
       "      <td>0.258000</td>\n",
       "      <td>-0.010947</td>\n",
       "      <td>0.042438</td>\n",
       "      <td>-0.004644</td>\n",
       "      <td>0.012321</td>\n",
       "    </tr>\n",
       "    <tr>\n",
       "      <th>Previous_job_change</th>\n",
       "      <td>0.005756</td>\n",
       "      <td>1.000000</td>\n",
       "      <td>0.019267</td>\n",
       "      <td>0.023488</td>\n",
       "      <td>0.011370</td>\n",
       "      <td>0.004271</td>\n",
       "      <td>-0.050794</td>\n",
       "      <td>-0.051670</td>\n",
       "      <td>-0.017150</td>\n",
       "    </tr>\n",
       "    <tr>\n",
       "      <th>Graduation_Marks</th>\n",
       "      <td>-0.032976</td>\n",
       "      <td>0.019267</td>\n",
       "      <td>1.000000</td>\n",
       "      <td>-0.057061</td>\n",
       "      <td>-0.005450</td>\n",
       "      <td>-0.018419</td>\n",
       "      <td>0.012021</td>\n",
       "      <td>0.018616</td>\n",
       "      <td>0.017858</td>\n",
       "    </tr>\n",
       "    <tr>\n",
       "      <th>EXP_in_Months</th>\n",
       "      <td>0.119163</td>\n",
       "      <td>0.023488</td>\n",
       "      <td>-0.057061</td>\n",
       "      <td>1.000000</td>\n",
       "      <td>0.301115</td>\n",
       "      <td>-0.014558</td>\n",
       "      <td>0.017427</td>\n",
       "      <td>0.023613</td>\n",
       "      <td>-0.026751</td>\n",
       "    </tr>\n",
       "    <tr>\n",
       "      <th>CTC</th>\n",
       "      <td>0.258000</td>\n",
       "      <td>0.011370</td>\n",
       "      <td>-0.005450</td>\n",
       "      <td>0.301115</td>\n",
       "      <td>1.000000</td>\n",
       "      <td>0.012346</td>\n",
       "      <td>-0.032149</td>\n",
       "      <td>0.020365</td>\n",
       "      <td>0.621311</td>\n",
       "    </tr>\n",
       "    <tr>\n",
       "      <th>College_Tier2</th>\n",
       "      <td>-0.010947</td>\n",
       "      <td>0.004271</td>\n",
       "      <td>-0.018419</td>\n",
       "      <td>-0.014558</td>\n",
       "      <td>0.012346</td>\n",
       "      <td>1.000000</td>\n",
       "      <td>-0.465741</td>\n",
       "      <td>-0.022917</td>\n",
       "      <td>-0.004865</td>\n",
       "    </tr>\n",
       "    <tr>\n",
       "      <th>College_Tier3</th>\n",
       "      <td>0.042438</td>\n",
       "      <td>-0.050794</td>\n",
       "      <td>0.012021</td>\n",
       "      <td>0.017427</td>\n",
       "      <td>-0.032149</td>\n",
       "      <td>-0.465741</td>\n",
       "      <td>1.000000</td>\n",
       "      <td>0.024288</td>\n",
       "      <td>-0.010706</td>\n",
       "    </tr>\n",
       "    <tr>\n",
       "      <th>City_non metro city</th>\n",
       "      <td>-0.004644</td>\n",
       "      <td>-0.051670</td>\n",
       "      <td>0.018616</td>\n",
       "      <td>0.023613</td>\n",
       "      <td>0.020365</td>\n",
       "      <td>-0.022917</td>\n",
       "      <td>0.024288</td>\n",
       "      <td>1.000000</td>\n",
       "      <td>0.048671</td>\n",
       "    </tr>\n",
       "    <tr>\n",
       "      <th>Role_Manager</th>\n",
       "      <td>0.012321</td>\n",
       "      <td>-0.017150</td>\n",
       "      <td>0.017858</td>\n",
       "      <td>-0.026751</td>\n",
       "      <td>0.621311</td>\n",
       "      <td>-0.004865</td>\n",
       "      <td>-0.010706</td>\n",
       "      <td>0.048671</td>\n",
       "      <td>1.000000</td>\n",
       "    </tr>\n",
       "  </tbody>\n",
       "</table>\n",
       "</div>"
      ],
      "text/plain": [
       "                     Previous_CTC  Previous_job_change  Graduation_Marks  \\\n",
       "Previous_CTC             1.000000             0.005756         -0.032976   \n",
       "Previous_job_change      0.005756             1.000000          0.019267   \n",
       "Graduation_Marks        -0.032976             0.019267          1.000000   \n",
       "EXP_in_Months            0.119163             0.023488         -0.057061   \n",
       "CTC                      0.258000             0.011370         -0.005450   \n",
       "College_Tier2           -0.010947             0.004271         -0.018419   \n",
       "College_Tier3            0.042438            -0.050794          0.012021   \n",
       "City_non metro city     -0.004644            -0.051670          0.018616   \n",
       "Role_Manager             0.012321            -0.017150          0.017858   \n",
       "\n",
       "                     EXP_in_Months       CTC  College_Tier2  College_Tier3  \\\n",
       "Previous_CTC              0.119163  0.258000      -0.010947       0.042438   \n",
       "Previous_job_change       0.023488  0.011370       0.004271      -0.050794   \n",
       "Graduation_Marks         -0.057061 -0.005450      -0.018419       0.012021   \n",
       "EXP_in_Months             1.000000  0.301115      -0.014558       0.017427   \n",
       "CTC                       0.301115  1.000000       0.012346      -0.032149   \n",
       "College_Tier2            -0.014558  0.012346       1.000000      -0.465741   \n",
       "College_Tier3             0.017427 -0.032149      -0.465741       1.000000   \n",
       "City_non metro city       0.023613  0.020365      -0.022917       0.024288   \n",
       "Role_Manager             -0.026751  0.621311      -0.004865      -0.010706   \n",
       "\n",
       "                     City_non metro city  Role_Manager  \n",
       "Previous_CTC                   -0.004644      0.012321  \n",
       "Previous_job_change            -0.051670     -0.017150  \n",
       "Graduation_Marks                0.018616      0.017858  \n",
       "EXP_in_Months                   0.023613     -0.026751  \n",
       "CTC                             0.020365      0.621311  \n",
       "College_Tier2                  -0.022917     -0.004865  \n",
       "College_Tier3                   0.024288     -0.010706  \n",
       "City_non metro city             1.000000      0.048671  \n",
       "Role_Manager                    0.048671      1.000000  "
      ]
     },
     "execution_count": 25,
     "metadata": {},
     "output_type": "execute_result"
    }
   ],
   "source": [
    "df.corr() # gives a correlation matrix"
   ]
  },
  {
   "cell_type": "markdown",
   "id": "d8d221de",
   "metadata": {},
   "source": [
    "### _Correlation Matrix Observations:_\n",
    "- _Previous_job_change feature has no correlation with the dependent variable (CTC) or any other variable in the matrix_\n",
    "- _Graduation_Marks feature has no correlation with the dependent variable (CTC) or any other variable in the matrix_\n",
    "- _College_Tier2 and College_Tier3 have no correlation with the dependent variable but they have a weak negative linear_ _correlation between themselves_\n",
    "- _City_non metro city has no correlation with the dependent variable or any other feature in the matrix_"
   ]
  },
  {
   "cell_type": "markdown",
   "id": "4775af26",
   "metadata": {},
   "source": [
    "### Feature Selection"
   ]
  },
  {
   "cell_type": "code",
   "execution_count": 26,
   "id": "6bce169e",
   "metadata": {},
   "outputs": [],
   "source": [
    "del df['Previous_job_change'] # deleting the previous_job_change feature since it has no correlation with the CTC"
   ]
  },
  {
   "cell_type": "code",
   "execution_count": 27,
   "id": "dab5d088",
   "metadata": {},
   "outputs": [
    {
     "data": {
      "text/plain": [
       "<seaborn.axisgrid.JointGrid at 0x18df6d6fbe0>"
      ]
     },
     "execution_count": 27,
     "metadata": {},
     "output_type": "execute_result"
    },
    {
     "data": {
      "image/png": "[encoded data removed]",
      "text/plain": [
       "<Figure size 432x432 with 3 Axes>"
      ]
     },
     "metadata": {
      "needs_background": "light"
     },
     "output_type": "display_data"
    }
   ],
   "source": [
    "# plotting a jointplot with a regression line of Graduation_Marks(independent variable) and CTC (dependent variable); \n",
    "# color of the regression line is cyan\n",
    "sns.jointplot(x=\"Graduation_Marks\",y=\"CTC\", data = df,kind=\"reg\",joint_kws={'line_kws':{'color':'cyan'}})"
   ]
  },
  {
   "cell_type": "code",
   "execution_count": 28,
   "id": "fd58b68c",
   "metadata": {},
   "outputs": [],
   "source": [
    "del df['Graduation_Marks'] # deleting Graduation_Marks feature since it has no correlation with the CTC"
   ]
  },
  {
   "cell_type": "code",
   "execution_count": 29,
   "id": "cba6df38",
   "metadata": {},
   "outputs": [],
   "source": [
    "del df['City_non metro city'] # deleting City_non metro city since it has no correlation with the CTC"
   ]
  },
  {
   "cell_type": "code",
   "execution_count": 30,
   "id": "4002b480",
   "metadata": {},
   "outputs": [
    {
     "data": {
      "text/html": [
       "<div>\n",
       "<style scoped>\n",
       "    .dataframe tbody tr th:only-of-type {\n",
       "        vertical-align: middle;\n",
       "    }\n",
       "\n",
       "    .dataframe tbody tr th {\n",
       "        vertical-align: top;\n",
       "    }\n",
       "\n",
       "    .dataframe thead th {\n",
       "        text-align: right;\n",
       "    }\n",
       "</style>\n",
       "<table border=\"1\" class=\"dataframe\">\n",
       "  <thead>\n",
       "    <tr style=\"text-align: right;\">\n",
       "      <th></th>\n",
       "      <th>Previous_CTC</th>\n",
       "      <th>EXP_in_Months</th>\n",
       "      <th>CTC</th>\n",
       "      <th>College_Tier2</th>\n",
       "      <th>College_Tier3</th>\n",
       "      <th>Role_Manager</th>\n",
       "    </tr>\n",
       "  </thead>\n",
       "  <tbody>\n",
       "    <tr>\n",
       "      <th>0</th>\n",
       "      <td>55523</td>\n",
       "      <td>19</td>\n",
       "      <td>71406.58</td>\n",
       "      <td>1</td>\n",
       "      <td>0</td>\n",
       "      <td>1</td>\n",
       "    </tr>\n",
       "    <tr>\n",
       "      <th>1</th>\n",
       "      <td>57081</td>\n",
       "      <td>18</td>\n",
       "      <td>68005.87</td>\n",
       "      <td>1</td>\n",
       "      <td>0</td>\n",
       "      <td>0</td>\n",
       "    </tr>\n",
       "    <tr>\n",
       "      <th>2</th>\n",
       "      <td>60347</td>\n",
       "      <td>28</td>\n",
       "      <td>76764.02</td>\n",
       "      <td>0</td>\n",
       "      <td>1</td>\n",
       "      <td>0</td>\n",
       "    </tr>\n",
       "    <tr>\n",
       "      <th>3</th>\n",
       "      <td>49010</td>\n",
       "      <td>33</td>\n",
       "      <td>82092.39</td>\n",
       "      <td>0</td>\n",
       "      <td>1</td>\n",
       "      <td>0</td>\n",
       "    </tr>\n",
       "    <tr>\n",
       "      <th>4</th>\n",
       "      <td>57879</td>\n",
       "      <td>32</td>\n",
       "      <td>73878.10</td>\n",
       "      <td>0</td>\n",
       "      <td>0</td>\n",
       "      <td>0</td>\n",
       "    </tr>\n",
       "  </tbody>\n",
       "</table>\n",
       "</div>"
      ],
      "text/plain": [
       "   Previous_CTC  EXP_in_Months       CTC  College_Tier2  College_Tier3  \\\n",
       "0         55523             19  71406.58              1              0   \n",
       "1         57081             18  68005.87              1              0   \n",
       "2         60347             28  76764.02              0              1   \n",
       "3         49010             33  82092.39              0              1   \n",
       "4         57879             32  73878.10              0              0   \n",
       "\n",
       "   Role_Manager  \n",
       "0             1  \n",
       "1             0  \n",
       "2             0  \n",
       "3             0  \n",
       "4             0  "
      ]
     },
     "execution_count": 30,
     "metadata": {},
     "output_type": "execute_result"
    }
   ],
   "source": [
    "df.head()"
   ]
  },
  {
   "cell_type": "markdown",
   "id": "c548f859",
   "metadata": {},
   "source": [
    "### Bi-variate Analysis"
   ]
  },
  {
   "cell_type": "code",
   "execution_count": 31,
   "id": "4f19e73a",
   "metadata": {},
   "outputs": [
    {
     "data": {
      "text/plain": [
       "<seaborn.axisgrid.JointGrid at 0x18df760d5b0>"
      ]
     },
     "execution_count": 31,
     "metadata": {},
     "output_type": "execute_result"
    },
    {
     "data": {
      "image/png": "[encoded data removed]",
      "text/plain": [
       "<Figure size 432x432 with 3 Axes>"
      ]
     },
     "metadata": {
      "needs_background": "light"
     },
     "output_type": "display_data"
    }
   ],
   "source": [
    "# plotting a jointplot with regression line of Previous_CTC(independent variable) and CTC(dependent variable) using seaborn\n",
    "sns.jointplot(data = df,x=\"Previous_CTC\",y=\"CTC\",kind=\"reg\",joint_kws={'line_kws':{'color':'cyan'}})"
   ]
  },
  {
   "cell_type": "markdown",
   "id": "013aa4c2",
   "metadata": {},
   "source": [
    "___Inference___\n",
    "\n",
    "_The feature Previous_CTC has positive linear relationship with CTC. However, there seems to be some outliers._"
   ]
  },
  {
   "cell_type": "markdown",
   "id": "c89d8b8a",
   "metadata": {},
   "source": [
    "### Outlier Treatment "
   ]
  },
  {
   "cell_type": "code",
   "execution_count": 32,
   "id": "154a36f1",
   "metadata": {},
   "outputs": [
    {
     "data": {
      "text/html": [
       "<div>\n",
       "<style scoped>\n",
       "    .dataframe tbody tr th:only-of-type {\n",
       "        vertical-align: middle;\n",
       "    }\n",
       "\n",
       "    .dataframe tbody tr th {\n",
       "        vertical-align: top;\n",
       "    }\n",
       "\n",
       "    .dataframe thead th {\n",
       "        text-align: right;\n",
       "    }\n",
       "</style>\n",
       "<table border=\"1\" class=\"dataframe\">\n",
       "  <thead>\n",
       "    <tr style=\"text-align: right;\">\n",
       "      <th></th>\n",
       "      <th>Previous_CTC</th>\n",
       "      <th>EXP_in_Months</th>\n",
       "      <th>CTC</th>\n",
       "      <th>College_Tier2</th>\n",
       "      <th>College_Tier3</th>\n",
       "      <th>Role_Manager</th>\n",
       "    </tr>\n",
       "  </thead>\n",
       "  <tbody>\n",
       "    <tr>\n",
       "      <th>116</th>\n",
       "      <td>77911</td>\n",
       "      <td>58</td>\n",
       "      <td>87831.62</td>\n",
       "      <td>0</td>\n",
       "      <td>1</td>\n",
       "      <td>0</td>\n",
       "    </tr>\n",
       "    <tr>\n",
       "      <th>292</th>\n",
       "      <td>74198</td>\n",
       "      <td>25</td>\n",
       "      <td>99644.51</td>\n",
       "      <td>0</td>\n",
       "      <td>1</td>\n",
       "      <td>1</td>\n",
       "    </tr>\n",
       "    <tr>\n",
       "      <th>543</th>\n",
       "      <td>73856</td>\n",
       "      <td>54</td>\n",
       "      <td>121362.73</td>\n",
       "      <td>0</td>\n",
       "      <td>0</td>\n",
       "      <td>1</td>\n",
       "    </tr>\n",
       "    <tr>\n",
       "      <th>572</th>\n",
       "      <td>71543</td>\n",
       "      <td>30</td>\n",
       "      <td>61366.78</td>\n",
       "      <td>0</td>\n",
       "      <td>0</td>\n",
       "      <td>0</td>\n",
       "    </tr>\n",
       "    <tr>\n",
       "      <th>701</th>\n",
       "      <td>71549</td>\n",
       "      <td>50</td>\n",
       "      <td>83116.21</td>\n",
       "      <td>1</td>\n",
       "      <td>0</td>\n",
       "      <td>0</td>\n",
       "    </tr>\n",
       "    <tr>\n",
       "      <th>847</th>\n",
       "      <td>71756</td>\n",
       "      <td>23</td>\n",
       "      <td>72141.43</td>\n",
       "      <td>0</td>\n",
       "      <td>0</td>\n",
       "      <td>0</td>\n",
       "    </tr>\n",
       "    <tr>\n",
       "      <th>860</th>\n",
       "      <td>75785</td>\n",
       "      <td>37</td>\n",
       "      <td>110338.25</td>\n",
       "      <td>0</td>\n",
       "      <td>0</td>\n",
       "      <td>1</td>\n",
       "    </tr>\n",
       "    <tr>\n",
       "      <th>941</th>\n",
       "      <td>72319</td>\n",
       "      <td>50</td>\n",
       "      <td>63538.43</td>\n",
       "      <td>0</td>\n",
       "      <td>1</td>\n",
       "      <td>0</td>\n",
       "    </tr>\n",
       "    <tr>\n",
       "      <th>1024</th>\n",
       "      <td>72661</td>\n",
       "      <td>47</td>\n",
       "      <td>70238.70</td>\n",
       "      <td>0</td>\n",
       "      <td>0</td>\n",
       "      <td>0</td>\n",
       "    </tr>\n",
       "    <tr>\n",
       "      <th>1047</th>\n",
       "      <td>73214</td>\n",
       "      <td>22</td>\n",
       "      <td>100119.53</td>\n",
       "      <td>0</td>\n",
       "      <td>0</td>\n",
       "      <td>1</td>\n",
       "    </tr>\n",
       "    <tr>\n",
       "      <th>1067</th>\n",
       "      <td>71760</td>\n",
       "      <td>39</td>\n",
       "      <td>71187.52</td>\n",
       "      <td>0</td>\n",
       "      <td>1</td>\n",
       "      <td>0</td>\n",
       "    </tr>\n",
       "    <tr>\n",
       "      <th>1088</th>\n",
       "      <td>76815</td>\n",
       "      <td>52</td>\n",
       "      <td>82684.17</td>\n",
       "      <td>0</td>\n",
       "      <td>1</td>\n",
       "      <td>0</td>\n",
       "    </tr>\n",
       "    <tr>\n",
       "      <th>1131</th>\n",
       "      <td>74256</td>\n",
       "      <td>27</td>\n",
       "      <td>83023.18</td>\n",
       "      <td>1</td>\n",
       "      <td>0</td>\n",
       "      <td>0</td>\n",
       "    </tr>\n",
       "    <tr>\n",
       "      <th>1317</th>\n",
       "      <td>76070</td>\n",
       "      <td>18</td>\n",
       "      <td>58309.56</td>\n",
       "      <td>0</td>\n",
       "      <td>0</td>\n",
       "      <td>0</td>\n",
       "    </tr>\n",
       "    <tr>\n",
       "      <th>1332</th>\n",
       "      <td>72649</td>\n",
       "      <td>52</td>\n",
       "      <td>78861.46</td>\n",
       "      <td>0</td>\n",
       "      <td>1</td>\n",
       "      <td>0</td>\n",
       "    </tr>\n",
       "    <tr>\n",
       "      <th>1454</th>\n",
       "      <td>77911</td>\n",
       "      <td>58</td>\n",
       "      <td>87831.62</td>\n",
       "      <td>0</td>\n",
       "      <td>0</td>\n",
       "      <td>0</td>\n",
       "    </tr>\n",
       "  </tbody>\n",
       "</table>\n",
       "</div>"
      ],
      "text/plain": [
       "      Previous_CTC  EXP_in_Months        CTC  College_Tier2  College_Tier3  \\\n",
       "116          77911             58   87831.62              0              1   \n",
       "292          74198             25   99644.51              0              1   \n",
       "543          73856             54  121362.73              0              0   \n",
       "572          71543             30   61366.78              0              0   \n",
       "701          71549             50   83116.21              1              0   \n",
       "847          71756             23   72141.43              0              0   \n",
       "860          75785             37  110338.25              0              0   \n",
       "941          72319             50   63538.43              0              1   \n",
       "1024         72661             47   70238.70              0              0   \n",
       "1047         73214             22  100119.53              0              0   \n",
       "1067         71760             39   71187.52              0              1   \n",
       "1088         76815             52   82684.17              0              1   \n",
       "1131         74256             27   83023.18              1              0   \n",
       "1317         76070             18   58309.56              0              0   \n",
       "1332         72649             52   78861.46              0              1   \n",
       "1454         77911             58   87831.62              0              0   \n",
       "\n",
       "      Role_Manager  \n",
       "116              0  \n",
       "292              1  \n",
       "543              1  \n",
       "572              0  \n",
       "701              0  \n",
       "847              0  \n",
       "860              1  \n",
       "941              0  \n",
       "1024             0  \n",
       "1047             1  \n",
       "1067             0  \n",
       "1088             0  \n",
       "1131             0  \n",
       "1317             0  \n",
       "1332             0  \n",
       "1454             0  "
      ]
     },
     "execution_count": 32,
     "metadata": {},
     "output_type": "execute_result"
    }
   ],
   "source": [
    "uv = np.percentile(df.Previous_CTC,[99])[0] # finding the 99th percentile value of Previous_CTC feature and storing its \n",
    "                                            # first value of the array in the variable uv\n",
    "\n",
    "df[(df.Previous_CTC > uv)] #checking for values greater than uv"
   ]
  },
  {
   "cell_type": "code",
   "execution_count": 33,
   "id": "790fb578",
   "metadata": {
    "scrolled": true
   },
   "outputs": [
    {
     "name": "stderr",
     "output_type": "stream",
     "text": [
      "C:\\Users\\Asus\\AppData\\Local\\Temp/ipykernel_6988/857243736.py:1: SettingWithCopyWarning: \n",
      "A value is trying to be set on a copy of a slice from a DataFrame\n",
      "\n",
      "See the caveats in the documentation: https://pandas.pydata.org/pandas-docs/stable/user_guide/indexing.html#returning-a-view-versus-a-copy\n",
      "  df.Previous_CTC[(df.Previous_CTC > 3 * uv)] = 3 * uv # changing the values greater than uv with 3 * uv\n"
     ]
    }
   ],
   "source": [
    "df.Previous_CTC[(df.Previous_CTC > 3 * uv)] = 3 * uv # changing the values greater than uv with 3 * uv"
   ]
  },
  {
   "cell_type": "code",
   "execution_count": 34,
   "id": "1b5652ea",
   "metadata": {},
   "outputs": [
    {
     "data": {
      "text/plain": [
       "<seaborn.axisgrid.JointGrid at 0x18df7779820>"
      ]
     },
     "execution_count": 34,
     "metadata": {},
     "output_type": "execute_result"
    },
    {
     "data": {
      "image/png": "[encoded data removed]",
      "text/plain": [
       "<Figure size 432x432 with 3 Axes>"
      ]
     },
     "metadata": {
      "needs_background": "light"
     },
     "output_type": "display_data"
    }
   ],
   "source": [
    "# plotting a jointplot of EXP_in_Months (independent variable) and CTC (dependent variable) using seaborn\n",
    "sns.jointplot(x=\"EXP_in_Months\",y=\"CTC\",data = df,kind=\"reg\",joint_kws={'line_kws':{'color':'cyan'}})"
   ]
  },
  {
   "cell_type": "markdown",
   "id": "a372b95c",
   "metadata": {},
   "source": [
    "___Inference___\n",
    "\n",
    "_The feature EXP_in_Months has a positive linear relationship with the response variable CTC._"
   ]
  },
  {
   "cell_type": "code",
   "execution_count": 35,
   "id": "2ad4b16d",
   "metadata": {
    "scrolled": true
   },
   "outputs": [
    {
     "data": {
      "text/html": [
       "<div>\n",
       "<style scoped>\n",
       "    .dataframe tbody tr th:only-of-type {\n",
       "        vertical-align: middle;\n",
       "    }\n",
       "\n",
       "    .dataframe tbody tr th {\n",
       "        vertical-align: top;\n",
       "    }\n",
       "\n",
       "    .dataframe thead th {\n",
       "        text-align: right;\n",
       "    }\n",
       "</style>\n",
       "<table border=\"1\" class=\"dataframe\">\n",
       "  <thead>\n",
       "    <tr style=\"text-align: right;\">\n",
       "      <th></th>\n",
       "      <th>Previous_CTC</th>\n",
       "      <th>EXP_in_Months</th>\n",
       "      <th>CTC</th>\n",
       "      <th>College_Tier2</th>\n",
       "      <th>College_Tier3</th>\n",
       "      <th>Role_Manager</th>\n",
       "    </tr>\n",
       "  </thead>\n",
       "  <tbody>\n",
       "  </tbody>\n",
       "</table>\n",
       "</div>"
      ],
      "text/plain": [
       "Empty DataFrame\n",
       "Columns: [Previous_CTC, EXP_in_Months, CTC, College_Tier2, College_Tier3, Role_Manager]\n",
       "Index: []"
      ]
     },
     "execution_count": 35,
     "metadata": {},
     "output_type": "execute_result"
    }
   ],
   "source": [
    "uv2 = np.percentile(df.EXP_in_Months,[99])[0] # finding the 99th percentile of the feature and storing its first value of the \n",
    "                                              # array in variable uv2\n",
    "\n",
    "df[(df.EXP_in_Months > uv2)] # checking for values greater than uv2"
   ]
  },
  {
   "cell_type": "markdown",
   "id": "d1414e4c",
   "metadata": {},
   "source": [
    "___Inference___\n",
    "\n",
    "_There are no outliers in the graph._"
   ]
  },
  {
   "cell_type": "markdown",
   "id": "20f161c4",
   "metadata": {},
   "source": [
    "# x - y split"
   ]
  },
  {
   "cell_type": "code",
   "execution_count": 36,
   "id": "265b156f",
   "metadata": {},
   "outputs": [],
   "source": [
    "# importing necessary libraries for train_test_split\n",
    "from sklearn.model_selection import train_test_split\n",
    "from sklearn.linear_model import LinearRegression"
   ]
  },
  {
   "cell_type": "code",
   "execution_count": 37,
   "id": "e0ea16d0",
   "metadata": {},
   "outputs": [],
   "source": [
    "x = df.drop(\"CTC\",axis =1) # x stores all the independent features of df except CTC (dependent variable)\n",
    "y = df['CTC'] # y stores the dependent variable - CTC"
   ]
  },
  {
   "cell_type": "markdown",
   "id": "97df3fc5",
   "metadata": {},
   "source": [
    "# Test-train split"
   ]
  },
  {
   "cell_type": "code",
   "execution_count": 38,
   "id": "2332d6e1",
   "metadata": {},
   "outputs": [
    {
     "name": "stdout",
     "output_type": "stream",
     "text": [
      "(1271, 5) (318, 5) (1271,) (318,)\n"
     ]
    }
   ],
   "source": [
    "# splitting 80% data for training and 20% of data for testing \n",
    "x_train,x_test,y_train,y_test = train_test_split(x,y,test_size = 0.2,random_state = 0)\n",
    "print(x_train.shape,x_test.shape,y_train.shape,y_test.shape)"
   ]
  },
  {
   "cell_type": "code",
   "execution_count": 39,
   "id": "f825d33b",
   "metadata": {},
   "outputs": [
    {
     "data": {
      "text/plain": [
       "LinearRegression()"
      ]
     },
     "execution_count": 39,
     "metadata": {},
     "output_type": "execute_result"
    }
   ],
   "source": [
    "lm_a = LinearRegression() # creating a Linear Regression model\n",
    "lm_a.fit(x_train,y_train) # fitting that model in the x and y train"
   ]
  },
  {
   "cell_type": "code",
   "execution_count": 40,
   "id": "af4444d8",
   "metadata": {},
   "outputs": [],
   "source": [
    "y_test_a = lm_a.predict(x_test) # predicting the y test values using x test values\n",
    "y_train_a = lm_a.predict(x_train) # predicting the y train values using x train values"
   ]
  },
  {
   "cell_type": "code",
   "execution_count": 41,
   "id": "5ff071d1",
   "metadata": {},
   "outputs": [],
   "source": [
    "from sklearn.metrics import r2_score, mean_squared_error"
   ]
  },
  {
   "cell_type": "code",
   "execution_count": 42,
   "id": "ebeefeb3",
   "metadata": {},
   "outputs": [
    {
     "data": {
      "text/plain": [
       "0.5435909819770008"
      ]
     },
     "execution_count": 42,
     "metadata": {},
     "output_type": "execute_result"
    }
   ],
   "source": [
    "r2_score(y_test,y_test_a) # checking the coefficient of determination for actual test values and predicted test values"
   ]
  },
  {
   "cell_type": "code",
   "execution_count": 43,
   "id": "a4d5aeb6",
   "metadata": {},
   "outputs": [
    {
     "data": {
      "text/plain": [
       "0.5319900699039323"
      ]
     },
     "execution_count": 43,
     "metadata": {},
     "output_type": "execute_result"
    }
   ],
   "source": [
    "r2_score(y_train,y_train_a) # checking the coefficient of determination for actual train values and predicted train values"
   ]
  },
  {
   "cell_type": "markdown",
   "id": "21542c9d",
   "metadata": {},
   "source": [
    "<a id=\"OLS\"></a>\n",
    "# Ordinary Least Squares"
   ]
  },
  {
   "cell_type": "code",
   "execution_count": 44,
   "id": "f562c99e",
   "metadata": {},
   "outputs": [],
   "source": [
    "import statsmodels.api as sn"
   ]
  },
  {
   "cell_type": "code",
   "execution_count": 45,
   "id": "747f2fa9",
   "metadata": {},
   "outputs": [
    {
     "name": "stderr",
     "output_type": "stream",
     "text": [
      "C:\\Users\\Asus\\anaconda3\\lib\\site-packages\\statsmodels\\tsa\\tsatools.py:142: FutureWarning: In a future version of pandas all arguments of concat except for the argument 'objs' will be keyword-only\n",
      "  x = pd.concat(x[::order], 1)\n"
     ]
    },
    {
     "data": {
      "text/html": [
       "<div>\n",
       "<style scoped>\n",
       "    .dataframe tbody tr th:only-of-type {\n",
       "        vertical-align: middle;\n",
       "    }\n",
       "\n",
       "    .dataframe tbody tr th {\n",
       "        vertical-align: top;\n",
       "    }\n",
       "\n",
       "    .dataframe thead th {\n",
       "        text-align: right;\n",
       "    }\n",
       "</style>\n",
       "<table border=\"1\" class=\"dataframe\">\n",
       "  <thead>\n",
       "    <tr style=\"text-align: right;\">\n",
       "      <th></th>\n",
       "      <th>const</th>\n",
       "      <th>Previous_CTC</th>\n",
       "      <th>EXP_in_Months</th>\n",
       "      <th>College_Tier2</th>\n",
       "      <th>College_Tier3</th>\n",
       "      <th>Role_Manager</th>\n",
       "    </tr>\n",
       "  </thead>\n",
       "  <tbody>\n",
       "    <tr>\n",
       "      <th>0</th>\n",
       "      <td>1.0</td>\n",
       "      <td>55523</td>\n",
       "      <td>19</td>\n",
       "      <td>1</td>\n",
       "      <td>0</td>\n",
       "      <td>1</td>\n",
       "    </tr>\n",
       "    <tr>\n",
       "      <th>1</th>\n",
       "      <td>1.0</td>\n",
       "      <td>57081</td>\n",
       "      <td>18</td>\n",
       "      <td>1</td>\n",
       "      <td>0</td>\n",
       "      <td>0</td>\n",
       "    </tr>\n",
       "    <tr>\n",
       "      <th>2</th>\n",
       "      <td>1.0</td>\n",
       "      <td>60347</td>\n",
       "      <td>28</td>\n",
       "      <td>0</td>\n",
       "      <td>1</td>\n",
       "      <td>0</td>\n",
       "    </tr>\n",
       "    <tr>\n",
       "      <th>3</th>\n",
       "      <td>1.0</td>\n",
       "      <td>49010</td>\n",
       "      <td>33</td>\n",
       "      <td>0</td>\n",
       "      <td>1</td>\n",
       "      <td>0</td>\n",
       "    </tr>\n",
       "    <tr>\n",
       "      <th>4</th>\n",
       "      <td>1.0</td>\n",
       "      <td>57879</td>\n",
       "      <td>32</td>\n",
       "      <td>0</td>\n",
       "      <td>0</td>\n",
       "      <td>0</td>\n",
       "    </tr>\n",
       "    <tr>\n",
       "      <th>...</th>\n",
       "      <td>...</td>\n",
       "      <td>...</td>\n",
       "      <td>...</td>\n",
       "      <td>...</td>\n",
       "      <td>...</td>\n",
       "      <td>...</td>\n",
       "    </tr>\n",
       "    <tr>\n",
       "      <th>1584</th>\n",
       "      <td>1.0</td>\n",
       "      <td>61285</td>\n",
       "      <td>60</td>\n",
       "      <td>0</td>\n",
       "      <td>0</td>\n",
       "      <td>0</td>\n",
       "    </tr>\n",
       "    <tr>\n",
       "      <th>1585</th>\n",
       "      <td>1.0</td>\n",
       "      <td>63140</td>\n",
       "      <td>24</td>\n",
       "      <td>0</td>\n",
       "      <td>0</td>\n",
       "      <td>0</td>\n",
       "    </tr>\n",
       "    <tr>\n",
       "      <th>1586</th>\n",
       "      <td>1.0</td>\n",
       "      <td>44907</td>\n",
       "      <td>19</td>\n",
       "      <td>0</td>\n",
       "      <td>0</td>\n",
       "      <td>0</td>\n",
       "    </tr>\n",
       "    <tr>\n",
       "      <th>1587</th>\n",
       "      <td>1.0</td>\n",
       "      <td>52054</td>\n",
       "      <td>29</td>\n",
       "      <td>0</td>\n",
       "      <td>0</td>\n",
       "      <td>0</td>\n",
       "    </tr>\n",
       "    <tr>\n",
       "      <th>1588</th>\n",
       "      <td>1.0</td>\n",
       "      <td>44353</td>\n",
       "      <td>18</td>\n",
       "      <td>1</td>\n",
       "      <td>0</td>\n",
       "      <td>1</td>\n",
       "    </tr>\n",
       "  </tbody>\n",
       "</table>\n",
       "<p>1589 rows × 6 columns</p>\n",
       "</div>"
      ],
      "text/plain": [
       "      const  Previous_CTC  EXP_in_Months  College_Tier2  College_Tier3  \\\n",
       "0       1.0         55523             19              1              0   \n",
       "1       1.0         57081             18              1              0   \n",
       "2       1.0         60347             28              0              1   \n",
       "3       1.0         49010             33              0              1   \n",
       "4       1.0         57879             32              0              0   \n",
       "...     ...           ...            ...            ...            ...   \n",
       "1584    1.0         61285             60              0              0   \n",
       "1585    1.0         63140             24              0              0   \n",
       "1586    1.0         44907             19              0              0   \n",
       "1587    1.0         52054             29              0              0   \n",
       "1588    1.0         44353             18              1              0   \n",
       "\n",
       "      Role_Manager  \n",
       "0                1  \n",
       "1                0  \n",
       "2                0  \n",
       "3                0  \n",
       "4                0  \n",
       "...            ...  \n",
       "1584             0  \n",
       "1585             0  \n",
       "1586             0  \n",
       "1587             0  \n",
       "1588             1  \n",
       "\n",
       "[1589 rows x 6 columns]"
      ]
     },
     "execution_count": 45,
     "metadata": {},
     "output_type": "execute_result"
    }
   ],
   "source": [
    "x_cons = sn.add_constant(x) # adding a constant to x variable\n",
    "x_cons"
   ]
  },
  {
   "cell_type": "code",
   "execution_count": 46,
   "id": "0a5204df",
   "metadata": {},
   "outputs": [
    {
     "data": {
      "text/html": [
       "<table class=\"simpletable\">\n",
       "<caption>OLS Regression Results</caption>\n",
       "<tr>\n",
       "  <th>Dep. Variable:</th>           <td>CTC</td>       <th>  R-squared:         </th> <td>   0.534</td> \n",
       "</tr>\n",
       "<tr>\n",
       "  <th>Model:</th>                   <td>OLS</td>       <th>  Adj. R-squared:    </th> <td>   0.533</td> \n",
       "</tr>\n",
       "<tr>\n",
       "  <th>Method:</th>             <td>Least Squares</td>  <th>  F-statistic:       </th> <td>   363.4</td> \n",
       "</tr>\n",
       "<tr>\n",
       "  <th>Date:</th>             <td>Sat, 19 Aug 2023</td> <th>  Prob (F-statistic):</th> <td>1.12e-259</td>\n",
       "</tr>\n",
       "<tr>\n",
       "  <th>Time:</th>                 <td>13:07:52</td>     <th>  Log-Likelihood:    </th> <td> -16648.</td> \n",
       "</tr>\n",
       "<tr>\n",
       "  <th>No. Observations:</th>      <td>  1589</td>      <th>  AIC:               </th> <td>3.331e+04</td>\n",
       "</tr>\n",
       "<tr>\n",
       "  <th>Df Residuals:</th>          <td>  1583</td>      <th>  BIC:               </th> <td>3.334e+04</td>\n",
       "</tr>\n",
       "<tr>\n",
       "  <th>Df Model:</th>              <td>     5</td>      <th>                     </th>     <td> </td>    \n",
       "</tr>\n",
       "<tr>\n",
       "  <th>Covariance Type:</th>      <td>nonrobust</td>    <th>                     </th>     <td> </td>    \n",
       "</tr>\n",
       "</table>\n",
       "<table class=\"simpletable\">\n",
       "<tr>\n",
       "        <td></td>           <th>coef</th>     <th>std err</th>      <th>t</th>      <th>P>|t|</th>  <th>[0.025</th>    <th>0.975]</th>  \n",
       "</tr>\n",
       "<tr>\n",
       "  <th>const</th>         <td> 3.865e+04</td> <td> 1872.115</td> <td>   20.645</td> <td> 0.000</td> <td>  3.5e+04</td> <td> 4.23e+04</td>\n",
       "</tr>\n",
       "<tr>\n",
       "  <th>Previous_CTC</th>  <td>    0.4105</td> <td>    0.033</td> <td>   12.553</td> <td> 0.000</td> <td>    0.346</td> <td>    0.475</td>\n",
       "</tr>\n",
       "<tr>\n",
       "  <th>EXP_in_Months</th> <td>  261.1523</td> <td>   15.418</td> <td>   16.938</td> <td> 0.000</td> <td>  230.910</td> <td>  291.395</td>\n",
       "</tr>\n",
       "<tr>\n",
       "  <th>College_Tier2</th> <td>  123.5148</td> <td>  533.762</td> <td>    0.231</td> <td> 0.817</td> <td> -923.441</td> <td> 1170.470</td>\n",
       "</tr>\n",
       "<tr>\n",
       "  <th>College_Tier3</th> <td>-1001.2015</td> <td>  515.629</td> <td>   -1.942</td> <td> 0.052</td> <td>-2012.588</td> <td>   10.185</td>\n",
       "</tr>\n",
       "<tr>\n",
       "  <th>Role_Manager</th>  <td> 1.947e+04</td> <td>  533.522</td> <td>   36.484</td> <td> 0.000</td> <td> 1.84e+04</td> <td> 2.05e+04</td>\n",
       "</tr>\n",
       "</table>\n",
       "<table class=\"simpletable\">\n",
       "<tr>\n",
       "  <th>Omnibus:</th>       <td>49.590</td> <th>  Durbin-Watson:     </th> <td>   2.055</td>\n",
       "</tr>\n",
       "<tr>\n",
       "  <th>Prob(Omnibus):</th> <td> 0.000</td> <th>  Jarque-Bera (JB):  </th> <td>  55.017</td>\n",
       "</tr>\n",
       "<tr>\n",
       "  <th>Skew:</th>          <td> 0.409</td> <th>  Prob(JB):          </th> <td>1.13e-12</td>\n",
       "</tr>\n",
       "<tr>\n",
       "  <th>Kurtosis:</th>      <td> 3.403</td> <th>  Cond. No.          </th> <td>4.86e+05</td>\n",
       "</tr>\n",
       "</table><br/><br/>Notes:<br/>[1] Standard Errors assume that the covariance matrix of the errors is correctly specified.<br/>[2] The condition number is large, 4.86e+05. This might indicate that there are<br/>strong multicollinearity or other numerical problems."
      ],
      "text/plain": [
       "<class 'statsmodels.iolib.summary.Summary'>\n",
       "\"\"\"\n",
       "                            OLS Regression Results                            \n",
       "==============================================================================\n",
       "Dep. Variable:                    CTC   R-squared:                       0.534\n",
       "Model:                            OLS   Adj. R-squared:                  0.533\n",
       "Method:                 Least Squares   F-statistic:                     363.4\n",
       "Date:                Sat, 19 Aug 2023   Prob (F-statistic):          1.12e-259\n",
       "Time:                        13:07:52   Log-Likelihood:                -16648.\n",
       "No. Observations:                1589   AIC:                         3.331e+04\n",
       "Df Residuals:                    1583   BIC:                         3.334e+04\n",
       "Df Model:                           5                                         \n",
       "Covariance Type:            nonrobust                                         \n",
       "=================================================================================\n",
       "                    coef    std err          t      P>|t|      [0.025      0.975]\n",
       "---------------------------------------------------------------------------------\n",
       "const          3.865e+04   1872.115     20.645      0.000     3.5e+04    4.23e+04\n",
       "Previous_CTC      0.4105      0.033     12.553      0.000       0.346       0.475\n",
       "EXP_in_Months   261.1523     15.418     16.938      0.000     230.910     291.395\n",
       "College_Tier2   123.5148    533.762      0.231      0.817    -923.441    1170.470\n",
       "College_Tier3 -1001.2015    515.629     -1.942      0.052   -2012.588      10.185\n",
       "Role_Manager   1.947e+04    533.522     36.484      0.000    1.84e+04    2.05e+04\n",
       "==============================================================================\n",
       "Omnibus:                       49.590   Durbin-Watson:                   2.055\n",
       "Prob(Omnibus):                  0.000   Jarque-Bera (JB):               55.017\n",
       "Skew:                           0.409   Prob(JB):                     1.13e-12\n",
       "Kurtosis:                       3.403   Cond. No.                     4.86e+05\n",
       "==============================================================================\n",
       "\n",
       "Notes:\n",
       "[1] Standard Errors assume that the covariance matrix of the errors is correctly specified.\n",
       "[2] The condition number is large, 4.86e+05. This might indicate that there are\n",
       "strong multicollinearity or other numerical problems.\n",
       "\"\"\""
      ]
     },
     "execution_count": 46,
     "metadata": {},
     "output_type": "execute_result"
    }
   ],
   "source": [
    "lr = sn.OLS(y,x_cons).fit() # fitting the linear regression model\n",
    "lr.summary()"
   ]
  },
  {
   "cell_type": "markdown",
   "id": "80ab5d7f",
   "metadata": {},
   "source": [
    "___Inference___\n",
    "- _r2 : 0.534_\n",
    "- _Previous_CTC, EXP_in_Months and Role_Manager have a significant relationship with the response variable_"
   ]
  },
  {
   "cell_type": "markdown",
   "id": "70f4c324",
   "metadata": {},
   "source": [
    "<a id=\"LR\"></a>\n",
    "# Linear Regression "
   ]
  },
  {
   "cell_type": "code",
   "execution_count": 47,
   "id": "7eb992b9",
   "metadata": {},
   "outputs": [
    {
     "name": "stdout",
     "output_type": "stream",
     "text": [
      "38650.16689557767\n"
     ]
    }
   ],
   "source": [
    "lrsk = LinearRegression() # creating a linear regression model using sklearn\n",
    "lrsk.fit(x,y) # fitting the model in x and y \n",
    "print(lrsk.intercept_) # finding the value beta naught or intercept"
   ]
  },
  {
   "cell_type": "code",
   "execution_count": 48,
   "id": "fa1503d1",
   "metadata": {},
   "outputs": [
    {
     "name": "stdout",
     "output_type": "stream",
     "text": [
      "[ 4.10520037e-01  2.61152332e+02  1.23514796e+02 -1.00120147e+03\n",
      "  1.94652010e+04]\n"
     ]
    }
   ],
   "source": [
    "print(lrsk.coef_) # finding the model coefficients"
   ]
  },
  {
   "cell_type": "code",
   "execution_count": 49,
   "id": "9b75bbf4",
   "metadata": {},
   "outputs": [
    {
     "data": {
      "text/plain": [
       "array([85994.08102159, 66907.31791869, 69734.88341692, ...,\n",
       "       62047.28452085, 67592.79454831, 81147.41987267])"
      ]
     },
     "execution_count": 49,
     "metadata": {},
     "output_type": "execute_result"
    }
   ],
   "source": [
    "lrsk.predict(x) # predicting salary values"
   ]
  },
  {
   "cell_type": "markdown",
   "id": "749c6dd8",
   "metadata": {},
   "source": [
    "<a id=\"RR\"></a>\n",
    "# Ridge Regression"
   ]
  },
  {
   "cell_type": "code",
   "execution_count": 50,
   "id": "5c4876a2",
   "metadata": {},
   "outputs": [],
   "source": [
    "from sklearn import preprocessing"
   ]
  },
  {
   "cell_type": "code",
   "execution_count": 51,
   "id": "c661b7d6",
   "metadata": {},
   "outputs": [],
   "source": [
    "scaler = preprocessing.StandardScaler().fit(x_train) # creating a scaler variable to regularize/standardize the data"
   ]
  },
  {
   "cell_type": "code",
   "execution_count": 52,
   "id": "73fb2471",
   "metadata": {},
   "outputs": [],
   "source": [
    "x_train_s = scaler.transform(x_train)\n",
    "x_test_s = scaler.transform(x_test)"
   ]
  },
  {
   "cell_type": "code",
   "execution_count": 53,
   "id": "00e1a0f3",
   "metadata": {},
   "outputs": [],
   "source": [
    "from sklearn.linear_model import Ridge"
   ]
  },
  {
   "cell_type": "code",
   "execution_count": 54,
   "id": "5be3c72f",
   "metadata": {},
   "outputs": [
    {
     "data": {
      "text/plain": [
       "Ridge(alpha=0.5)"
      ]
     },
     "execution_count": 54,
     "metadata": {},
     "output_type": "execute_result"
    }
   ],
   "source": [
    "rr = Ridge(alpha = 0.5) # defining lambda/alpha value\n",
    "rr.fit(x_train_s,y_train) # fitting the model in x and y trained data"
   ]
  },
  {
   "cell_type": "code",
   "execution_count": 55,
   "id": "edd317a3",
   "metadata": {},
   "outputs": [
    {
     "name": "stdout",
     "output_type": "stream",
     "text": [
      "The coefficient of determination of test set is:  0.5435728275013263\n"
     ]
    }
   ],
   "source": [
    "print(\"The coefficient of determination of test set is: \", r2_score(y_test,rr.predict(x_test_s)))"
   ]
  },
  {
   "cell_type": "markdown",
   "id": "9b7b340a",
   "metadata": {},
   "source": [
    "### Validation curve\n",
    "_For finding the optimum model from different values of alpha_"
   ]
  },
  {
   "cell_type": "code",
   "execution_count": 56,
   "id": "21818d84",
   "metadata": {},
   "outputs": [],
   "source": [
    "from sklearn.model_selection import validation_curve"
   ]
  },
  {
   "cell_type": "code",
   "execution_count": 57,
   "id": "717aeb84",
   "metadata": {},
   "outputs": [
    {
     "data": {
      "text/plain": [
       "array([1.00000000e-02, 1.26185688e-02, 1.59228279e-02, 2.00923300e-02,\n",
       "       2.53536449e-02, 3.19926714e-02, 4.03701726e-02, 5.09413801e-02,\n",
       "       6.42807312e-02, 8.11130831e-02, 1.02353102e-01, 1.29154967e-01,\n",
       "       1.62975083e-01, 2.05651231e-01, 2.59502421e-01, 3.27454916e-01,\n",
       "       4.13201240e-01, 5.21400829e-01, 6.57933225e-01, 8.30217568e-01,\n",
       "       1.04761575e+00, 1.32194115e+00, 1.66810054e+00, 2.10490414e+00,\n",
       "       2.65608778e+00, 3.35160265e+00, 4.22924287e+00, 5.33669923e+00,\n",
       "       6.73415066e+00, 8.49753436e+00, 1.07226722e+01, 1.35304777e+01,\n",
       "       1.70735265e+01, 2.15443469e+01, 2.71858824e+01, 3.43046929e+01,\n",
       "       4.32876128e+01, 5.46227722e+01, 6.89261210e+01, 8.69749003e+01,\n",
       "       1.09749877e+02, 1.38488637e+02, 1.74752840e+02, 2.20513074e+02,\n",
       "       2.78255940e+02, 3.51119173e+02, 4.43062146e+02, 5.59081018e+02,\n",
       "       7.05480231e+02, 8.90215085e+02, 1.12332403e+03, 1.41747416e+03,\n",
       "       1.78864953e+03, 2.25701972e+03, 2.84803587e+03, 3.59381366e+03,\n",
       "       4.53487851e+03, 5.72236766e+03, 7.22080902e+03, 9.11162756e+03,\n",
       "       1.14975700e+04, 1.45082878e+04, 1.83073828e+04, 2.31012970e+04,\n",
       "       2.91505306e+04, 3.67837977e+04, 4.64158883e+04, 5.85702082e+04,\n",
       "       7.39072203e+04, 9.32603347e+04, 1.17681195e+05, 1.48496826e+05,\n",
       "       1.87381742e+05, 2.36448941e+05, 2.98364724e+05, 3.76493581e+05,\n",
       "       4.75081016e+05, 5.99484250e+05, 7.56463328e+05, 9.54548457e+05,\n",
       "       1.20450354e+06, 1.51991108e+06, 1.91791026e+06, 2.42012826e+06,\n",
       "       3.05385551e+06, 3.85352859e+06, 4.86260158e+06, 6.13590727e+06,\n",
       "       7.74263683e+06, 9.77009957e+06, 1.23284674e+07, 1.55567614e+07,\n",
       "       1.96304065e+07, 2.47707636e+07, 3.12571585e+07, 3.94420606e+07,\n",
       "       4.97702356e+07, 6.28029144e+07, 7.92482898e+07, 1.00000000e+08])"
      ]
     },
     "execution_count": 57,
     "metadata": {},
     "output_type": "execute_result"
    }
   ],
   "source": [
    "param_range = np.logspace(-2,8,100) # creating different alpha/lambda values - 10^-2 to 10^8\n",
    "param_range"
   ]
  },
  {
   "cell_type": "code",
   "execution_count": 58,
   "id": "e8630d45",
   "metadata": {},
   "outputs": [
    {
     "name": "stderr",
     "output_type": "stream",
     "text": [
      "C:\\Users\\Asus\\anaconda3\\lib\\site-packages\\sklearn\\utils\\validation.py:70: FutureWarning: Pass param_name=alpha, param_range=[1.00000000e-02 1.26185688e-02 1.59228279e-02 2.00923300e-02\n",
      " 2.53536449e-02 3.19926714e-02 4.03701726e-02 5.09413801e-02\n",
      " 6.42807312e-02 8.11130831e-02 1.02353102e-01 1.29154967e-01\n",
      " 1.62975083e-01 2.05651231e-01 2.59502421e-01 3.27454916e-01\n",
      " 4.13201240e-01 5.21400829e-01 6.57933225e-01 8.30217568e-01\n",
      " 1.04761575e+00 1.32194115e+00 1.66810054e+00 2.10490414e+00\n",
      " 2.65608778e+00 3.35160265e+00 4.22924287e+00 5.33669923e+00\n",
      " 6.73415066e+00 8.49753436e+00 1.07226722e+01 1.35304777e+01\n",
      " 1.70735265e+01 2.15443469e+01 2.71858824e+01 3.43046929e+01\n",
      " 4.32876128e+01 5.46227722e+01 6.89261210e+01 8.69749003e+01\n",
      " 1.09749877e+02 1.38488637e+02 1.74752840e+02 2.20513074e+02\n",
      " 2.78255940e+02 3.51119173e+02 4.43062146e+02 5.59081018e+02\n",
      " 7.05480231e+02 8.90215085e+02 1.12332403e+03 1.41747416e+03\n",
      " 1.78864953e+03 2.25701972e+03 2.84803587e+03 3.59381366e+03\n",
      " 4.53487851e+03 5.72236766e+03 7.22080902e+03 9.11162756e+03\n",
      " 1.14975700e+04 1.45082878e+04 1.83073828e+04 2.31012970e+04\n",
      " 2.91505306e+04 3.67837977e+04 4.64158883e+04 5.85702082e+04\n",
      " 7.39072203e+04 9.32603347e+04 1.17681195e+05 1.48496826e+05\n",
      " 1.87381742e+05 2.36448941e+05 2.98364724e+05 3.76493581e+05\n",
      " 4.75081016e+05 5.99484250e+05 7.56463328e+05 9.54548457e+05\n",
      " 1.20450354e+06 1.51991108e+06 1.91791026e+06 2.42012826e+06\n",
      " 3.05385551e+06 3.85352859e+06 4.86260158e+06 6.13590727e+06\n",
      " 7.74263683e+06 9.77009957e+06 1.23284674e+07 1.55567614e+07\n",
      " 1.96304065e+07 2.47707636e+07 3.12571585e+07 3.94420606e+07\n",
      " 4.97702356e+07 6.28029144e+07 7.92482898e+07 1.00000000e+08] as keyword args. From version 1.0 (renaming of 0.25) passing these as positional arguments will result in an error\n",
      "  warnings.warn(f\"Pass {args_msg} as keyword args. From version \"\n"
     ]
    }
   ],
   "source": [
    "# finding the train and test scores for different values of alpha\n",
    "train_scores, test_scores = validation_curve(Ridge(),x_train_s,y_train,\"alpha\",param_range,scoring ='r2')"
   ]
  },
  {
   "cell_type": "code",
   "execution_count": 59,
   "id": "2bd2f5ce",
   "metadata": {},
   "outputs": [
    {
     "name": "stdout",
     "output_type": "stream",
     "text": [
      "[[5.24911932e-01 5.30958339e-01 5.39144639e-01 5.35925225e-01\n",
      "  5.30591727e-01]\n",
      " [5.24911932e-01 5.30958339e-01 5.39144639e-01 5.35925225e-01\n",
      "  5.30591727e-01]\n",
      " [5.24911932e-01 5.30958338e-01 5.39144639e-01 5.35925225e-01\n",
      "  5.30591727e-01]\n",
      " [5.24911932e-01 5.30958338e-01 5.39144639e-01 5.35925225e-01\n",
      "  5.30591727e-01]\n",
      " [5.24911932e-01 5.30958338e-01 5.39144639e-01 5.35925225e-01\n",
      "  5.30591726e-01]\n",
      " [5.24911932e-01 5.30958338e-01 5.39144638e-01 5.35925225e-01\n",
      "  5.30591726e-01]\n",
      " [5.24911932e-01 5.30958338e-01 5.39144638e-01 5.35925225e-01\n",
      "  5.30591726e-01]\n",
      " [5.24911931e-01 5.30958337e-01 5.39144638e-01 5.35925224e-01\n",
      "  5.30591725e-01]\n",
      " [5.24911930e-01 5.30958337e-01 5.39144637e-01 5.35925223e-01\n",
      "  5.30591725e-01]\n",
      " [5.24911929e-01 5.30958336e-01 5.39144636e-01 5.35925222e-01\n",
      "  5.30591723e-01]\n",
      " [5.24911927e-01 5.30958334e-01 5.39144634e-01 5.35925220e-01\n",
      "  5.30591721e-01]\n",
      " [5.24911924e-01 5.30958331e-01 5.39144631e-01 5.35925217e-01\n",
      "  5.30591718e-01]\n",
      " [5.24911919e-01 5.30958327e-01 5.39144627e-01 5.35925212e-01\n",
      "  5.30591713e-01]\n",
      " [5.24911912e-01 5.30958319e-01 5.39144620e-01 5.35925204e-01\n",
      "  5.30591705e-01]\n",
      " [5.24911900e-01 5.30958308e-01 5.39144608e-01 5.35925192e-01\n",
      "  5.30591693e-01]\n",
      " [5.24911880e-01 5.30958290e-01 5.39144590e-01 5.35925171e-01\n",
      "  5.30591673e-01]\n",
      " [5.24911849e-01 5.30958261e-01 5.39144561e-01 5.35925139e-01\n",
      "  5.30591641e-01]\n",
      " [5.24911800e-01 5.30958215e-01 5.39144515e-01 5.35925089e-01\n",
      "  5.30591590e-01]\n",
      " [5.24911722e-01 5.30958142e-01 5.39144441e-01 5.35925007e-01\n",
      "  5.30591509e-01]\n",
      " [5.24911598e-01 5.30958026e-01 5.39144324e-01 5.35924878e-01\n",
      "  5.30591380e-01]\n",
      " [5.24911400e-01 5.30957841e-01 5.39144138e-01 5.35924673e-01\n",
      "  5.30591174e-01]\n",
      " [5.24911084e-01 5.30957547e-01 5.39143842e-01 5.35924347e-01\n",
      "  5.30590847e-01]\n",
      " [5.24910583e-01 5.30957079e-01 5.39143371e-01 5.35923827e-01\n",
      "  5.30590327e-01]\n",
      " [5.24909786e-01 5.30956335e-01 5.39142622e-01 5.35923001e-01\n",
      "  5.30589500e-01]\n",
      " [5.24908518e-01 5.30955152e-01 5.39141431e-01 5.35921687e-01\n",
      "  5.30588186e-01]\n",
      " [5.24906502e-01 5.30953271e-01 5.39139537e-01 5.35919598e-01\n",
      "  5.30586096e-01]\n",
      " [5.24903301e-01 5.30950282e-01 5.39136528e-01 5.35916281e-01\n",
      "  5.30582777e-01]\n",
      " [5.24898218e-01 5.30945537e-01 5.39131751e-01 5.35911014e-01\n",
      "  5.30577507e-01]\n",
      " [5.24890154e-01 5.30938007e-01 5.39124171e-01 5.35902657e-01\n",
      "  5.30569147e-01]\n",
      " [5.24877372e-01 5.30926070e-01 5.39112153e-01 5.35889413e-01\n",
      "  5.30555898e-01]\n",
      " [5.24857137e-01 5.30907168e-01 5.39093124e-01 5.35868448e-01\n",
      "  5.30534926e-01]\n",
      " [5.24825150e-01 5.30877281e-01 5.39063033e-01 5.35835308e-01\n",
      "  5.30501779e-01]\n",
      " [5.24774681e-01 5.30830108e-01 5.39015539e-01 5.35783026e-01\n",
      "  5.30449491e-01]\n",
      " [5.24695238e-01 5.30755820e-01 5.38940743e-01 5.35700737e-01\n",
      "  5.30367205e-01]\n",
      " [5.24570555e-01 5.30639165e-01 5.38823284e-01 5.35571605e-01\n",
      "  5.30238103e-01]\n",
      " [5.24375586e-01 5.30456624e-01 5.38639476e-01 5.35369714e-01\n",
      "  5.30036304e-01]\n",
      " [5.24072107e-01 5.30172248e-01 5.38353106e-01 5.35055527e-01\n",
      "  5.29722347e-01]\n",
      " [5.23602404e-01 5.29731646e-01 5.37909379e-01 5.34569379e-01\n",
      "  5.29236719e-01]\n",
      " [5.22880535e-01 5.29053615e-01 5.37226468e-01 5.33822477e-01\n",
      "  5.28490921e-01]\n",
      " [5.21780698e-01 5.28018911e-01 5.36184182e-01 5.32684950e-01\n",
      "  5.27355627e-01]\n",
      " [5.20122681e-01 5.26456020e-01 5.34609586e-01 5.30970931e-01\n",
      "  5.25645958e-01]\n",
      " [5.17655221e-01 5.24124591e-01 5.32260235e-01 5.28421590e-01\n",
      "  5.23104779e-01]\n",
      " [5.14039738e-01 5.20698663e-01 5.28807140e-01 5.24688664e-01\n",
      "  5.19386622e-01]\n",
      " [5.08839251e-01 5.15754095e-01 5.23821905e-01 5.19323504e-01\n",
      "  5.14047181e-01]\n",
      " [5.01520104e-01 5.08767414e-01 5.16775283e-01 5.11779470e-01\n",
      "  5.06546124e-01]\n",
      " [4.91476196e-01 4.99135643e-01 5.07056810e-01 5.01437562e-01\n",
      "  4.96272869e-01]\n",
      " [4.78084700e-01 4.86226617e-01 4.94025180e-01 4.87664280e-01\n",
      "  4.82604013e-01]\n",
      " [4.60796433e-01 4.69464415e-01 4.77094172e-01 4.69904581e-01\n",
      "  4.64994984e-01]\n",
      " [4.39252001e-01 4.48443463e-01 4.55847860e-01 4.47800394e-01\n",
      "  4.43096355e-01]\n",
      " [4.13399464e-01 4.23049471e-01 4.30163287e-01 4.21309605e-01\n",
      "  4.16870183e-01]\n",
      " [3.83577730e-01 3.93552431e-01 4.00305604e-01 3.90789041e-01\n",
      "  3.86670817e-01]\n",
      " [3.50531300e-01 3.60635514e-01 3.66958943e-01 3.57007005e-01\n",
      "  3.53256746e-01]\n",
      " [3.15340271e-01 3.25339332e-01 3.31171811e-01 3.21069904e-01\n",
      "  3.17718514e-01]\n",
      " [2.79278505e-01 2.88929264e-01 2.94224126e-01 2.84276873e-01\n",
      "  2.81336240e-01]\n",
      " [2.43638196e-01 2.52720846e-01 2.57450829e-01 2.47941540e-01\n",
      "  2.45404820e-01]\n",
      " [2.09567709e-01 2.17910482e-01 2.22069774e-01 2.13228277e-01\n",
      "  2.11073011e-01]\n",
      " [1.77958915e-01 1.85451050e-01 1.89054329e-01 1.81039123e-01\n",
      "  1.79231898e-01]\n",
      " [1.49398463e-01 1.55991162e-01 1.59070202e-01 1.51965512e-01\n",
      "  1.50466851e-01]\n",
      " [1.24176421e-01 1.29874728e-01 1.32473616e-01 1.26297879e-01\n",
      "  1.25066435e-01]\n",
      " [1.02333489e-01 1.07183282e-01 1.09353338e-01 1.04074010e-01\n",
      "  1.03069647e-01]\n",
      " [8.37256562e-02 8.77995718e-02 8.95947858e-02 8.51448212e-02\n",
      "  8.43305519e-02]\n",
      " [6.80895383e-02 7.14743812e-02 7.29478390e-02 6.92406461e-02\n",
      "  6.85836337e-02]\n",
      " [5.50982861e-02 5.78851841e-02 5.90866000e-02 5.60279012e-02\n",
      "  5.54997771e-02]\n",
      " [4.44039971e-02 4.66815368e-02 4.76557986e-02 4.51520308e-02\n",
      "  4.47287783e-02]\n",
      " [3.56666190e-02 3.75166188e-02 3.83031378e-02 3.62667559e-02\n",
      "  3.59283502e-02]\n",
      " [2.85714584e-02 3.00667929e-02 3.06994291e-02 2.90517756e-02\n",
      "  2.87817113e-02]\n",
      " [2.28381024e-02 2.40419713e-02 2.45493251e-02 2.32217678e-02\n",
      "  2.30065597e-02]\n",
      " [1.82234280e-02 1.91895515e-02 1.95954603e-02 1.85294043e-02\n",
      "  1.83581084e-02]\n",
      " [1.45208880e-02 1.52942345e-02 1.56183578e-02 1.47645953e-02\n",
      "  1.46283761e-02]\n",
      " [1.15576906e-02 1.21754599e-02 1.24338777e-02 1.17516023e-02\n",
      "  1.16433554e-02]\n",
      " [9.19097863e-03 9.68366292e-03 9.88944081e-03 9.34514280e-03\n",
      "  9.25917311e-03]\n",
      " [7.30371650e-03 7.69613134e-03 7.85983085e-03 7.42620022e-03\n",
      "  7.35795392e-03]\n",
      " [5.80070092e-03 6.11292889e-03 6.24305222e-03 5.89796365e-03\n",
      "  5.84380623e-03]\n",
      " [4.60491632e-03 4.85313818e-03 4.95650748e-03 4.68211926e-03\n",
      "  4.63915433e-03]\n",
      " [3.65433044e-03 3.85153800e-03 3.93361325e-03 3.71559050e-03\n",
      "  3.68151256e-03]\n",
      " [2.89914961e-03 3.05574575e-03 3.12088777e-03 2.94774631e-03\n",
      "  2.92072193e-03]\n",
      " [2.29951152e-03 2.42380806e-03 2.47549419e-03 2.33805450e-03\n",
      "  2.31662671e-03]\n",
      " [1.82357194e-03 1.92219865e-03 1.96319816e-03 1.85413605e-03\n",
      "  1.83714771e-03]\n",
      " [1.44593445e-03 1.52417234e-03 1.55668836e-03 1.47016822e-03\n",
      "  1.45670074e-03]\n",
      " [1.14637168e-03 1.20842285e-03 1.23420672e-03 1.16558422e-03\n",
      "  1.15490864e-03]\n",
      " [9.08790008e-04 9.57995293e-04 9.78438296e-04 9.24020451e-04\n",
      "  9.15558457e-04]\n",
      " [7.20395370e-04 7.59409073e-04 7.75615917e-04 7.32468273e-04\n",
      "  7.25761170e-04]\n",
      " [5.71023422e-04 6.01953279e-04 6.14800768e-04 5.80592900e-04\n",
      "  5.75276934e-04]\n",
      " [4.52603201e-04 4.77122227e-04 4.87306057e-04 4.60188048e-04\n",
      "  4.55974795e-04]\n",
      " [3.58728608e-04 3.78164319e-04 3.86236346e-04 3.64740223e-04\n",
      "  3.61401016e-04]\n",
      " [2.84316635e-04 2.99722120e-04 3.06120016e-04 2.89081210e-04\n",
      "  2.86434771e-04]\n",
      " [2.25335133e-04 2.37545612e-04 2.42616434e-04 2.29111275e-04\n",
      "  2.27013908e-04]\n",
      " [1.78586213e-04 1.88263999e-04 1.92282914e-04 1.81578927e-04\n",
      "  1.79916731e-04]\n",
      " [1.41534040e-04 1.49204267e-04 1.52389426e-04 1.43905832e-04\n",
      "  1.42588527e-04]\n",
      " [1.12168030e-04 1.18247023e-04 1.20771355e-04 1.14047708e-04\n",
      "  1.13003740e-04]\n",
      " [8.88942119e-05 9.37120055e-05 9.57125884e-05 9.03838712e-05\n",
      "  8.95565270e-05]\n",
      " [7.04490059e-05 7.42672102e-05 7.58526965e-05 7.16295645e-05\n",
      "  7.09738977e-05]\n",
      " [5.58308026e-05 5.88567806e-05 6.01132881e-05 5.67663934e-05\n",
      "  5.62467820e-05]\n",
      " [4.42456912e-05 4.66438001e-05 4.76395839e-05 4.49871424e-05\n",
      "  4.45753550e-05]\n",
      " [3.50644152e-05 3.69649214e-05 3.77540775e-05 3.56520098e-05\n",
      "  3.53256727e-05]\n",
      " [2.77882393e-05 2.92943868e-05 2.99197886e-05 2.82539025e-05\n",
      "  2.79952842e-05]\n",
      " [2.20218865e-05 2.32155007e-05 2.37111267e-05 2.23909194e-05\n",
      "  2.21859678e-05]\n",
      " [1.74520828e-05 1.83980130e-05 1.87907917e-05 1.77445368e-05\n",
      "  1.75821156e-05]\n",
      " [1.38305490e-05 1.45801896e-05 1.48914623e-05 1.40623149e-05\n",
      "  1.39335984e-05]\n",
      " [1.09605186e-05 1.15546005e-05 1.18012802e-05 1.11441899e-05\n",
      "  1.10421840e-05]]\n",
      "[[ 5.56883501e-01  5.34094938e-01  4.95835475e-01  5.16249166e-01\n",
      "   5.27022922e-01]\n",
      " [ 5.56883582e-01  5.34094912e-01  4.95835460e-01  5.16249131e-01\n",
      "   5.27022973e-01]\n",
      " [ 5.56883686e-01  5.34094879e-01  4.95835442e-01  5.16249087e-01\n",
      "   5.27023037e-01]\n",
      " [ 5.56883816e-01  5.34094837e-01  4.95835419e-01  5.16249031e-01\n",
      "   5.27023118e-01]\n",
      " [ 5.56883980e-01  5.34094784e-01  4.95835389e-01  5.16248960e-01\n",
      "   5.27023220e-01]\n",
      " [ 5.56884187e-01  5.34094718e-01  4.95835352e-01  5.16248871e-01\n",
      "   5.27023349e-01]\n",
      " [ 5.56884448e-01  5.34094634e-01  4.95835304e-01  5.16248759e-01\n",
      "   5.27023512e-01]\n",
      " [ 5.56884778e-01  5.34094528e-01  4.95835245e-01  5.16248617e-01\n",
      "   5.27023717e-01]\n",
      " [ 5.56885193e-01  5.34094394e-01  4.95835170e-01  5.16248438e-01\n",
      "   5.27023975e-01]\n",
      " [ 5.56885718e-01  5.34094225e-01  4.95835074e-01  5.16248212e-01\n",
      "   5.27024301e-01]\n",
      " [ 5.56886379e-01  5.34094011e-01  4.95834954e-01  5.16247926e-01\n",
      "   5.27024712e-01]\n",
      " [ 5.56887212e-01  5.34093740e-01  4.95834801e-01  5.16247565e-01\n",
      "   5.27025230e-01]\n",
      " [ 5.56888263e-01  5.34093398e-01  4.95834608e-01  5.16247108e-01\n",
      "   5.27025882e-01]\n",
      " [ 5.56889586e-01  5.34092965e-01  4.95834362e-01  5.16246530e-01\n",
      "   5.27026703e-01]\n",
      " [ 5.56891254e-01  5.34092416e-01  4.95834051e-01  5.16245798e-01\n",
      "   5.27027736e-01]\n",
      " [ 5.56893353e-01  5.34091720e-01  4.95833654e-01  5.16244871e-01\n",
      "   5.27029034e-01]\n",
      " [ 5.56895994e-01  5.34090835e-01  4.95833147e-01  5.16243695e-01\n",
      "   5.27030665e-01]\n",
      " [ 5.56899315e-01  5.34089710e-01  4.95832499e-01  5.16242202e-01\n",
      "   5.27032712e-01]\n",
      " [ 5.56903486e-01  5.34088275e-01  4.95831668e-01  5.16240302e-01\n",
      "   5.27035275e-01]\n",
      " [ 5.56908719e-01  5.34086442e-01  4.95830596e-01  5.16237880e-01\n",
      "   5.27038478e-01]\n",
      " [ 5.56915274e-01  5.34084091e-01  4.95829209e-01  5.16234786e-01\n",
      "   5.27042473e-01]\n",
      " [ 5.56923468e-01  5.34081066e-01  4.95827403e-01  5.16230819e-01\n",
      "   5.27047436e-01]\n",
      " [ 5.56933685e-01  5.34077155e-01  4.95825034e-01  5.16225715e-01\n",
      "   5.27053577e-01]\n",
      " [ 5.56946383e-01  5.34072071e-01  4.95821902e-01  5.16219118e-01\n",
      "   5.27061132e-01]\n",
      " [ 5.56962097e-01  5.34065419e-01  4.95817726e-01  5.16210546e-01\n",
      "   5.27070356e-01]\n",
      " [ 5.56981434e-01  5.34056649e-01  4.95812099e-01  5.16199337e-01\n",
      "   5.27081507e-01]\n",
      " [ 5.57005056e-01  5.34044987e-01  4.95804430e-01  5.16184569e-01\n",
      "   5.27094802e-01]\n",
      " [ 5.57033630e-01  5.34029329e-01  4.95793855e-01  5.16164945e-01\n",
      "   5.27110349e-01]\n",
      " [ 5.57067734e-01  5.34008077e-01  4.95779089e-01  5.16138622e-01\n",
      "   5.27128024e-01]\n",
      " [ 5.57107685e-01  5.33978901e-01  4.95758211e-01  5.16102939e-01\n",
      "   5.27147258e-01]\n",
      " [ 5.57153237e-01  5.33938369e-01  4.95728325e-01  5.16054026e-01\n",
      "   5.27166692e-01]\n",
      " [ 5.57203077e-01  5.33881379e-01  4.95685046e-01  5.15986202e-01\n",
      "   5.27183620e-01]\n",
      " [ 5.57253996e-01  5.33800308e-01  4.95621712e-01  5.15891063e-01\n",
      "   5.27193086e-01]\n",
      " [ 5.57299569e-01  5.33683722e-01  4.95528181e-01  5.15756120e-01\n",
      "   5.27186493e-01]\n",
      " [ 5.57328087e-01  5.33514432e-01  4.95389029e-01  5.15562763e-01\n",
      "   5.27149439e-01]\n",
      " [ 5.57319382e-01  5.33266628e-01  4.95180860e-01  5.15283264e-01\n",
      "   5.27058453e-01]\n",
      " [ 5.57240079e-01  5.32901681e-01  4.94868366e-01  5.14876422e-01\n",
      "   5.26876168e-01]\n",
      " [ 5.57036682e-01  5.32362145e-01  4.94398685e-01  5.14281394e-01\n",
      "   5.26544355e-01]\n",
      " [ 5.56625832e-01  5.31563434e-01  4.93693541e-01  5.13409205e-01\n",
      "   5.25974234e-01]\n",
      " [ 5.55881188e-01  5.30382705e-01  4.92638733e-01  5.12131553e-01\n",
      "   5.25033583e-01]\n",
      " [ 5.54616782e-01  5.28644834e-01  4.91070840e-01  5.10266939e-01\n",
      "   5.23530619e-01]\n",
      " [ 5.52567679e-01  5.26106155e-01  4.88761752e-01  5.07564998e-01\n",
      "   5.21195690e-01]\n",
      " [ 5.49370581e-01  5.22438097e-01  4.85403038e-01  5.03691515e-01\n",
      "   5.17663565e-01]\n",
      " [ 5.44549670e-01  5.17215115e-01  4.80594260e-01  4.98218852e-01\n",
      "   5.12461792e-01]\n",
      " [ 5.37516264e-01  5.09914037e-01  4.73841977e-01  4.90629156e-01\n",
      "   5.05013513e-01]\n",
      " [ 5.27593275e-01  4.99934300e-01  4.64578387e-01  4.80339584e-01\n",
      "   4.94665238e-01]\n",
      " [ 5.14074994e-01  4.86648431e-01  4.52208517e-01  4.66757844e-01\n",
      "   4.80748822e-01]\n",
      " [ 4.96326336e-01  4.69487298e-01  4.36190386e-01  4.49370471e-01\n",
      "   4.62680179e-01]\n",
      " [ 4.73912438e-01  4.48053666e-01  4.16142189e-01  4.27854574e-01\n",
      "   4.40084004e-01]\n",
      " [ 4.46732037e-01  4.22242324e-01  3.91956168e-01  4.02189135e-01\n",
      "   4.12917627e-01]\n",
      " [ 4.15114716e-01  3.92332214e-01  3.63886590e-01  3.72731475e-01\n",
      "   3.81555854e-01]\n",
      " [ 3.79842924e-01  3.59014633e-01  3.32577741e-01  3.40226668e-01\n",
      "   3.46801506e-01]\n",
      " [ 3.42079520e-01  3.23337062e-01  2.99012310e-01  3.05735852e-01\n",
      "   3.09806716e-01]\n",
      " [ 3.03213879e-01  2.86570334e-01  2.64386984e-01  2.70497192e-01\n",
      "   2.71920482e-01]\n",
      " [ 2.64668264e-01  2.50034005e-01  2.29947873e-01  2.35756840e-01\n",
      "   2.34503556e-01]\n",
      " [ 2.27716684e-01  2.14927096e-01  1.96830237e-01  2.02614656e-01\n",
      "   1.98759522e-01]\n",
      " [ 1.93357191e-01  1.82203745e-01  1.65940101e-01  1.71918574e-01\n",
      "   1.65618976e-01]\n",
      " [ 1.62254621e-01  1.52512555e-01  1.37895826e-01  1.44220517e-01\n",
      "   1.35690786e-01]\n",
      " [ 1.34747285e-01  1.26196313e-01  1.13026856e-01  1.19786895e-01\n",
      "   1.09272917e-01]\n",
      " [ 1.10897163e-01  1.03334540e-01  9.14132362e-02  9.86453868e-02\n",
      "   8.64029010e-02]\n",
      " [ 9.05602400e-02  8.38073516e-02  7.29456091e-02  8.06477736e-02\n",
      "   6.69259699e-02]\n",
      " [ 7.34582670e-02  6.73625567e-02  5.73885508e-02  6.55329125e-02\n",
      "   5.05634914e-02]\n",
      " [ 5.92405401e-02  5.36745508e-02  4.44363279e-02  5.29803559e-02\n",
      "   3.69713454e-02]\n",
      " [ 4.75309964e-02  4.23898957e-02  3.37561527e-02  4.26508651e-02\n",
      "   2.57841023e-02]\n",
      " [ 3.79604740e-02  3.31589872e-02  2.50183057e-02  3.42139096e-02\n",
      "   1.66450696e-02]\n",
      " [ 3.01863900e-02  2.56556883e-02  1.79148640e-02  2.73642374e-02\n",
      "   9.22444947e-03]\n",
      " [ 2.39028948e-02  1.95877245e-02  1.21696640e-02  2.18302330e-02\n",
      "   3.22854914e-03]\n",
      " [ 1.88444479e-02  1.47006205e-02  7.54212182e-03  1.73766388e-02\n",
      "  -1.59715748e-03]\n",
      " [ 1.47852295e-02  1.07774990e-02  3.82711249e-03  1.38037378e-02\n",
      "  -5.46883645e-03]\n",
      " [ 1.15361820e-02  7.63648659e-03  8.52562503e-04  1.09445447e-02\n",
      "  -8.56728407e-03]\n",
      " [ 8.94091044e-03  5.12693702e-03 -1.52409237e-03  8.66106082e-03\n",
      "  -1.10419485e-02]\n",
      " [ 6.87123195e-03  3.12525452e-03 -3.41983971e-03  6.84026733e-03\n",
      "  -1.30152486e-02]\n",
      " [ 5.22283984e-03  1.53078556e-03 -4.92996581e-03  5.39025105e-03\n",
      "  -1.45867561e-02]\n",
      " [ 3.91133190e-03  2.62033346e-04 -6.13163078e-03  4.23667232e-03\n",
      "  -1.58370141e-02]\n",
      " [ 2.86871220e-03 -7.46689505e-04 -7.08703236e-03  3.31966317e-03\n",
      "  -1.68308922e-02]\n",
      " [ 2.04039120e-03 -1.54813951e-03 -7.84612800e-03  2.59117288e-03\n",
      "  -1.76204588e-02]\n",
      " [ 1.38266164e-03 -2.18456915e-03 -8.44893071e-03  2.01273795e-03\n",
      "  -1.82473958e-02]\n",
      " [ 8.60604259e-04 -2.68974358e-03 -8.92741744e-03  1.55363387e-03\n",
      "  -1.87450000e-02]\n",
      " [ 4.46368046e-04 -3.09059839e-03 -9.30709824e-03  1.18935858e-03\n",
      "  -1.91398257e-02]\n",
      " [ 1.17769223e-04 -3.40859148e-03 -9.60829589e-03  9.00397930e-04\n",
      "  -1.94530220e-02]\n",
      " [-1.42843263e-04 -3.66079836e-03 -9.84718299e-03  6.71226307e-04\n",
      "  -1.97014156e-02]\n",
      " [-3.49502148e-04 -3.86079548e-03 -1.00366183e-02  4.89501552e-04\n",
      "  -1.98983833e-02]\n",
      " [-5.13356195e-04 -4.01936990e-03 -1.01868189e-02  3.45418555e-04\n",
      "  -2.00545523e-02]\n",
      " [-6.43258258e-04 -4.14508776e-03 -1.03058982e-02  2.31191737e-04\n",
      "  -2.01783610e-02]\n",
      " [-7.46235172e-04 -4.24474866e-03 -1.04002967e-02  1.40641600e-04\n",
      "  -2.02765070e-02]\n",
      " [-8.27862563e-04 -4.32374809e-03 -1.04751248e-02  6.88649906e-05\n",
      "  -2.03543048e-02]\n",
      " [-8.92563406e-04 -4.38636628e-03 -1.05344366e-02  1.19724660e-05\n",
      "  -2.04159699e-02]\n",
      " [-9.43845589e-04 -4.43599796e-03 -1.05814478e-02 -3.31206644e-05\n",
      "  -2.04648459e-02]\n",
      " [-9.84490787e-04 -4.47533515e-03 -1.06187080e-02 -6.88604563e-05\n",
      "  -2.05035839e-02]\n",
      " [-1.01670452e-03 -4.50651230e-03 -1.06482390e-02 -9.71863042e-05\n",
      "  -2.05342860e-02]\n",
      " [-1.04223530e-03 -4.53122160e-03 -1.06716436e-02 -1.19635734e-04\n",
      "  -2.05586187e-02]\n",
      " [-1.06246923e-03 -4.55080451e-03 -1.06901926e-02 -1.37427578e-04\n",
      "  -2.05779032e-02]\n",
      " [-1.07850505e-03 -4.56632441e-03 -1.07048931e-02 -1.51527972e-04\n",
      "  -2.05931865e-02]\n",
      " [-1.09121364e-03 -4.57862414e-03 -1.07165434e-02 -1.62702710e-04\n",
      "  -2.06052987e-02]\n",
      " [-1.10128528e-03 -4.58837177e-03 -1.07257764e-02 -1.71558760e-04\n",
      "  -2.06148977e-02]\n",
      " [-1.10926708e-03 -4.59609679e-03 -1.07330935e-02 -1.78577192e-04\n",
      "  -2.06225049e-02]\n",
      " [-1.11559264e-03 -4.60221885e-03 -1.07388924e-02 -1.84139283e-04\n",
      "  -2.06285336e-02]\n",
      " [-1.12060561e-03 -4.60707056e-03 -1.07434879e-02 -1.88547210e-04\n",
      "  -2.06333113e-02]\n",
      " [-1.12457835e-03 -4.61091550e-03 -1.07471299e-02 -1.92040457e-04\n",
      "  -2.06370976e-02]\n",
      " [-1.12772671e-03 -4.61396258e-03 -1.07500161e-02 -1.94808821e-04\n",
      "  -2.06400982e-02]]\n"
     ]
    }
   ],
   "source": [
    "print(train_scores)\n",
    "print(test_scores)"
   ]
  },
  {
   "cell_type": "code",
   "execution_count": 60,
   "id": "fd61ca46",
   "metadata": {},
   "outputs": [],
   "source": [
    "train_mean = np.mean(train_scores,axis =1) # finding the mean values of the train scores\n",
    "test_mean = np.mean(test_scores,axis =1) # finding the mean values of the test scores"
   ]
  },
  {
   "cell_type": "code",
   "execution_count": 61,
   "id": "a42e3617",
   "metadata": {},
   "outputs": [
    {
     "data": {
      "text/plain": [
       "0.5260267688414653"
      ]
     },
     "execution_count": 61,
     "metadata": {},
     "output_type": "execute_result"
    }
   ],
   "source": [
    "max(test_mean) # finding the maximum mean value from the mean values "
   ]
  },
  {
   "cell_type": "code",
   "execution_count": 62,
   "id": "3b30f03a",
   "metadata": {},
   "outputs": [
    {
     "data": {
      "text/plain": [
       "<seaborn.axisgrid.JointGrid at 0x18df9cecfa0>"
      ]
     },
     "execution_count": 62,
     "metadata": {},
     "output_type": "execute_result"
    },
    {
     "data": {
      "image/png": "[encoded data removed]",
      "text/plain": [
       "<Figure size 432x432 with 3 Axes>"
      ]
     },
     "metadata": {
      "needs_background": "light"
     },
     "output_type": "display_data"
    }
   ],
   "source": [
    "sns.jointplot(x = np.log(param_range),y =test_mean) # plotting an alpha value graph"
   ]
  },
  {
   "cell_type": "code",
   "execution_count": 63,
   "id": "5a298595",
   "metadata": {},
   "outputs": [
    {
     "data": {
      "text/plain": [
       "(array([26], dtype=int64),)"
      ]
     },
     "execution_count": 63,
     "metadata": {},
     "output_type": "execute_result"
    }
   ],
   "source": [
    "np.where (test_mean == max(test_mean)) # finding the location of the maximum mean value"
   ]
  },
  {
   "cell_type": "code",
   "execution_count": 64,
   "id": "77b2e209",
   "metadata": {},
   "outputs": [
    {
     "data": {
      "text/plain": [
       "4.229242874389499"
      ]
     },
     "execution_count": 64,
     "metadata": {},
     "output_type": "execute_result"
    }
   ],
   "source": [
    "param_range[26] # finding its lambda/alpha value"
   ]
  },
  {
   "cell_type": "code",
   "execution_count": 65,
   "id": "66832553",
   "metadata": {},
   "outputs": [
    {
     "data": {
      "text/plain": [
       "Ridge(alpha=4.229242874389499)"
      ]
     },
     "execution_count": 65,
     "metadata": {},
     "output_type": "execute_result"
    }
   ],
   "source": [
    "rr_best = Ridge(alpha = param_range[26]) # storing the lambda value in variable rr_best\n",
    "rr_best.fit(x_train_s,y_train) # fitting the model in scaler x and y train "
   ]
  },
  {
   "cell_type": "markdown",
   "id": "8e34ce78",
   "metadata": {},
   "source": [
    "## Evaluating model performance"
   ]
  },
  {
   "cell_type": "code",
   "execution_count": 66,
   "id": "77e9cd08",
   "metadata": {},
   "outputs": [
    {
     "name": "stdout",
     "output_type": "stream",
     "text": [
      "The coefficient of determination of test set is:  0.5434332971814033\n"
     ]
    }
   ],
   "source": [
    "print(\"The coefficient of determination of test set is: \",r2_score(y_test,rr_best.predict(x_test_s)))\n"
   ]
  },
  {
   "cell_type": "code",
   "execution_count": 67,
   "id": "da97a7e4",
   "metadata": {},
   "outputs": [
    {
     "name": "stdout",
     "output_type": "stream",
     "text": [
      "The coefficient of determination of train set is:  0.5319846159373727\n"
     ]
    }
   ],
   "source": [
    "print(\"The coefficient of determination of train set is: \",r2_score(y_train,rr_best.predict(x_train_s)))"
   ]
  },
  {
   "cell_type": "code",
   "execution_count": 68,
   "id": "9089cc33",
   "metadata": {},
   "outputs": [
    {
     "name": "stdout",
     "output_type": "stream",
     "text": [
      "The mean squared error of Ridge Regression is:  67726677.4362715\n"
     ]
    }
   ],
   "source": [
    "print(\"The mean squared error of Ridge Regression is: \",mean_squared_error(y_test,rr.predict(x_test_s))) "
   ]
  },
  {
   "cell_type": "markdown",
   "id": "d83f1a46",
   "metadata": {},
   "source": [
    "<a id=\"LaR\"></a>\n",
    "# Lasso Regression"
   ]
  },
  {
   "cell_type": "code",
   "execution_count": 69,
   "id": "019b8747",
   "metadata": {},
   "outputs": [],
   "source": [
    "from sklearn.linear_model import Lasso"
   ]
  },
  {
   "cell_type": "code",
   "execution_count": 70,
   "id": "f96af7df",
   "metadata": {},
   "outputs": [
    {
     "data": {
      "text/plain": [
       "0.5435891124437362"
      ]
     },
     "execution_count": 70,
     "metadata": {},
     "output_type": "execute_result"
    }
   ],
   "source": [
    "lar = Lasso(alpha = 0.3) # creating a lasso model with lambda value 0.3\n",
    "lar.fit(x_train_s,y_train) # fitting the model in x and y train \n",
    "r2_score(y_test,lar.predict(x_test_s)) # finding the r2 value of actual and predicted scaler test values"
   ]
  },
  {
   "cell_type": "code",
   "execution_count": 71,
   "id": "5b681c8e",
   "metadata": {},
   "outputs": [
    {
     "data": {
      "text/plain": [
       "array([1.00000000e-02, 1.26185688e-02, 1.59228279e-02, 2.00923300e-02,\n",
       "       2.53536449e-02, 3.19926714e-02, 4.03701726e-02, 5.09413801e-02,\n",
       "       6.42807312e-02, 8.11130831e-02, 1.02353102e-01, 1.29154967e-01,\n",
       "       1.62975083e-01, 2.05651231e-01, 2.59502421e-01, 3.27454916e-01,\n",
       "       4.13201240e-01, 5.21400829e-01, 6.57933225e-01, 8.30217568e-01,\n",
       "       1.04761575e+00, 1.32194115e+00, 1.66810054e+00, 2.10490414e+00,\n",
       "       2.65608778e+00, 3.35160265e+00, 4.22924287e+00, 5.33669923e+00,\n",
       "       6.73415066e+00, 8.49753436e+00, 1.07226722e+01, 1.35304777e+01,\n",
       "       1.70735265e+01, 2.15443469e+01, 2.71858824e+01, 3.43046929e+01,\n",
       "       4.32876128e+01, 5.46227722e+01, 6.89261210e+01, 8.69749003e+01,\n",
       "       1.09749877e+02, 1.38488637e+02, 1.74752840e+02, 2.20513074e+02,\n",
       "       2.78255940e+02, 3.51119173e+02, 4.43062146e+02, 5.59081018e+02,\n",
       "       7.05480231e+02, 8.90215085e+02, 1.12332403e+03, 1.41747416e+03,\n",
       "       1.78864953e+03, 2.25701972e+03, 2.84803587e+03, 3.59381366e+03,\n",
       "       4.53487851e+03, 5.72236766e+03, 7.22080902e+03, 9.11162756e+03,\n",
       "       1.14975700e+04, 1.45082878e+04, 1.83073828e+04, 2.31012970e+04,\n",
       "       2.91505306e+04, 3.67837977e+04, 4.64158883e+04, 5.85702082e+04,\n",
       "       7.39072203e+04, 9.32603347e+04, 1.17681195e+05, 1.48496826e+05,\n",
       "       1.87381742e+05, 2.36448941e+05, 2.98364724e+05, 3.76493581e+05,\n",
       "       4.75081016e+05, 5.99484250e+05, 7.56463328e+05, 9.54548457e+05,\n",
       "       1.20450354e+06, 1.51991108e+06, 1.91791026e+06, 2.42012826e+06,\n",
       "       3.05385551e+06, 3.85352859e+06, 4.86260158e+06, 6.13590727e+06,\n",
       "       7.74263683e+06, 9.77009957e+06, 1.23284674e+07, 1.55567614e+07,\n",
       "       1.96304065e+07, 2.47707636e+07, 3.12571585e+07, 3.94420606e+07,\n",
       "       4.97702356e+07, 6.28029144e+07, 7.92482898e+07, 1.00000000e+08])"
      ]
     },
     "execution_count": 71,
     "metadata": {},
     "output_type": "execute_result"
    }
   ],
   "source": [
    "param_range # re-using the 100 alpha values for finding the best model for different values of alpha"
   ]
  },
  {
   "cell_type": "markdown",
   "id": "af78cf5c",
   "metadata": {},
   "source": [
    "### Validation Curve\n",
    "\n",
    "_For finding best model for different values of alpha_"
   ]
  },
  {
   "cell_type": "code",
   "execution_count": 72,
   "id": "e1a1ea09",
   "metadata": {},
   "outputs": [
    {
     "name": "stderr",
     "output_type": "stream",
     "text": [
      "C:\\Users\\Asus\\anaconda3\\lib\\site-packages\\sklearn\\utils\\validation.py:70: FutureWarning: Pass param_name=alpha, param_range=[1.00000000e-02 1.26185688e-02 1.59228279e-02 2.00923300e-02\n",
      " 2.53536449e-02 3.19926714e-02 4.03701726e-02 5.09413801e-02\n",
      " 6.42807312e-02 8.11130831e-02 1.02353102e-01 1.29154967e-01\n",
      " 1.62975083e-01 2.05651231e-01 2.59502421e-01 3.27454916e-01\n",
      " 4.13201240e-01 5.21400829e-01 6.57933225e-01 8.30217568e-01\n",
      " 1.04761575e+00 1.32194115e+00 1.66810054e+00 2.10490414e+00\n",
      " 2.65608778e+00 3.35160265e+00 4.22924287e+00 5.33669923e+00\n",
      " 6.73415066e+00 8.49753436e+00 1.07226722e+01 1.35304777e+01\n",
      " 1.70735265e+01 2.15443469e+01 2.71858824e+01 3.43046929e+01\n",
      " 4.32876128e+01 5.46227722e+01 6.89261210e+01 8.69749003e+01\n",
      " 1.09749877e+02 1.38488637e+02 1.74752840e+02 2.20513074e+02\n",
      " 2.78255940e+02 3.51119173e+02 4.43062146e+02 5.59081018e+02\n",
      " 7.05480231e+02 8.90215085e+02 1.12332403e+03 1.41747416e+03\n",
      " 1.78864953e+03 2.25701972e+03 2.84803587e+03 3.59381366e+03\n",
      " 4.53487851e+03 5.72236766e+03 7.22080902e+03 9.11162756e+03\n",
      " 1.14975700e+04 1.45082878e+04 1.83073828e+04 2.31012970e+04\n",
      " 2.91505306e+04 3.67837977e+04 4.64158883e+04 5.85702082e+04\n",
      " 7.39072203e+04 9.32603347e+04 1.17681195e+05 1.48496826e+05\n",
      " 1.87381742e+05 2.36448941e+05 2.98364724e+05 3.76493581e+05\n",
      " 4.75081016e+05 5.99484250e+05 7.56463328e+05 9.54548457e+05\n",
      " 1.20450354e+06 1.51991108e+06 1.91791026e+06 2.42012826e+06\n",
      " 3.05385551e+06 3.85352859e+06 4.86260158e+06 6.13590727e+06\n",
      " 7.74263683e+06 9.77009957e+06 1.23284674e+07 1.55567614e+07\n",
      " 1.96304065e+07 2.47707636e+07 3.12571585e+07 3.94420606e+07\n",
      " 4.97702356e+07 6.28029144e+07 7.92482898e+07 1.00000000e+08] as keyword args. From version 1.0 (renaming of 0.25) passing these as positional arguments will result in an error\n",
      "  warnings.warn(f\"Pass {args_msg} as keyword args. From version \"\n"
     ]
    }
   ],
   "source": [
    "train_scores_lasso,test_scores_lasso = validation_curve(Lasso(),x_train_s,y_train,\"alpha\",param_range,scoring='r2')"
   ]
  },
  {
   "cell_type": "code",
   "execution_count": 73,
   "id": "467e5a8f",
   "metadata": {},
   "outputs": [
    {
     "name": "stdout",
     "output_type": "stream",
     "text": [
      "[[0.52491193 0.53095834 0.53914464 0.53592523 0.53059173]\n",
      " [0.52491193 0.53095834 0.53914464 0.53592523 0.53059173]\n",
      " [0.52491193 0.53095834 0.53914464 0.53592523 0.53059173]\n",
      " [0.52491193 0.53095834 0.53914464 0.53592523 0.53059173]\n",
      " [0.52491193 0.53095834 0.53914464 0.53592523 0.53059173]\n",
      " [0.52491193 0.53095834 0.53914464 0.53592523 0.53059173]\n",
      " [0.52491193 0.53095834 0.53914464 0.53592523 0.53059173]\n",
      " [0.52491193 0.53095834 0.53914464 0.53592523 0.53059173]\n",
      " [0.52491193 0.53095834 0.53914464 0.53592523 0.53059173]\n",
      " [0.52491193 0.53095834 0.53914464 0.53592523 0.53059173]\n",
      " [0.52491193 0.53095834 0.53914464 0.53592523 0.53059173]\n",
      " [0.52491193 0.53095834 0.53914464 0.53592522 0.53059173]\n",
      " [0.52491193 0.53095834 0.53914464 0.53592522 0.53059173]\n",
      " [0.52491193 0.53095834 0.53914464 0.53592522 0.53059173]\n",
      " [0.52491193 0.53095834 0.53914464 0.53592522 0.53059172]\n",
      " [0.52491193 0.53095834 0.53914464 0.53592522 0.53059172]\n",
      " [0.52491193 0.53095833 0.53914463 0.53592522 0.53059172]\n",
      " [0.52491193 0.53095833 0.53914463 0.53592521 0.53059172]\n",
      " [0.52491192 0.53095833 0.53914463 0.53592521 0.53059172]\n",
      " [0.52491191 0.53095832 0.53914462 0.5359252  0.53059171]\n",
      " [0.5249119  0.53095831 0.53914461 0.53592518 0.5305917 ]\n",
      " [0.52491189 0.53095829 0.53914459 0.53592515 0.53059168]\n",
      " [0.52491186 0.53095827 0.53914457 0.53592511 0.53059165]\n",
      " [0.52491181 0.53095823 0.53914453 0.53592504 0.53059161]\n",
      " [0.52491174 0.53095816 0.53914446 0.53592493 0.53059154]\n",
      " [0.52491163 0.53095805 0.53914435 0.53592476 0.53059143]\n",
      " [0.52491145 0.53095789 0.53914418 0.53592448 0.53059126]\n",
      " [0.52491117 0.53095762 0.53914391 0.53592403 0.53059097]\n",
      " [0.52491072 0.53095719 0.53914348 0.53592333 0.53059053]\n",
      " [0.52491    0.5309565  0.53914279 0.5359222  0.53058982]\n",
      " [0.52490886 0.53095542 0.5391417  0.5359204  0.53058869]\n",
      " [0.52490704 0.5309537  0.53913997 0.53591755 0.5305869 ]\n",
      " [0.52490415 0.53095096 0.53913721 0.53591299 0.53058405]\n",
      " [0.52489954 0.53094659 0.53913281 0.53590574 0.5305795 ]\n",
      " [0.52489221 0.53093964 0.5391258  0.53589419 0.53057227]\n",
      " [0.52488053 0.53092858 0.53911517 0.53587579 0.53056075]\n",
      " [0.52486194 0.53091098 0.53909912 0.53585236 0.53054242]\n",
      " [0.52483235 0.53088295 0.53907357 0.53582461 0.53051322]\n",
      " [0.52478524 0.53083832 0.5390329  0.53578041 0.53046674]\n",
      " [0.52471024 0.53076721 0.53896814 0.53571003 0.53039273]\n",
      " [0.52459082 0.53066259 0.53886502 0.53559797 0.53027489]\n",
      " [0.52440488 0.53050089 0.53870083 0.53541954 0.53008726]\n",
      " [0.52412914 0.53024342 0.5384394  0.53513544 0.52978851]\n",
      " [0.52369009 0.52983346 0.53802313 0.53468306 0.52931286]\n",
      " [0.522991   0.52918067 0.53736032 0.53396276 0.52856556]\n",
      " [0.52187784 0.52814125 0.53630494 0.53300022 0.52764135]\n",
      " [0.52010539 0.52694114 0.53462447 0.53169289 0.52636842]\n",
      " [0.51728314 0.52504869 0.53259781 0.52961123 0.52434155]\n",
      " [0.51323644 0.52203535 0.52959725 0.52629662 0.5211142 ]\n",
      " [0.50817228 0.51723727 0.52481958 0.52101881 0.51597535]\n",
      " [0.5001087  0.50959736 0.51721218 0.51261503 0.50779285]\n",
      " [0.48726921 0.49743246 0.50509905 0.49923384 0.49476421]\n",
      " [0.46682511 0.47806249 0.48581152 0.47792718 0.47401861]\n",
      " [0.43427231 0.44722001 0.45510032 0.44400095 0.44098572]\n",
      " [0.38243905 0.39811004 0.40619986 0.38998077 0.38838799]\n",
      " [0.30814552 0.32169701 0.32833565 0.31385724 0.31568531]\n",
      " [0.25013865 0.26080544 0.26330897 0.23592383 0.24152658]\n",
      " [0.17610658 0.18853256 0.19064203 0.15569873 0.16113442]\n",
      " [0.0582266  0.07345368 0.07493572 0.02795768 0.03312737]\n",
      " [0.         0.         0.         0.         0.        ]\n",
      " [0.         0.         0.         0.         0.        ]\n",
      " [0.         0.         0.         0.         0.        ]\n",
      " [0.         0.         0.         0.         0.        ]\n",
      " [0.         0.         0.         0.         0.        ]\n",
      " [0.         0.         0.         0.         0.        ]\n",
      " [0.         0.         0.         0.         0.        ]\n",
      " [0.         0.         0.         0.         0.        ]\n",
      " [0.         0.         0.         0.         0.        ]\n",
      " [0.         0.         0.         0.         0.        ]\n",
      " [0.         0.         0.         0.         0.        ]\n",
      " [0.         0.         0.         0.         0.        ]\n",
      " [0.         0.         0.         0.         0.        ]\n",
      " [0.         0.         0.         0.         0.        ]\n",
      " [0.         0.         0.         0.         0.        ]\n",
      " [0.         0.         0.         0.         0.        ]\n",
      " [0.         0.         0.         0.         0.        ]\n",
      " [0.         0.         0.         0.         0.        ]\n",
      " [0.         0.         0.         0.         0.        ]\n",
      " [0.         0.         0.         0.         0.        ]\n",
      " [0.         0.         0.         0.         0.        ]\n",
      " [0.         0.         0.         0.         0.        ]\n",
      " [0.         0.         0.         0.         0.        ]\n",
      " [0.         0.         0.         0.         0.        ]\n",
      " [0.         0.         0.         0.         0.        ]\n",
      " [0.         0.         0.         0.         0.        ]\n",
      " [0.         0.         0.         0.         0.        ]\n",
      " [0.         0.         0.         0.         0.        ]\n",
      " [0.         0.         0.         0.         0.        ]\n",
      " [0.         0.         0.         0.         0.        ]\n",
      " [0.         0.         0.         0.         0.        ]\n",
      " [0.         0.         0.         0.         0.        ]\n",
      " [0.         0.         0.         0.         0.        ]\n",
      " [0.         0.         0.         0.         0.        ]\n",
      " [0.         0.         0.         0.         0.        ]\n",
      " [0.         0.         0.         0.         0.        ]\n",
      " [0.         0.         0.         0.         0.        ]\n",
      " [0.         0.         0.         0.         0.        ]\n",
      " [0.         0.         0.         0.         0.        ]\n",
      " [0.         0.         0.         0.         0.        ]\n",
      " [0.         0.         0.         0.         0.        ]]\n",
      "[[ 5.56883405e-01  5.34094973e-01  4.95835534e-01  5.16249281e-01\n",
      "   5.27022698e-01]\n",
      " [ 5.56883461e-01  5.34094956e-01  4.95835535e-01  5.16249300e-01\n",
      "   5.27022690e-01]\n",
      " [ 5.56883533e-01  5.34094935e-01  4.95835536e-01  5.16249325e-01\n",
      "   5.27022679e-01]\n",
      " [ 5.56883623e-01  5.34094908e-01  4.95835538e-01  5.16249355e-01\n",
      "   5.27022666e-01]\n",
      " [ 5.56883737e-01  5.34094874e-01  4.95835538e-01  5.16249394e-01\n",
      "   5.27022650e-01]\n",
      " [ 5.56883881e-01  5.34094831e-01  4.95835540e-01  5.16249134e-01\n",
      "   5.27022629e-01]\n",
      " [ 5.56884062e-01  5.34094777e-01  4.95835543e-01  5.16249196e-01\n",
      "   5.27022602e-01]\n",
      " [ 5.56884291e-01  5.34094709e-01  4.95835546e-01  5.16249273e-01\n",
      "   5.27022576e-01]\n",
      " [ 5.56884580e-01  5.34094622e-01  4.95835551e-01  5.16249371e-01\n",
      "   5.27022534e-01]\n",
      " [ 5.56884944e-01  5.34094513e-01  4.95835557e-01  5.16249495e-01\n",
      "   5.27022480e-01]\n",
      " [ 5.56885403e-01  5.34094376e-01  4.95835557e-01  5.16249651e-01\n",
      "   5.27022413e-01]\n",
      " [ 5.56885983e-01  5.34094203e-01  4.95835566e-01  5.16249848e-01\n",
      "   5.27022329e-01]\n",
      " [ 5.56886714e-01  5.34093984e-01  4.95835577e-01  5.16250097e-01\n",
      "   5.27022222e-01]\n",
      " [ 5.56887637e-01  5.34093708e-01  4.95835592e-01  5.16250410e-01\n",
      "   5.27022118e-01]\n",
      " [ 5.56888801e-01  5.34093359e-01  4.95835609e-01  5.16250805e-01\n",
      "   5.27021948e-01]\n",
      " [ 5.56890275e-01  5.34092918e-01  4.95835631e-01  5.16251304e-01\n",
      "   5.27021733e-01]\n",
      " [ 5.56892127e-01  5.34092362e-01  4.95835630e-01  5.16251932e-01\n",
      "   5.27021461e-01]\n",
      " [ 5.56894464e-01  5.34091661e-01  4.95835664e-01  5.16252725e-01\n",
      "   5.27021118e-01]\n",
      " [ 5.56897412e-01  5.34090775e-01  4.95835707e-01  5.16253723e-01\n",
      "   5.27020683e-01]\n",
      " [ 5.56901130e-01  5.34089655e-01  4.95835759e-01  5.16254981e-01\n",
      "   5.27020134e-01]\n",
      " [ 5.56905820e-01  5.34088240e-01  4.95835822e-01  5.16256566e-01\n",
      "   5.27019586e-01]\n",
      " [ 5.56911756e-01  5.34086442e-01  4.95835898e-01  5.16258560e-01\n",
      "   5.27018705e-01]\n",
      " [ 5.56919211e-01  5.34084179e-01  4.95835989e-01  5.16261068e-01\n",
      "   5.27017589e-01]\n",
      " [ 5.56928606e-01  5.34081313e-01  4.95835973e-01  5.16264221e-01\n",
      "   5.27016173e-01]\n",
      " [ 5.56940444e-01  5.34077682e-01  4.95836093e-01  5.16268179e-01\n",
      "   5.27014373e-01]\n",
      " [ 5.56955355e-01  5.34073077e-01  4.95836223e-01  5.16273142e-01\n",
      "   5.27012081e-01]\n",
      " [ 5.56974126e-01  5.34067229e-01  4.95836351e-01  5.16279353e-01\n",
      "   5.27009156e-01]\n",
      " [ 5.56997742e-01  5.34059790e-01  4.95836455e-01  5.16287109e-01\n",
      "   5.27006096e-01]\n",
      " [ 5.57027536e-01  5.34050267e-01  4.95836495e-01  5.16296766e-01\n",
      "   5.27001290e-01]\n",
      " [ 5.57064821e-01  5.34038150e-01  4.95835935e-01  5.16308746e-01\n",
      "   5.26995094e-01]\n",
      " [ 5.57111587e-01  5.34022621e-01  4.95835613e-01  5.16323535e-01\n",
      "   5.26987065e-01]\n",
      " [ 5.57170150e-01  5.34002644e-01  4.95834864e-01  5.16341674e-01\n",
      "   5.26976599e-01]\n",
      " [ 5.57243331e-01  5.33976828e-01  4.95833343e-01  5.16363729e-01\n",
      "   5.26962859e-01]\n",
      " [ 5.57334536e-01  5.33943285e-01  4.95830494e-01  5.16390235e-01\n",
      "   5.26944672e-01]\n",
      " [ 5.57447807e-01  5.33899423e-01  4.95825008e-01  5.16421571e-01\n",
      "   5.26920372e-01]\n",
      " [ 5.57587848e-01  5.33841627e-01  4.95822892e-01  5.16457752e-01\n",
      "   5.26887556e-01]\n",
      " [ 5.57759958e-01  5.33764795e-01  4.95827229e-01  5.16455215e-01\n",
      "   5.26842719e-01]\n",
      " [ 5.57969805e-01  5.33661631e-01  4.95827202e-01  5.16383666e-01\n",
      "   5.26780685e-01]\n",
      " [ 5.58222919e-01  5.33521558e-01  4.95818445e-01  5.16284821e-01\n",
      "   5.26693719e-01]\n",
      " [ 5.58523737e-01  5.33328957e-01  4.95793676e-01  5.16146505e-01\n",
      "   5.26570144e-01]\n",
      " [ 5.58873748e-01  5.33073689e-01  4.95740583e-01  5.15950341e-01\n",
      "   5.26392182e-01]\n",
      " [ 5.59267193e-01  5.32723064e-01  4.95638807e-01  5.15668388e-01\n",
      "   5.26132542e-01]\n",
      " [ 5.59686889e-01  5.32225920e-01  4.95454997e-01  5.15257766e-01\n",
      "   5.25749042e-01]\n",
      " [ 5.60104433e-01  5.31511491e-01  4.95134866e-01  5.14652301e-01\n",
      "   5.25176092e-01]\n",
      " [ 5.60452896e-01  5.30471287e-01  4.94590486e-01  5.13749255e-01\n",
      "   5.24372802e-01]\n",
      " [ 5.60608513e-01  5.28937847e-01  4.93679966e-01  5.12792833e-01\n",
      "   5.23631111e-01]\n",
      " [ 5.60352523e-01  5.27549415e-01  4.92175003e-01  5.11753657e-01\n",
      "   5.22429213e-01]\n",
      " [ 5.59309221e-01  5.25420919e-01  4.90126726e-01  5.10041566e-01\n",
      "   5.20490416e-01]\n",
      " [ 5.56494826e-01  5.22086648e-01  4.87068324e-01  5.07242962e-01\n",
      "   5.17371710e-01]\n",
      " [ 5.50577995e-01  5.16846818e-01  4.82292418e-01  5.02695379e-01\n",
      "   5.12365983e-01]\n",
      " [ 5.41167580e-01  5.08590939e-01  4.74806379e-01  4.95338987e-01\n",
      "   5.04345145e-01]\n",
      " [ 5.26197238e-01  4.95555544e-01  4.63036081e-01  4.83479971e-01\n",
      "   4.91510580e-01]\n",
      " [ 5.02377505e-01  4.74938693e-01  4.44483208e-01  4.64413389e-01\n",
      "   4.70993687e-01]\n",
      " [ 4.64471566e-01  4.42286465e-01  4.15179985e-01  4.33822228e-01\n",
      "   4.38223899e-01]\n",
      " [ 4.04142116e-01  3.90516505e-01  3.68821856e-01  3.84819986e-01\n",
      "   3.85917563e-01]\n",
      " [ 3.17661089e-01  3.09997168e-01  2.95385320e-01  3.16144051e-01\n",
      "   3.15504596e-01]\n",
      " [ 2.54502282e-01  2.47873006e-01  2.32744453e-01  2.43039308e-01\n",
      "   2.42279039e-01]\n",
      " [ 1.78156532e-01  1.78563918e-01  1.65947836e-01  1.59111537e-01\n",
      "   1.55860997e-01]\n",
      " [ 5.79066295e-02  6.70144877e-02  5.88635195e-02  2.81772189e-02\n",
      "   1.58705556e-02]\n",
      " [-1.13975016e-03 -4.62559926e-03 -1.07610384e-02 -2.05381078e-04\n",
      "  -2.06515574e-02]\n",
      " [-1.13975016e-03 -4.62559926e-03 -1.07610384e-02 -2.05381078e-04\n",
      "  -2.06515574e-02]\n",
      " [-1.13975016e-03 -4.62559926e-03 -1.07610384e-02 -2.05381078e-04\n",
      "  -2.06515574e-02]\n",
      " [-1.13975016e-03 -4.62559926e-03 -1.07610384e-02 -2.05381078e-04\n",
      "  -2.06515574e-02]\n",
      " [-1.13975016e-03 -4.62559926e-03 -1.07610384e-02 -2.05381078e-04\n",
      "  -2.06515574e-02]\n",
      " [-1.13975016e-03 -4.62559926e-03 -1.07610384e-02 -2.05381078e-04\n",
      "  -2.06515574e-02]\n",
      " [-1.13975016e-03 -4.62559926e-03 -1.07610384e-02 -2.05381078e-04\n",
      "  -2.06515574e-02]\n",
      " [-1.13975016e-03 -4.62559926e-03 -1.07610384e-02 -2.05381078e-04\n",
      "  -2.06515574e-02]\n",
      " [-1.13975016e-03 -4.62559926e-03 -1.07610384e-02 -2.05381078e-04\n",
      "  -2.06515574e-02]\n",
      " [-1.13975016e-03 -4.62559926e-03 -1.07610384e-02 -2.05381078e-04\n",
      "  -2.06515574e-02]\n",
      " [-1.13975016e-03 -4.62559926e-03 -1.07610384e-02 -2.05381078e-04\n",
      "  -2.06515574e-02]\n",
      " [-1.13975016e-03 -4.62559926e-03 -1.07610384e-02 -2.05381078e-04\n",
      "  -2.06515574e-02]\n",
      " [-1.13975016e-03 -4.62559926e-03 -1.07610384e-02 -2.05381078e-04\n",
      "  -2.06515574e-02]\n",
      " [-1.13975016e-03 -4.62559926e-03 -1.07610384e-02 -2.05381078e-04\n",
      "  -2.06515574e-02]\n",
      " [-1.13975016e-03 -4.62559926e-03 -1.07610384e-02 -2.05381078e-04\n",
      "  -2.06515574e-02]\n",
      " [-1.13975016e-03 -4.62559926e-03 -1.07610384e-02 -2.05381078e-04\n",
      "  -2.06515574e-02]\n",
      " [-1.13975016e-03 -4.62559926e-03 -1.07610384e-02 -2.05381078e-04\n",
      "  -2.06515574e-02]\n",
      " [-1.13975016e-03 -4.62559926e-03 -1.07610384e-02 -2.05381078e-04\n",
      "  -2.06515574e-02]\n",
      " [-1.13975016e-03 -4.62559926e-03 -1.07610384e-02 -2.05381078e-04\n",
      "  -2.06515574e-02]\n",
      " [-1.13975016e-03 -4.62559926e-03 -1.07610384e-02 -2.05381078e-04\n",
      "  -2.06515574e-02]\n",
      " [-1.13975016e-03 -4.62559926e-03 -1.07610384e-02 -2.05381078e-04\n",
      "  -2.06515574e-02]\n",
      " [-1.13975016e-03 -4.62559926e-03 -1.07610384e-02 -2.05381078e-04\n",
      "  -2.06515574e-02]\n",
      " [-1.13975016e-03 -4.62559926e-03 -1.07610384e-02 -2.05381078e-04\n",
      "  -2.06515574e-02]\n",
      " [-1.13975016e-03 -4.62559926e-03 -1.07610384e-02 -2.05381078e-04\n",
      "  -2.06515574e-02]\n",
      " [-1.13975016e-03 -4.62559926e-03 -1.07610384e-02 -2.05381078e-04\n",
      "  -2.06515574e-02]\n",
      " [-1.13975016e-03 -4.62559926e-03 -1.07610384e-02 -2.05381078e-04\n",
      "  -2.06515574e-02]\n",
      " [-1.13975016e-03 -4.62559926e-03 -1.07610384e-02 -2.05381078e-04\n",
      "  -2.06515574e-02]\n",
      " [-1.13975016e-03 -4.62559926e-03 -1.07610384e-02 -2.05381078e-04\n",
      "  -2.06515574e-02]\n",
      " [-1.13975016e-03 -4.62559926e-03 -1.07610384e-02 -2.05381078e-04\n",
      "  -2.06515574e-02]\n",
      " [-1.13975016e-03 -4.62559926e-03 -1.07610384e-02 -2.05381078e-04\n",
      "  -2.06515574e-02]\n",
      " [-1.13975016e-03 -4.62559926e-03 -1.07610384e-02 -2.05381078e-04\n",
      "  -2.06515574e-02]\n",
      " [-1.13975016e-03 -4.62559926e-03 -1.07610384e-02 -2.05381078e-04\n",
      "  -2.06515574e-02]\n",
      " [-1.13975016e-03 -4.62559926e-03 -1.07610384e-02 -2.05381078e-04\n",
      "  -2.06515574e-02]\n",
      " [-1.13975016e-03 -4.62559926e-03 -1.07610384e-02 -2.05381078e-04\n",
      "  -2.06515574e-02]\n",
      " [-1.13975016e-03 -4.62559926e-03 -1.07610384e-02 -2.05381078e-04\n",
      "  -2.06515574e-02]\n",
      " [-1.13975016e-03 -4.62559926e-03 -1.07610384e-02 -2.05381078e-04\n",
      "  -2.06515574e-02]\n",
      " [-1.13975016e-03 -4.62559926e-03 -1.07610384e-02 -2.05381078e-04\n",
      "  -2.06515574e-02]\n",
      " [-1.13975016e-03 -4.62559926e-03 -1.07610384e-02 -2.05381078e-04\n",
      "  -2.06515574e-02]\n",
      " [-1.13975016e-03 -4.62559926e-03 -1.07610384e-02 -2.05381078e-04\n",
      "  -2.06515574e-02]\n",
      " [-1.13975016e-03 -4.62559926e-03 -1.07610384e-02 -2.05381078e-04\n",
      "  -2.06515574e-02]\n",
      " [-1.13975016e-03 -4.62559926e-03 -1.07610384e-02 -2.05381078e-04\n",
      "  -2.06515574e-02]]\n"
     ]
    }
   ],
   "source": [
    "print(train_scores_lasso)\n",
    "print(test_scores_lasso)"
   ]
  },
  {
   "cell_type": "code",
   "execution_count": 74,
   "id": "f787a66a",
   "metadata": {},
   "outputs": [],
   "source": [
    "train_mean_lasso = np.mean(train_scores_lasso,axis =1) # finding the mean values of the train values \n",
    "test_mean_lasso = np.mean(test_scores_lasso,axis =1) # finding the mean values of the test values"
   ]
  },
  {
   "cell_type": "code",
   "execution_count": 75,
   "id": "bc1f1bd9",
   "metadata": {},
   "outputs": [
    {
     "data": {
      "text/plain": [
       "array([0.53230637, 0.53230637, 0.53230637, 0.53230637, 0.53230637,\n",
       "       0.53230637, 0.53230637, 0.53230637, 0.53230637, 0.53230637,\n",
       "       0.53230637, 0.53230637, 0.53230637, 0.53230637, 0.53230637,\n",
       "       0.53230637, 0.53230637, 0.53230636, 0.53230636, 0.53230635,\n",
       "       0.53230634, 0.53230632, 0.53230629, 0.53230624, 0.53230617,\n",
       "       0.53230605, 0.53230585, 0.53230554, 0.53230505, 0.53230426,\n",
       "       0.53230302, 0.53230103, 0.53229787, 0.53229284, 0.53228482,\n",
       "       0.53227217, 0.53225336, 0.53222534, 0.53218072, 0.53210967,\n",
       "       0.53199826, 0.53182268, 0.53154718, 0.53110852, 0.53041206,\n",
       "       0.52939312, 0.52794646, 0.52577648, 0.52245597, 0.51744466,\n",
       "       0.50946523, 0.49675975, 0.47652898, 0.44431586, 0.39302354,\n",
       "       0.31754415, 0.25034069, 0.17442286, 0.05354021, 0.        ,\n",
       "       0.        , 0.        , 0.        , 0.        , 0.        ,\n",
       "       0.        , 0.        , 0.        , 0.        , 0.        ,\n",
       "       0.        , 0.        , 0.        , 0.        , 0.        ,\n",
       "       0.        , 0.        , 0.        , 0.        , 0.        ,\n",
       "       0.        , 0.        , 0.        , 0.        , 0.        ,\n",
       "       0.        , 0.        , 0.        , 0.        , 0.        ,\n",
       "       0.        , 0.        , 0.        , 0.        , 0.        ,\n",
       "       0.        , 0.        , 0.        , 0.        , 0.        ])"
      ]
     },
     "execution_count": 75,
     "metadata": {},
     "output_type": "execute_result"
    }
   ],
   "source": [
    "train_mean_lasso"
   ]
  },
  {
   "cell_type": "code",
   "execution_count": 76,
   "id": "1e64d3aa",
   "metadata": {},
   "outputs": [
    {
     "data": {
      "text/plain": [
       "array([ 0.52601718,  0.52601719,  0.5260172 ,  0.52601722,  0.52601724,\n",
       "        0.5260172 ,  0.52601724,  0.52601728,  0.52601733,  0.5260174 ,\n",
       "        0.52601748,  0.52601759,  0.52601772,  0.52601789,  0.5260181 ,\n",
       "        0.52601837,  0.5260187 ,  0.52601913,  0.52601966,  0.52602033,\n",
       "        0.52602121,  0.52602227,  0.52602361,  0.52602526,  0.52602735,\n",
       "        0.52602998,  0.52603324,  0.52603744,  0.52604247,  0.52604855,\n",
       "        0.52605608,  0.52606519,  0.52607602,  0.52608864,  0.52610284,\n",
       "        0.52611954,  0.52612998,  0.5261246 ,  0.52610829,  0.5260726 ,\n",
       "        0.52600611,  0.525886  ,  0.52567492,  0.52531584,  0.52472734,\n",
       "        0.52393005,  0.52285196,  0.52107777,  0.51805289,  0.51295572,\n",
       "        0.50484981,  0.49195588,  0.4714413 ,  0.43879683,  0.38684361,\n",
       "        0.31093844,  0.24408762,  0.16752816,  0.04556648, -0.00747667,\n",
       "       -0.00747667, -0.00747667, -0.00747667, -0.00747667, -0.00747667,\n",
       "       -0.00747667, -0.00747667, -0.00747667, -0.00747667, -0.00747667,\n",
       "       -0.00747667, -0.00747667, -0.00747667, -0.00747667, -0.00747667,\n",
       "       -0.00747667, -0.00747667, -0.00747667, -0.00747667, -0.00747667,\n",
       "       -0.00747667, -0.00747667, -0.00747667, -0.00747667, -0.00747667,\n",
       "       -0.00747667, -0.00747667, -0.00747667, -0.00747667, -0.00747667,\n",
       "       -0.00747667, -0.00747667, -0.00747667, -0.00747667, -0.00747667,\n",
       "       -0.00747667, -0.00747667, -0.00747667, -0.00747667, -0.00747667])"
      ]
     },
     "execution_count": 76,
     "metadata": {},
     "output_type": "execute_result"
    }
   ],
   "source": [
    "test_mean_lasso"
   ]
  },
  {
   "cell_type": "code",
   "execution_count": 77,
   "id": "700f0fa6",
   "metadata": {},
   "outputs": [
    {
     "data": {
      "text/plain": [
       "0.526129983497629"
      ]
     },
     "execution_count": 77,
     "metadata": {},
     "output_type": "execute_result"
    }
   ],
   "source": [
    "max(test_mean_lasso) # finding the maximum mean value"
   ]
  },
  {
   "cell_type": "code",
   "execution_count": 78,
   "id": "0b264417",
   "metadata": {},
   "outputs": [
    {
     "data": {
      "text/plain": [
       "<seaborn.axisgrid.JointGrid at 0x18df9d98e50>"
      ]
     },
     "execution_count": 78,
     "metadata": {},
     "output_type": "execute_result"
    },
    {
     "data": {
      "image/png": "[encoded data removed]",
      "text/plain": [
       "<Figure size 432x432 with 3 Axes>"
      ]
     },
     "metadata": {
      "needs_background": "light"
     },
     "output_type": "display_data"
    }
   ],
   "source": [
    "sns.jointplot(x=np.log(param_range),y=test_mean_lasso) # alpha graph"
   ]
  },
  {
   "cell_type": "code",
   "execution_count": 79,
   "id": "ece4525c",
   "metadata": {},
   "outputs": [
    {
     "data": {
      "text/plain": [
       "(array([36], dtype=int64),)"
      ]
     },
     "execution_count": 79,
     "metadata": {},
     "output_type": "execute_result"
    }
   ],
   "source": [
    "np.where(test_mean_lasso == max(test_mean_lasso)) # finding the location of the maximum mean value"
   ]
  },
  {
   "cell_type": "code",
   "execution_count": 80,
   "id": "fd6d59a2",
   "metadata": {},
   "outputs": [
    {
     "name": "stdout",
     "output_type": "stream",
     "text": [
      "the best alpha value is:  43.28761281083057\n"
     ]
    }
   ],
   "source": [
    "print(\"the best alpha value is: \", param_range[36]) # finding its lambda value\n"
   ]
  },
  {
   "cell_type": "code",
   "execution_count": 81,
   "id": "5417e4d1",
   "metadata": {},
   "outputs": [],
   "source": [
    "lar_best = Lasso(alpha = param_range[36]) # creating a model for finding the best model for the above alpha value"
   ]
  },
  {
   "cell_type": "code",
   "execution_count": 82,
   "id": "16764e9f",
   "metadata": {},
   "outputs": [
    {
     "data": {
      "text/plain": [
       "Lasso(alpha=43.28761281083057)"
      ]
     },
     "execution_count": 82,
     "metadata": {},
     "output_type": "execute_result"
    }
   ],
   "source": [
    "lar_best.fit(x_train_s,y_train) # fitting the model"
   ]
  },
  {
   "cell_type": "markdown",
   "id": "f2870b4c",
   "metadata": {},
   "source": [
    "## Evaluating model performance"
   ]
  },
  {
   "cell_type": "code",
   "execution_count": 83,
   "id": "fa3ccd35",
   "metadata": {},
   "outputs": [
    {
     "name": "stdout",
     "output_type": "stream",
     "text": [
      "The coefficient of determination of test set is:  0.5432736835028129\n"
     ]
    }
   ],
   "source": [
    "print(\"The coefficient of determination of test set is: \",r2_score(y_test,lar_best.predict(x_test_s))) "
   ]
  },
  {
   "cell_type": "code",
   "execution_count": 84,
   "id": "0c27c15a",
   "metadata": {},
   "outputs": [
    {
     "name": "stdout",
     "output_type": "stream",
     "text": [
      "The coefficient of determination of trains set is:  0.531940946847618\n"
     ]
    }
   ],
   "source": [
    "print(\"The coefficient of determination of trains set is: \",r2_score(y_train,lar_best.predict(x_train_s)))"
   ]
  },
  {
   "cell_type": "code",
   "execution_count": 85,
   "id": "b020dd3a",
   "metadata": {},
   "outputs": [
    {
     "name": "stdout",
     "output_type": "stream",
     "text": [
      "The mean squared error of Lasso Regression is:  67724261.00467382\n"
     ]
    }
   ],
   "source": [
    "print(\"The mean squared error of Lasso Regression is: \",mean_squared_error(y_test,lar.predict(x_test_s)))"
   ]
  },
  {
   "cell_type": "markdown",
   "id": "fbe40071",
   "metadata": {},
   "source": [
    "<a id=\"DT\"></a>\n",
    "# Decision Tree Regression"
   ]
  },
  {
   "cell_type": "code",
   "execution_count": 86,
   "id": "746b08d5",
   "metadata": {},
   "outputs": [
    {
     "data": {
      "text/plain": [
       "DecisionTreeRegressor(max_depth=3, min_samples_leaf=25, min_samples_split=40)"
      ]
     },
     "execution_count": 86,
     "metadata": {},
     "output_type": "execute_result"
    }
   ],
   "source": [
    "from sklearn import tree\n",
    "# creating a decision tree regressor model with maximum number of levels = 3, minimum observations at internal node = 40 and \n",
    "# minimum number of observations at leaf node = 25 - for pruning the tree \n",
    "regtree = tree.DecisionTreeRegressor(max_depth = 3,min_samples_leaf=25,min_samples_split=40)  \n",
    "regtree.fit(x_train,y_train) # fitting the tree model in x and y train"
   ]
  },
  {
   "cell_type": "code",
   "execution_count": 87,
   "id": "02437c2a",
   "metadata": {},
   "outputs": [],
   "source": [
    "y_train_pred = regtree.predict(x_train) # predicting y train values\n",
    "y_test_pred = regtree.predict(x_test) # predicting y test values"
   ]
  },
  {
   "cell_type": "code",
   "execution_count": 88,
   "id": "375a9ae5",
   "metadata": {},
   "outputs": [],
   "source": [
    "dot_data = tree.export_graphviz(regtree,out_file =None) # creating a graph visualization"
   ]
  },
  {
   "cell_type": "code",
   "execution_count": 89,
   "id": "6e200fbe",
   "metadata": {},
   "outputs": [],
   "source": [
    "from IPython.display import Image"
   ]
  },
  {
   "cell_type": "code",
   "execution_count": 90,
   "id": "db1d3782",
   "metadata": {},
   "outputs": [],
   "source": [
    "import pydotplus"
   ]
  },
  {
   "cell_type": "code",
   "execution_count": 91,
   "id": "f24f1aec",
   "metadata": {},
   "outputs": [],
   "source": [
    "graph = pydotplus.graph_from_dot_data(dot_data) # plotting the graph using pydotplus"
   ]
  },
  {
   "cell_type": "code",
   "execution_count": 92,
   "id": "e6527ad4",
   "metadata": {},
   "outputs": [
    {
     "data": {
      "image/png": "[encoded data removed]",
      "text/plain": [
       "<IPython.core.display.Image object>"
      ]
     },
     "execution_count": 92,
     "metadata": {},
     "output_type": "execute_result"
    }
   ],
   "source": [
    "Image(graph.create_png()) # creating and depicting the image of the decision tree regressor graph"
   ]
  },
  {
   "cell_type": "markdown",
   "id": "0ac78b4b",
   "metadata": {},
   "source": [
    "## Evaluating model performance"
   ]
  },
  {
   "cell_type": "code",
   "execution_count": 93,
   "id": "8b64a1d0",
   "metadata": {},
   "outputs": [
    {
     "data": {
      "text/plain": [
       "60424631.026134804"
      ]
     },
     "execution_count": 93,
     "metadata": {},
     "output_type": "execute_result"
    }
   ],
   "source": [
    "mean_squared_error(y_test,y_test_pred) # MSE of Decision Tree Regressor "
   ]
  },
  {
   "cell_type": "code",
   "execution_count": 94,
   "id": "a2d03ac6",
   "metadata": {},
   "outputs": [
    {
     "name": "stdout",
     "output_type": "stream",
     "text": [
      "The coefficient of determination is:  0.6137194061789908\n"
     ]
    }
   ],
   "source": [
    "print(\"The coefficient of determination is: \", r2_score(y_train,y_train_pred)) # r2 for actual and predicted train values"
   ]
  },
  {
   "cell_type": "code",
   "execution_count": 95,
   "id": "52a2acdf",
   "metadata": {},
   "outputs": [
    {
     "name": "stdout",
     "output_type": "stream",
     "text": [
      "the coefficient of determination is:  0.5927831611924907\n"
     ]
    }
   ],
   "source": [
    "print(\"the coefficient of determination is: \",r2_score(y_test,y_test_pred)) # r2 for actual and predicted test values"
   ]
  },
  {
   "cell_type": "markdown",
   "id": "06739153",
   "metadata": {},
   "source": [
    "<a id=\"BR\"></a>\n",
    "# Bagging Regression"
   ]
  },
  {
   "cell_type": "code",
   "execution_count": 96,
   "id": "1eddf9e7",
   "metadata": {},
   "outputs": [],
   "source": [
    "base_tree = tree.DecisionTreeRegressor() # creating a base decision tree regressor model"
   ]
  },
  {
   "cell_type": "code",
   "execution_count": 97,
   "id": "dc0ffe01",
   "metadata": {},
   "outputs": [],
   "source": [
    "from sklearn.ensemble import BaggingRegressor"
   ]
  },
  {
   "cell_type": "code",
   "execution_count": 98,
   "id": "9a23550f",
   "metadata": {},
   "outputs": [],
   "source": [
    "# creating a Bagging Regressor model \n",
    "bag_reg = BaggingRegressor(base_estimator=base_tree, n_estimators=1000,\n",
    "                            bootstrap=True, n_jobs=-1,\n",
    "                            random_state=42)\n"
   ]
  },
  {
   "cell_type": "code",
   "execution_count": 99,
   "id": "8262051f",
   "metadata": {},
   "outputs": [
    {
     "data": {
      "text/plain": [
       "BaggingRegressor(base_estimator=DecisionTreeRegressor(), n_estimators=1000,\n",
       "                 n_jobs=-1, random_state=42)"
      ]
     },
     "execution_count": 99,
     "metadata": {},
     "output_type": "execute_result"
    }
   ],
   "source": [
    "bag_reg.fit(x_train, y_train) # fitting the model"
   ]
  },
  {
   "cell_type": "code",
   "execution_count": 100,
   "id": "f7d8d3ec",
   "metadata": {},
   "outputs": [],
   "source": [
    "bag_reg_pred = bag_reg.predict(x_test) # making predictions on the test set"
   ]
  },
  {
   "cell_type": "code",
   "execution_count": 101,
   "id": "a0480b73",
   "metadata": {},
   "outputs": [
    {
     "data": {
      "text/plain": [
       "array([ 64953.46765,  70234.96994,  71776.76966,  78938.46054,\n",
       "        72084.08331,  87928.11178,  68681.75525,  74221.4861 ,\n",
       "        61961.09151,  79199.93548,  71735.84758,  75644.00939,\n",
       "        91865.98716,  77679.20362,  71597.1704 , 100032.85879,\n",
       "        68198.8346 ,  66227.04967,  68789.80532,  81339.6209 ,\n",
       "        95968.0042 , 104981.80772,  69322.56052,  69853.0279 ,\n",
       "        69459.98693,  71999.1929 ,  71077.7141 , 101465.09439,\n",
       "        72945.06229,  71646.9845 ,  64952.81868,  61201.78925,\n",
       "        80197.27821,  82326.14476, 102540.64956,  89091.85493,\n",
       "        65374.42254,  73600.8875 ,  68858.89379,  74051.31345,\n",
       "        72622.39737,  73671.64838,  71757.72311,  64568.72879,\n",
       "        76154.53724,  69379.57771,  73438.55983,  66133.61507,\n",
       "        67634.57764,  71541.20382, 110900.23651,  76612.19128,\n",
       "        99483.33526,  79813.4926 ,  95154.27262,  68077.55652,\n",
       "        70355.06864,  76251.4028 ,  73264.02549,  65989.80963,\n",
       "        74729.25789,  78184.69925,  68056.20857,  62204.43402,\n",
       "        62053.41925,  76088.69105,  74296.507  ,  63000.13492,\n",
       "       104393.11387,  71384.28615,  74357.0256 ,  68586.54569,\n",
       "        69945.84082,  69818.50394,  74116.23091,  84138.73719,\n",
       "        68145.29363,  71686.78595,  68738.27831,  62552.25177,\n",
       "        95187.39387,  77325.36568,  74559.03594,  74615.10798,\n",
       "        68442.78741,  68638.93034,  64994.54031,  70476.67603,\n",
       "        74749.78173, 100823.18101,  76944.03818,  66399.42435,\n",
       "        76370.33033,  95154.27262,  67499.4204 ,  67955.26274,\n",
       "        66210.10745,  78544.37471,  96019.3698 ,  69741.52684,\n",
       "        70553.98096,  71752.42611,  69778.84654,  71700.41721,\n",
       "        75928.3528 ,  65997.34667, 101061.65474,  76628.87331,\n",
       "        80583.53553,  73083.16569,  81720.24679,  75761.01447,\n",
       "        73010.45095,  63278.15811,  65578.30491,  87848.57185,\n",
       "        98007.40566,  69798.22792,  60401.82212,  70242.87544,\n",
       "        73745.02477, 100210.06718,  74753.74686,  71140.73055,\n",
       "        78574.39855,  81868.14544,  77003.15686,  61482.10735,\n",
       "        73027.11306,  65022.78665,  74823.1371 ,  78107.95108,\n",
       "        77308.43958,  71914.70538,  76509.10333,  75600.20244,\n",
       "        75843.9866 ,  71310.16583,  92869.50663,  78006.08292,\n",
       "        71327.21542,  85725.60508,  70510.044  ,  62413.54679,\n",
       "        96208.51969,  74359.05284,  78867.5737 ,  60490.81344,\n",
       "        73085.34373,  66524.92811,  63433.55186,  75088.37161,\n",
       "       108039.66471,  80274.90363,  61918.41661,  74189.26354,\n",
       "        70809.61348,  62803.13331,  70459.73175,  67001.10267,\n",
       "        65454.885  ,  88563.6124 ,  77676.18644,  69308.83646,\n",
       "        72409.8983 ,  67449.45359,  78412.57399,  73057.6436 ,\n",
       "        83759.08493,  63956.50403,  68953.74945,  66291.69796,\n",
       "        89846.35239,  64836.33332,  69099.37368,  74340.39727,\n",
       "        70996.33339,  85267.41328,  71851.8853 , 100412.46643,\n",
       "        64296.67138,  77452.21369,  74543.91926, 100084.42267,\n",
       "        73492.17922,  95799.12661,  61784.56751,  72763.4019 ,\n",
       "        76999.99303,  70756.76651,  61212.66586,  79861.23856,\n",
       "        74778.86173,  72113.06663, 102918.36514,  68337.34389,\n",
       "       110927.50435,  79448.63784,  68655.39714,  69018.84808,\n",
       "        72208.66424, 106205.59244,  84937.22337,  64339.91973,\n",
       "        60782.29642,  73266.80018,  70628.51099,  69441.97038,\n",
       "       111877.38937,  61393.88208,  67232.30435, 110322.04425,\n",
       "        84107.61926,  72471.12585,  70932.46002,  81950.18672,\n",
       "        70032.53053,  76674.23649,  76554.32888,  71250.42998,\n",
       "        62389.58144,  67869.92228,  95297.79123,  79684.04425,\n",
       "        68926.76269,  82082.69097,  75595.53599,  73021.94274,\n",
       "        63467.6561 ,  66384.74646,  80530.15075,  64783.56156,\n",
       "        74039.83452,  91268.6438 ,  69035.11928,  78683.36031,\n",
       "        63405.75022,  77513.01774,  71024.84907,  80354.76338,\n",
       "        72908.20505,  82190.95841,  75703.07181,  72241.01206,\n",
       "        78145.5365 ,  99709.25071,  61532.96496,  80767.56499,\n",
       "        84185.90333,  79969.76146,  63401.31589,  64558.61817,\n",
       "        76388.18117,  71583.88573,  77173.12547,  76509.10333,\n",
       "        66641.30279,  70010.62154,  71027.8797 ,  78081.98572,\n",
       "        75305.54768,  77377.1824 ,  65789.76514, 106306.69102,\n",
       "        64958.24276,  71889.03514,  81514.22573,  68916.50876,\n",
       "        76069.99038,  74277.02135,  79183.53318,  94779.54804,\n",
       "        67593.78215,  70570.68488,  73358.80565,  72161.77447,\n",
       "        70460.57252,  64359.39063,  63568.70511,  71412.79497,\n",
       "        64958.24276,  74310.86168,  70683.9529 ,  61506.96359,\n",
       "        90571.29285,  73093.62427,  75816.69591,  73302.82499,\n",
       "        78303.2195 ,  67009.99686,  73160.5845 ,  97292.73201,\n",
       "        86132.41782,  69233.0684 ,  72951.49762,  76127.54041,\n",
       "        71117.81205,  72744.10983,  67181.03012,  78570.34515,\n",
       "        87529.40594,  83240.67696,  74077.89631,  74480.32272,\n",
       "        66986.88481,  61722.8361 ,  74231.60738,  65517.36682,\n",
       "        67878.66516,  70633.18585,  70198.13503,  81490.75495,\n",
       "        71843.52354,  74512.34129,  67933.33219,  66442.92975,\n",
       "        61915.04879,  69955.39807])"
      ]
     },
     "execution_count": 101,
     "metadata": {},
     "output_type": "execute_result"
    }
   ],
   "source": [
    "bag_reg_pred"
   ]
  },
  {
   "cell_type": "markdown",
   "id": "98c41631",
   "metadata": {},
   "source": [
    "## Evaluating model performance\n"
   ]
  },
  {
   "cell_type": "code",
   "execution_count": 102,
   "id": "2910fa42",
   "metadata": {},
   "outputs": [
    {
     "name": "stdout",
     "output_type": "stream",
     "text": [
      "The Mean Squared Error of Bagging Regressor model is:  53085490.99802305\n"
     ]
    }
   ],
   "source": [
    "print(\"The Mean Squared Error of Bagging Regressor model is: \",mean_squared_error(y_test,bag_reg_pred)) "
   ]
  },
  {
   "cell_type": "code",
   "execution_count": 103,
   "id": "61517a13",
   "metadata": {},
   "outputs": [
    {
     "name": "stdout",
     "output_type": "stream",
     "text": [
      "The coefficient of determination of train set is:  0.9462239933968265\n"
     ]
    }
   ],
   "source": [
    "print(\"The coefficient of determination of train set is: \", r2_score(y_train,bag_reg.predict(x_train)))"
   ]
  },
  {
   "cell_type": "code",
   "execution_count": 104,
   "id": "4d310247",
   "metadata": {},
   "outputs": [
    {
     "name": "stdout",
     "output_type": "stream",
     "text": [
      "The coefficient of determination of test set is:  0.6422434781370938\n"
     ]
    }
   ],
   "source": [
    "print(\"The coefficient of determination of test set is: \", r2_score(y_test,bag_reg_pred))"
   ]
  },
  {
   "cell_type": "markdown",
   "id": "5a8bf816",
   "metadata": {},
   "source": [
    "<a id=\"RFR\"></a>\n",
    "# Random Forest Regression"
   ]
  },
  {
   "cell_type": "code",
   "execution_count": 105,
   "id": "fdf73312",
   "metadata": {},
   "outputs": [],
   "source": [
    "from sklearn.ensemble import RandomForestRegressor"
   ]
  },
  {
   "cell_type": "code",
   "execution_count": 106,
   "id": "6e1e66dd",
   "metadata": {},
   "outputs": [],
   "source": [
    "rf_reg = RandomForestRegressor(n_estimators=1000, n_jobs=-1 ,random_state=42) # creating Random Forest Regressor model"
   ]
  },
  {
   "cell_type": "code",
   "execution_count": 107,
   "id": "7a9442b2",
   "metadata": {},
   "outputs": [
    {
     "data": {
      "text/plain": [
       "RandomForestRegressor(n_estimators=1000, n_jobs=-1, random_state=42)"
      ]
     },
     "execution_count": 107,
     "metadata": {},
     "output_type": "execute_result"
    }
   ],
   "source": [
    "rf_reg.fit(x_train, y_train) # fitting the model"
   ]
  },
  {
   "cell_type": "code",
   "execution_count": 108,
   "id": "e37b148f",
   "metadata": {},
   "outputs": [],
   "source": [
    "rf_reg_pred = rf_reg.predict(x_test) # making predictions on the test set"
   ]
  },
  {
   "cell_type": "code",
   "execution_count": 109,
   "id": "0f3a515f",
   "metadata": {},
   "outputs": [
    {
     "data": {
      "text/plain": [
       "array([ 65023.28537,  70069.19313,  71709.85435,  79023.29062,\n",
       "        72094.35158,  87679.28546,  68706.519  ,  74207.47537,\n",
       "        61847.60182,  79058.45273,  71626.83586,  75725.82687,\n",
       "        91736.70045,  77656.81772,  71679.69731, 100106.1903 ,\n",
       "        68223.66327,  66286.6649 ,  68799.96568,  81330.63055,\n",
       "        95934.56356, 105151.51943,  69297.6045 ,  69658.00188,\n",
       "        69310.96578,  72016.7147 ,  71040.10945, 101452.92173,\n",
       "        73006.85271,  71539.4709 ,  65018.62211,  61314.81332,\n",
       "        79992.1378 ,  82298.47276, 102375.86981,  89019.68055,\n",
       "        65239.90401,  73468.74908,  68810.62604,  74091.17374,\n",
       "        72312.09485,  73626.82823,  71715.659  ,  64557.51144,\n",
       "        76117.96639,  69274.332  ,  73418.38445,  65971.21953,\n",
       "        67509.15677,  71528.73815, 110949.10657,  76562.47435,\n",
       "        99331.68408,  79817.3838 ,  95122.19197,  67988.02834,\n",
       "        70612.46165,  76179.0403 ,  73283.99701,  65901.97976,\n",
       "        74829.99742,  78311.37648,  68120.30157,  62296.97118,\n",
       "        62082.37115,  75942.59537,  74244.18994,  63043.77002,\n",
       "       104387.43551,  71422.12027,  74268.06615,  68562.93497,\n",
       "        69870.89833,  69713.16165,  74090.38102,  84091.5961 ,\n",
       "        68086.9278 ,  71740.53854,  68710.05312,  62609.91729,\n",
       "        95289.1003 ,  77224.36995,  74521.44853,  74511.6792 ,\n",
       "        68459.35403,  68497.28906,  64793.97239,  70292.1174 ,\n",
       "        74721.3212 , 100778.03206,  76701.67998,  66562.03311,\n",
       "        76514.78932,  95122.19197,  67580.60365,  68151.96279,\n",
       "        66277.40167,  78534.61726,  95881.3507 ,  69830.30084,\n",
       "        70540.70409,  71456.21624,  69850.22577,  71631.50512,\n",
       "        75908.21637,  66012.85341, 101152.29066,  76498.24073,\n",
       "        80570.52176,  73139.64087,  81724.10308,  75558.59839,\n",
       "        73038.94702,  63314.38446,  65694.21816,  87841.61362,\n",
       "        98072.91601,  69865.76184,  60409.81965,  70285.45505,\n",
       "        73735.68336, 100226.42448,  75022.21723,  71107.42767,\n",
       "        78507.37808,  81971.20528,  76956.8192 ,  61468.24274,\n",
       "        73005.49174,  64970.96652,  74800.25599,  78153.64615,\n",
       "        77451.665  ,  71812.50446,  76611.48517,  75593.12489,\n",
       "        75825.54069,  71133.71294,  92851.61377,  78038.17468,\n",
       "        71393.67512,  85798.17885,  70562.84866,  62392.97096,\n",
       "        96233.41572,  74311.7397 ,  78855.82273,  60637.89679,\n",
       "        72928.75993,  66431.52965,  63436.29513,  75073.4404 ,\n",
       "       108153.01652,  80243.4973 ,  62042.13553,  74085.29966,\n",
       "        70912.75801,  62737.65645,  70462.64667,  67089.77812,\n",
       "        65512.52574,  88424.61169,  77776.99006,  69213.50841,\n",
       "        72459.8487 ,  67533.17594,  78508.88269,  73192.14985,\n",
       "        83588.22102,  63922.3383 ,  68967.55333,  66336.29709,\n",
       "        89700.17248,  64775.23513,  69083.28351,  74309.70574,\n",
       "        71000.72128,  85416.33958,  71887.00869, 100197.68182,\n",
       "        64216.05902,  77478.71026,  74378.83036,  99929.08667,\n",
       "        73422.95862,  96118.59929,  61772.81581,  72891.34512,\n",
       "        77204.84935,  70659.07421,  61177.62031,  79866.32683,\n",
       "        74660.60128,  72199.41319, 102931.17156,  68124.71443,\n",
       "       110769.52462,  79563.37505,  68720.44655,  68986.2935 ,\n",
       "        72111.83623, 106220.09382,  84894.10493,  64346.09162,\n",
       "        60847.09535,  73241.07309,  70729.53669,  69437.17321,\n",
       "       111882.6556 ,  61396.07028,  67162.34545, 110264.45322,\n",
       "        84035.45262,  72363.01835,  70896.02591,  81889.77555,\n",
       "        70080.59611,  76706.62221,  76356.70345,  71289.78396,\n",
       "        62386.56921,  67761.06941,  95223.48317,  79726.15069,\n",
       "        68877.89214,  82072.61727,  75529.30868,  73099.38111,\n",
       "        63487.2269 ,  66213.06481,  80568.80862,  64761.37889,\n",
       "        73905.93801,  91437.77612,  69076.27102,  78683.7462 ,\n",
       "        63378.90105,  77521.38176,  71038.37169,  80322.91643,\n",
       "        72975.78472,  82168.5151 ,  75850.87923,  72288.11439,\n",
       "        78246.82315,  99836.05501,  61759.42574,  80725.16415,\n",
       "        84178.52639,  79938.21792,  63350.49178,  64407.11206,\n",
       "        76536.21649,  71581.27416,  77251.71088,  76611.48517,\n",
       "        66618.87124,  70020.45265,  71024.82983,  77828.67535,\n",
       "        75363.9981 ,  77475.61758,  65875.81881, 106363.79634,\n",
       "        64844.89528,  71929.8583 ,  81492.89028,  68953.62116,\n",
       "        76300.02357,  74170.80374,  79225.98966,  94687.39247,\n",
       "        67764.97445,  70655.94252,  73480.57983,  72228.37724,\n",
       "        70547.12831,  64411.5761 ,  63548.27391,  71411.33222,\n",
       "        64844.89528,  74188.2029 ,  70690.84566,  61557.282  ,\n",
       "        90682.0992 ,  73113.57776,  75978.99718,  73359.65874,\n",
       "        78380.25681,  67017.90032,  73129.17485,  97311.643  ,\n",
       "        85982.17281,  69290.43977,  72850.80799,  76084.11171,\n",
       "        71125.57124,  72732.1558 ,  67128.45507,  78666.07177,\n",
       "        87613.30294,  83255.11201,  74009.81266,  74698.64665,\n",
       "        66991.86089,  61493.33602,  74214.40363,  65515.69193,\n",
       "        67963.02488,  70705.40732,  70117.82992,  81506.3721 ,\n",
       "        71815.82416,  74527.35984,  67925.79616,  66430.33363,\n",
       "        61803.55749,  69945.95686])"
      ]
     },
     "execution_count": 109,
     "metadata": {},
     "output_type": "execute_result"
    }
   ],
   "source": [
    "rf_reg_pred"
   ]
  },
  {
   "cell_type": "markdown",
   "id": "0dc44098",
   "metadata": {},
   "source": [
    "## Evaluating model performance\n"
   ]
  },
  {
   "cell_type": "code",
   "execution_count": 110,
   "id": "74e26f56",
   "metadata": {},
   "outputs": [
    {
     "name": "stdout",
     "output_type": "stream",
     "text": [
      "The mean squared error of Random Forest Regressor is:  53200710.02528733\n"
     ]
    }
   ],
   "source": [
    "print(\"The mean squared error of Random Forest Regressor is: \", mean_squared_error(y_test,rf_reg_pred))"
   ]
  },
  {
   "cell_type": "code",
   "execution_count": 111,
   "id": "3d4e0441",
   "metadata": {},
   "outputs": [
    {
     "name": "stdout",
     "output_type": "stream",
     "text": [
      "The coefficient of determination of test set is:  0.6414669880327067\n"
     ]
    }
   ],
   "source": [
    "print(\"The coefficient of determination of test set is: \",r2_score(y_test,rf_reg_pred))"
   ]
  },
  {
   "cell_type": "code",
   "execution_count": 112,
   "id": "cc37e326",
   "metadata": {},
   "outputs": [
    {
     "name": "stdout",
     "output_type": "stream",
     "text": [
      "The coefficient of detemination of train set is:  0.9462277280802285\n"
     ]
    }
   ],
   "source": [
    "print(\"The coefficient of detemination of train set is: \",r2_score(y_train,rf_reg.predict(x_train)))"
   ]
  },
  {
   "cell_type": "markdown",
   "id": "c4a0261f",
   "metadata": {},
   "source": [
    "## Hyperparameter Tuning \n",
    "\n",
    "To enhance the performance of the model, we can use GridSearch to find the best hyperparameters that would give us the best models for predicting salary"
   ]
  },
  {
   "cell_type": "code",
   "execution_count": 113,
   "id": "721d7f1a",
   "metadata": {},
   "outputs": [],
   "source": [
    "from sklearn.model_selection import GridSearchCV"
   ]
  },
  {
   "cell_type": "code",
   "execution_count": 114,
   "id": "a63f8c3b",
   "metadata": {},
   "outputs": [],
   "source": [
    "rf_reg_h = RandomForestRegressor(random_state=0) # creating a random forest regressor model for hyperparameter tuning"
   ]
  },
  {
   "cell_type": "code",
   "execution_count": 115,
   "id": "dd84e492",
   "metadata": {},
   "outputs": [],
   "source": [
    "# defining a grid of different hyperparameters to search\n",
    "param_grid = {\n",
    "    'n_estimators': [100, 200, 300],\n",
    "    'max_depth': [None, 10, 20],\n",
    "    'min_samples_split': [2, 5, 10],\n",
    "    'min_samples_leaf': [1, 2, 4]\n",
    "}"
   ]
  },
  {
   "cell_type": "code",
   "execution_count": 116,
   "id": "5c3aaa4a",
   "metadata": {},
   "outputs": [
    {
     "data": {
      "text/plain": [
       "GridSearchCV(estimator=RandomForestRegressor(random_state=0),\n",
       "             param_grid={'max_depth': [None, 10, 20],\n",
       "                         'min_samples_leaf': [1, 2, 4],\n",
       "                         'min_samples_split': [2, 5, 10],\n",
       "                         'n_estimators': [100, 200, 300]},\n",
       "             scoring='r2')"
      ]
     },
     "execution_count": 116,
     "metadata": {},
     "output_type": "execute_result"
    }
   ],
   "source": [
    "grid_search = GridSearchCV(rf_reg_h, param_grid,scoring='r2') # perform grid search\n",
    "grid_search.fit(x_train, y_train) # fit the model"
   ]
  },
  {
   "cell_type": "code",
   "execution_count": 117,
   "id": "e8158c7d",
   "metadata": {},
   "outputs": [
    {
     "name": "stdout",
     "output_type": "stream",
     "text": [
      "Best Hyperparameters: {'max_depth': 10, 'min_samples_leaf': 1, 'min_samples_split': 5, 'n_estimators': 100}\n"
     ]
    }
   ],
   "source": [
    "best_params = grid_search.best_params_ # finding the best parameters\n",
    "print(\"Best Hyperparameters:\", best_params)"
   ]
  },
  {
   "cell_type": "code",
   "execution_count": 118,
   "id": "53bc5d5f",
   "metadata": {},
   "outputs": [],
   "source": [
    "best_model = grid_search.best_estimator_\n",
    "y_pred = best_model.predict(x_test) # predicting values using best model"
   ]
  },
  {
   "cell_type": "code",
   "execution_count": 119,
   "id": "ae449158",
   "metadata": {},
   "outputs": [
    {
     "name": "stdout",
     "output_type": "stream",
     "text": [
      "Mean Squared Error: 54299252.79604656\n",
      "Coefficient of determination for test set: 0.6340636310438997\n",
      "Coefficient of determination of train set: 0.8373572827759908\n"
     ]
    }
   ],
   "source": [
    "print(\"Mean Squared Error:\", mean_squared_error(y_test, y_pred))\n",
    "print(\"Coefficient of determination for test set:\",r2_score(y_test,y_pred))\n",
    "print(\"Coefficient of determination of train set:\",r2_score(y_train,best_model.predict(x_train)))"
   ]
  },
  {
   "cell_type": "markdown",
   "id": "e2e365a5",
   "metadata": {},
   "source": [
    "<a id=\"GB\"></a>\n",
    "# Gradient Boosting Regression"
   ]
  },
  {
   "cell_type": "code",
   "execution_count": 120,
   "id": "972bb24d",
   "metadata": {},
   "outputs": [],
   "source": [
    "from sklearn.ensemble import GradientBoostingRegressor"
   ]
  },
  {
   "cell_type": "code",
   "execution_count": 121,
   "id": "cf6a288f",
   "metadata": {},
   "outputs": [
    {
     "data": {
      "text/plain": [
       "GradientBoostingRegressor(n_estimators=1000)"
      ]
     },
     "execution_count": 121,
     "metadata": {},
     "output_type": "execute_result"
    }
   ],
   "source": [
    "# creating a gradient boosting regressor model\n",
    "gb_reg = GradientBoostingRegressor(learning_rate =0.1, n_estimators =1000, max_depth = 3) \n",
    "gb_reg.fit(x_train, y_train) # fitting the model"
   ]
  },
  {
   "cell_type": "code",
   "execution_count": 122,
   "id": "835e0d93",
   "metadata": {},
   "outputs": [],
   "source": [
    "gb_reg_pred = gb_reg.predict(x_test) # making predictions on the test set"
   ]
  },
  {
   "cell_type": "code",
   "execution_count": 123,
   "id": "57e969ff",
   "metadata": {},
   "outputs": [
    {
     "data": {
      "text/plain": [
       "array([ 69098.33181513,  65257.80573562,  71255.4049407 ,  79597.04767106,\n",
       "        80654.01892203,  85992.85423812,  67165.17647578,  69804.43734831,\n",
       "        61262.4020872 ,  73145.07184457,  71888.84277174,  78842.85905992,\n",
       "        88980.06998281,  73914.82719526,  71515.88276048,  99972.82152991,\n",
       "        66336.76852626,  69192.35052892,  69399.58730101,  85154.35243294,\n",
       "        98766.09572386, 104775.36936108,  69350.04526142,  67907.64587956,\n",
       "        79532.24268264,  68900.74396378,  71120.32067256, 103377.29118934,\n",
       "        72087.97142465,  75436.58247929,  79555.33989297,  62190.41817449,\n",
       "        77761.56094392,  84218.98843563, 105031.76225583,  74525.09758439,\n",
       "        64963.22671077,  69197.35832987,  67928.41683416,  70257.18700659,\n",
       "        73412.4881112 ,  72038.68972321,  73196.89391216,  63952.40133205,\n",
       "        75671.0283738 ,  71781.81811165,  76039.52570271,  64306.326003  ,\n",
       "        73337.93818333,  71422.87059176, 112657.45093279,  74640.6995943 ,\n",
       "        98866.97893594,  86218.0507797 ,  94370.79317134,  71817.29649836,\n",
       "        69546.92026839,  72062.14505507,  70662.75874906,  63973.64080851,\n",
       "        71033.85880276,  76962.29609004,  66762.73767028,  64494.38185189,\n",
       "        61736.40673151,  74724.38761867,  70739.85643266,  62361.07442678,\n",
       "       101900.50133421,  73112.81699748,  74313.70519628,  68358.53830487,\n",
       "        69000.30369994,  68703.5180345 ,  74359.20782814,  82415.19372027,\n",
       "        76733.23890242,  71686.43008182,  64810.35300681,  67727.4948012 ,\n",
       "        92625.27558729,  70699.09746124,  75150.83420609,  74975.68468528,\n",
       "        68690.99404234,  70235.81804373,  61027.06195688,  68752.87081149,\n",
       "        68054.71356485,  99926.90526865,  75469.95635872,  63941.35054414,\n",
       "        72694.84506496,  94370.79317134,  69935.15861333,  77576.14960537,\n",
       "        72338.30478468,  83340.46203582,  95974.52824548,  73393.17001784,\n",
       "        67399.99750753,  72030.71705279,  72589.75827339,  69037.73221987,\n",
       "        74456.27113284,  65009.54955612, 100067.67036337,  78346.75148213,\n",
       "        81370.58839011,  71226.9880842 ,  70472.46549859,  78869.70823348,\n",
       "        76049.89289791,  62272.61916133,  67276.53122933,  92391.76545751,\n",
       "       102195.58916074,  68803.45918365,  61858.40195146,  73872.03173706,\n",
       "        69908.3364466 ,  95146.42755484,  81619.63982277,  70315.37820297,\n",
       "        80236.6123351 ,  86367.59585202,  81304.28034412,  59209.26641449,\n",
       "        61348.42184388,  65292.92910237,  81970.60296638,  77206.34239774,\n",
       "        75451.29481906,  70523.46133016,  75876.32684519,  75532.49546071,\n",
       "        74225.87410741,  70617.85784221,  93406.11612729,  78681.5586088 ,\n",
       "        71563.44088332,  75399.7998346 ,  69172.18739417,  62446.52881387,\n",
       "        94760.44071374,  77773.14748401,  75087.38759248,  62377.35894696,\n",
       "        71026.65628737,  67290.83476901,  60929.0494833 ,  74742.26469106,\n",
       "       104892.65403444,  78386.34812273,  59172.21222785,  71964.6770857 ,\n",
       "        63373.25308912,  62633.6986265 ,  71867.41401975,  66595.19759218,\n",
       "        69717.51194082,  94585.15201879,  78374.73002468,  69507.15349811,\n",
       "        73235.95568377,  75788.2589717 ,  78693.76377339,  74130.78880521,\n",
       "        86210.14617171,  66260.75735041,  65435.85106078,  73587.76645876,\n",
       "        85011.1115567 ,  62290.31884415,  70778.91542803,  74179.40059631,\n",
       "        69164.65996622,  77493.08649741,  75913.528621  ,  99695.49389077,\n",
       "        62492.89899122,  83347.97268516,  70596.57834331, 100531.55291217,\n",
       "        75878.60505759,  92020.75401625,  61819.23055279,  67250.06870653,\n",
       "        76773.84066222,  77457.68426867,  58876.62778116,  85646.78484058,\n",
       "        71734.91187773,  69108.15913937, 101273.59248915,  73296.42088578,\n",
       "       107983.95995281,  77518.07390261,  72523.88284602,  68032.57070416,\n",
       "        74177.75142719, 102610.77939645,  87868.28548962,  64667.46377483,\n",
       "        59087.76863884,  73707.74080707,  72181.33534126,  67850.16530918,\n",
       "       119831.09368305,  59371.30329496,  70726.95801739, 112480.25214604,\n",
       "        78659.85474375,  71258.28822295,  67558.52691855,  78734.83238318,\n",
       "        70375.21381836,  71280.85529569,  73214.83154136,  74518.31484503,\n",
       "        60536.32892396,  68952.39869057,  94779.45789025,  73326.03304019,\n",
       "        65963.21883872,  80135.29976909,  75480.39946868,  72995.03014104,\n",
       "        69005.61624302,  59208.27134883,  74684.10320228,  79337.30183108,\n",
       "        74805.98666678,  96706.43760307,  70626.3343915 ,  82403.28165132,\n",
       "        65236.95419034,  70000.04647946,  82378.87862075,  74051.56400696,\n",
       "        68664.50850507,  75110.11357591,  68759.697858  ,  75964.28281273,\n",
       "        76040.53785964, 100495.25408548,  61435.84921165,  75362.18837502,\n",
       "        90018.89281046,  76574.59233034,  75627.70358155,  62740.81706624,\n",
       "        71350.71127994,  67418.45319416,  76742.42002123,  75876.32684519,\n",
       "        61867.85542121,  68335.84046929,  70312.30666168,  74546.98482524,\n",
       "        73455.00359033,  66084.59531624,  67516.12318116, 112521.53084901,\n",
       "        60424.70193327,  71170.45267926,  82474.73964991,  69274.59848402,\n",
       "        76132.78881818,  73269.85841511,  77610.26051351, 105268.9331295 ,\n",
       "        65547.88788912,  76787.91153691,  74130.78880521,  69530.15478955,\n",
       "        73242.73614188,  66649.01786495,  59600.48004718,  79159.54015777,\n",
       "        60424.70193327,  77092.69691691,  72210.57905287,  63317.40337035,\n",
       "        95116.51731122,  71585.65978009,  78470.0981847 ,  67054.86456206,\n",
       "        74973.25075603,  70275.75227698,  75648.74728184, 103863.91806671,\n",
       "        87044.51818795,  65146.31228872,  76829.32008017,  74676.28931916,\n",
       "        74192.0082403 ,  73281.55455273,  68350.97305076,  79869.89156919,\n",
       "        93593.66244082,  84472.01379557,  69178.5193537 ,  73922.21654563,\n",
       "        67292.44740918,  66680.25675557,  78758.45329725,  69634.9917001 ,\n",
       "        68579.42458494,  72966.02886218,  73174.60052752,  81872.20503495,\n",
       "        75478.75285775,  74906.24208357,  74793.53575555,  67333.6249081 ,\n",
       "        61262.4020872 ,  67944.81489876])"
      ]
     },
     "execution_count": 123,
     "metadata": {},
     "output_type": "execute_result"
    }
   ],
   "source": [
    "gb_reg_pred "
   ]
  },
  {
   "cell_type": "markdown",
   "id": "568608ec",
   "metadata": {},
   "source": [
    "## Evaluating model performance"
   ]
  },
  {
   "cell_type": "code",
   "execution_count": 124,
   "id": "f451efc1",
   "metadata": {},
   "outputs": [
    {
     "name": "stdout",
     "output_type": "stream",
     "text": [
      "The mean squared error of Gradient Boosting Regressor model is:  62504487.48523211\n"
     ]
    }
   ],
   "source": [
    "print(\"The mean squared error of Gradient Boosting Regressor model is: \",mean_squared_error(y_test,gb_reg_pred))"
   ]
  },
  {
   "cell_type": "code",
   "execution_count": 125,
   "id": "b3ce16b8",
   "metadata": {},
   "outputs": [
    {
     "name": "stdout",
     "output_type": "stream",
     "text": [
      "The coefficient of determination of test set is:  0.5787664835882758\n"
     ]
    }
   ],
   "source": [
    "print(\"The coefficient of determination of test set is: \",r2_score(y_test,gb_reg_pred))"
   ]
  },
  {
   "cell_type": "code",
   "execution_count": 126,
   "id": "b850d8df",
   "metadata": {},
   "outputs": [
    {
     "name": "stdout",
     "output_type": "stream",
     "text": [
      "The coefficient of determination of train set is:  0.9352109039296997\n"
     ]
    }
   ],
   "source": [
    "print(\"The coefficient of determination of train set is: \",r2_score(y_train,gb_reg.predict(x_train)))"
   ]
  },
  {
   "cell_type": "markdown",
   "id": "aa17c1e9",
   "metadata": {},
   "source": [
    "<a id=\"ADA\"></a>\n",
    "# Ada Boost Regression"
   ]
  },
  {
   "cell_type": "code",
   "execution_count": 127,
   "id": "64f74067",
   "metadata": {},
   "outputs": [],
   "source": [
    "from sklearn.ensemble import AdaBoostRegressor"
   ]
  },
  {
   "cell_type": "code",
   "execution_count": 128,
   "id": "62346e8e",
   "metadata": {},
   "outputs": [],
   "source": [
    "ada_reg = AdaBoostRegressor(learning_rate =0.02, n_estimators =4000) # creating a Ada Boost Regressor model"
   ]
  },
  {
   "cell_type": "code",
   "execution_count": 129,
   "id": "2bd57f5c",
   "metadata": {},
   "outputs": [
    {
     "data": {
      "text/plain": [
       "AdaBoostRegressor(learning_rate=0.02, n_estimators=4000)"
      ]
     },
     "execution_count": 129,
     "metadata": {},
     "output_type": "execute_result"
    }
   ],
   "source": [
    "ada_reg.fit(x_train, y_train) # fit the model on x and y train"
   ]
  },
  {
   "cell_type": "code",
   "execution_count": 130,
   "id": "81864fba",
   "metadata": {},
   "outputs": [],
   "source": [
    "ada_reg_pred = ada_reg.predict(x_test) # predicting test set values"
   ]
  },
  {
   "cell_type": "code",
   "execution_count": 131,
   "id": "14b2fcc2",
   "metadata": {},
   "outputs": [],
   "source": [
    "ada_reg_train_pred = ada_reg.predict(x_train) # predicting train set values"
   ]
  },
  {
   "cell_type": "code",
   "execution_count": 132,
   "id": "f0dc2266",
   "metadata": {},
   "outputs": [
    {
     "data": {
      "text/plain": [
       "array([ 75076.15931217,  68263.16168421,  68557.30170825,  77243.55466667,\n",
       "        74599.40641221,  87873.1454067 ,  70637.64340517,  75411.61925824,\n",
       "        70132.19182777,  75491.7092233 ,  70446.53472663,  78662.938625  ,\n",
       "        88787.61371681,  77779.9098155 ,  76119.18314815, 103818.56220339,\n",
       "        68758.74084746,  69007.02633947,  69007.02633947,  78819.29106299,\n",
       "        91173.70972973, 104326.56222222,  68929.89997821,  68929.89997821,\n",
       "        70585.61207229,  68601.76300546,  78202.20215447, 104227.04120482,\n",
       "        77243.55466667,  75971.70875622,  68350.47925156,  68350.47925156,\n",
       "        78643.71922222,  78847.56255814,  93260.14396552,  78757.84809917,\n",
       "        68911.68418182,  77922.12242105,  72102.753875  ,  68551.95954839,\n",
       "        71567.33235294,  78579.36073684,  71188.19854369,  68305.31140351,\n",
       "        78236.80135593,  72976.08825581,  79271.55061069,  69050.84712788,\n",
       "        68501.79723404,  74512.5528    , 102562.66285714,  76791.80305785,\n",
       "       103763.322     ,  79039.48112   ,  97111.95078947,  68944.92940273,\n",
       "        69985.91699301,  79127.24377778,  68601.76300546,  68929.89997821,\n",
       "        77817.5100369 ,  78067.65858065,  70337.48901442,  69050.84712788,\n",
       "        68350.47925156,  75593.71974212,  68551.95954839,  68479.24879377,\n",
       "       102994.53261194,  73704.72913043,  70313.52791587,  71567.33235294,\n",
       "        69949.60476821,  70337.48901442,  71188.19854369,  78286.78256303,\n",
       "        69984.21869565,  69949.60476821,  69949.60476821,  68341.65778399,\n",
       "        90365.49843931,  77288.43855596,  70337.48901442,  77889.71335937,\n",
       "        69949.60476821,  69949.60476821,  68551.95954839,  68944.92940273,\n",
       "        74684.56139535, 103763.322     ,  77817.5100369 ,  69308.50360976,\n",
       "        76624.44310881,  97111.95078947,  68551.95954839,  68237.88306202,\n",
       "        68357.99399625,  78174.87769784,  90233.6787234 ,  73373.52088608,\n",
       "        69565.71821782,  71577.80454158,  68265.69270872,  68601.76300546,\n",
       "        77893.50101266,  68555.96785992,  97341.11473684,  85127.87767442,\n",
       "        79450.97378641,  75384.36112903,  77401.81475285,  75593.71974212,\n",
       "        77824.77375   ,  71008.98774262,  72811.35672783,  89265.51069182,\n",
       "        89309.484     ,  69949.60476821,  68846.82920765,  73373.52088608,\n",
       "        77884.62066667,  90482.77674699,  71240.06942804,  77824.77375   ,\n",
       "        77950.69865217,  78209.41440541,  74810.59376812,  68911.68418182,\n",
       "        69007.02633947,  68601.76300546,  73633.26892562,  78002.70808219,\n",
       "        77428.24043307,  69949.60476821,  78656.72763441,  77657.50009346,\n",
       "        77871.76040609,  68601.76300546,  91273.26550459,  73859.05409302,\n",
       "        68944.92940273,  89564.31296296,  69949.60476821,  68237.88306202,\n",
       "        90979.32040816,  77889.71335937,  78325.70810811,  68278.56034211,\n",
       "        68944.92940273,  68601.76300546,  68282.67803059,  78635.43762136,\n",
       "        90350.85071429,  79337.48      ,  70245.40270903,  70631.51226824,\n",
       "        77401.81475285,  70180.96465587,  69949.60476821,  69219.35418879,\n",
       "        68944.92940273,  78286.78256303,  75418.87825581,  70446.53472663,\n",
       "        70270.55389299,  77641.60330709,  85078.33679245,  78225.90376543,\n",
       "        86054.47213592,  68911.68418182,  68944.92940273,  69949.60476821,\n",
       "        87879.26430233,  68278.56034211,  69219.35418879,  77856.96369863,\n",
       "        68809.02153846,  79490.22824176,  77721.22779703,  91173.70972973,\n",
       "        68276.48233628,  77817.5100369 ,  73498.18363158,  93260.14396552,\n",
       "        76375.34      ,  91041.81759036,  68911.68418182,  70588.68121212,\n",
       "        76284.76603604,  75444.14639344,  68278.56034211,  75444.14639344,\n",
       "        79115.93378928,  68684.86614618,  97956.6875    ,  73089.98664032,\n",
       "       106937.34848101,  77723.08134529,  70746.97141949,  68911.68418182,\n",
       "        75971.70875622, 102961.64789474,  78793.56192308,  68265.69270872,\n",
       "        68341.65778399,  73859.05409302,  73498.18363158,  68501.79723404,\n",
       "       104317.95096491,  68276.48233628,  68263.16168421, 104597.03486957,\n",
       "        78793.56192308,  68551.95954839,  68944.92940273,  78371.91592308,\n",
       "        68685.6729602 ,  77996.33881295,  79039.48112   ,  71188.19854369,\n",
       "        70132.19182777,  68305.31140351,  91273.26550459,  78135.24604278,\n",
       "        68305.31140351,  77401.81475285,  78225.90376543,  68320.18255578,\n",
       "        68357.99399625,  68265.69270872,  81999.27591549,  68278.56034211,\n",
       "        70446.53472663,  88231.38938053,  77428.24043307,  77036.9211811 ,\n",
       "        68911.68418182,  77889.71335937,  78115.72947598,  75444.14639344,\n",
       "        70337.48901442,  79337.48      ,  75915.90893939,  75915.90893939,\n",
       "        78738.29021277, 103956.51809524,  68263.16168421,  79514.73305   ,\n",
       "        84689.70363636,  68911.68418182,  68263.16168421,  70155.0860181 ,\n",
       "        77817.5100369 ,  77817.5100369 ,  78452.71101449,  78656.72763441,\n",
       "        68601.76300546,  70398.62276438,  68929.89997821,  78215.50921687,\n",
       "        73373.52088608,  75915.90893939,  68276.48233628, 104862.53099099,\n",
       "        68263.16168421,  70631.51226824,  77996.33881295,  77428.24043307,\n",
       "        78703.63949074,  79236.02267532,  78635.43762136,  97111.95078947,\n",
       "        68278.56034211,  69219.35418879,  78225.90376543,  70279.92675362,\n",
       "        72264.74685393,  68265.69270872,  68320.18255578,  77864.09319149,\n",
       "        68263.16168421,  75876.70327273,  68944.92940273,  68328.77366795,\n",
       "        88787.61371681,  68846.82920765,  75915.90893939,  69949.60476821,\n",
       "        78452.71101449,  70313.19475225,  73633.26892562,  89564.31296296,\n",
       "        88784.7548855 ,  68951.86300633,  77796.8912    ,  77521.83060391,\n",
       "        78988.75706827,  73498.18363158,  69007.02633947,  79281.21952381,\n",
       "        88787.61371681,  78215.50921687,  78703.63949074,  71577.80454158,\n",
       "        68320.18255578,  70132.19182777,  77996.33881295,  68929.89997821,\n",
       "        68357.99399625,  73539.10164474,  69007.02633947,  70588.68121212,\n",
       "        70313.52791587,  77950.69865217,  73498.18363158,  70337.48901442,\n",
       "        70132.19182777,  77864.09319149])"
      ]
     },
     "execution_count": 132,
     "metadata": {},
     "output_type": "execute_result"
    }
   ],
   "source": [
    "ada_reg_pred"
   ]
  },
  {
   "cell_type": "code",
   "execution_count": 133,
   "id": "1824c7be",
   "metadata": {},
   "outputs": [
    {
     "data": {
      "text/plain": [
       "array([106583.81720588,  70337.48901442,  78166.36697917, ...,\n",
       "        70313.19475225,  68265.69270872,  69318.14886525])"
      ]
     },
     "execution_count": 133,
     "metadata": {},
     "output_type": "execute_result"
    }
   ],
   "source": [
    "ada_reg_train_pred"
   ]
  },
  {
   "cell_type": "markdown",
   "id": "30496e18",
   "metadata": {},
   "source": [
    "## Evaluating model performance"
   ]
  },
  {
   "cell_type": "code",
   "execution_count": 134,
   "id": "faa623a9",
   "metadata": {},
   "outputs": [
    {
     "name": "stdout",
     "output_type": "stream",
     "text": [
      "The mean squared error of Ada Boost Regressor is:  59611331.47824032\n"
     ]
    }
   ],
   "source": [
    "print(\"The mean squared error of Ada Boost Regressor is: \",mean_squared_error(y_test,ada_reg_pred))"
   ]
  },
  {
   "cell_type": "code",
   "execution_count": 135,
   "id": "12b02e1a",
   "metadata": {},
   "outputs": [
    {
     "name": "stdout",
     "output_type": "stream",
     "text": [
      "The coefficient of determination of test set is:  0.5982641921110565\n"
     ]
    }
   ],
   "source": [
    "print(\"The coefficient of determination of test set is: \",r2_score(y_test,ada_reg_pred))"
   ]
  },
  {
   "cell_type": "code",
   "execution_count": 136,
   "id": "4a558aa1",
   "metadata": {},
   "outputs": [
    {
     "name": "stdout",
     "output_type": "stream",
     "text": [
      "The coefficient of determination of train set is:  0.622356643995644\n"
     ]
    }
   ],
   "source": [
    "print(\"The coefficient of determination of train set is: \",r2_score(y_train,ada_reg_train_pred))"
   ]
  },
  {
   "cell_type": "markdown",
   "id": "80a1de2d",
   "metadata": {},
   "source": [
    "<a id=\"XGB\"></a>\n",
    "# XG Boost Regression"
   ]
  },
  {
   "cell_type": "code",
   "execution_count": 137,
   "id": "cdcbac4e",
   "metadata": {
    "scrolled": true
   },
   "outputs": [],
   "source": [
    "import xgboost as xgb"
   ]
  },
  {
   "cell_type": "code",
   "execution_count": 138,
   "id": "0976386e",
   "metadata": {},
   "outputs": [],
   "source": [
    "# creating a XG Boost Regressor model\n",
    "xgb_reg = xgb.XGBRegressor(max_depth=5, n_estimators=10000, learning_rate=0.2,\n",
    "                            n_jobs=-1)"
   ]
  },
  {
   "cell_type": "code",
   "execution_count": 139,
   "id": "da74e09e",
   "metadata": {},
   "outputs": [
    {
     "data": {
      "text/plain": [
       "XGBRegressor(base_score=None, booster=None, callbacks=None,\n",
       "             colsample_bylevel=None, colsample_bynode=None,\n",
       "             colsample_bytree=None, early_stopping_rounds=None,\n",
       "             enable_categorical=False, eval_metric=None, feature_types=None,\n",
       "             gamma=None, gpu_id=None, grow_policy=None, importance_type=None,\n",
       "             interaction_constraints=None, learning_rate=0.2, max_bin=None,\n",
       "             max_cat_threshold=None, max_cat_to_onehot=None,\n",
       "             max_delta_step=None, max_depth=5, max_leaves=None,\n",
       "             min_child_weight=None, missing=nan, monotone_constraints=None,\n",
       "             n_estimators=10000, n_jobs=-1, num_parallel_tree=None,\n",
       "             predictor=None, random_state=None, ...)"
      ]
     },
     "execution_count": 139,
     "metadata": {},
     "output_type": "execute_result"
    }
   ],
   "source": [
    "xgb_reg.fit(x_train, y_train) # fitting the model"
   ]
  },
  {
   "cell_type": "code",
   "execution_count": 140,
   "id": "2e1d4e8d",
   "metadata": {},
   "outputs": [
    {
     "data": {
      "text/plain": [
       "array([ 63632.26 ,  65022.55 ,  72564.18 ,  82101.92 ,  82741.97 ,\n",
       "        87618.81 ,  64824.297,  74358.664,  63903.55 ,  75448.445,\n",
       "        65925.69 ,  77682.17 ,  93410.78 ,  74109.77 ,  71168.4  ,\n",
       "        99528.266,  69607.055,  71037.92 ,  71576.445,  85054.5  ,\n",
       "        97205.53 , 108318.49 ,  72862.16 ,  65590.45 ,  82890.55 ,\n",
       "        74544.52 ,  64320.688, 101234.94 ,  76221.31 ,  71366.32 ,\n",
       "        73177.18 ,  63809.16 ,  81443.2  ,  86946.625, 103617.14 ,\n",
       "        79424.086,  66962.234,  71738.73 ,  68810.13 ,  70375.516,\n",
       "        75802.29 ,  67512.37 ,  70818.766,  62499.91 ,  75312.31 ,\n",
       "        67888.47 ,  80085.09 ,  61266.805,  75944.49 ,  73279.664,\n",
       "       118651.93 ,  69333.61 ,  99794.43 ,  91784.43 ,  92391.734,\n",
       "        70115.33 ,  68998.33 ,  70353.11 ,  70560.766,  69822.766,\n",
       "        70703.76 ,  79031.11 ,  67038.016,  59950.777,  58763.145,\n",
       "        72706.01 ,  69998.02 ,  59422.234, 103807.   ,  69509.84 ,\n",
       "        73932.77 ,  70607.05 ,  69453.1  ,  69327.78 ,  78037.3  ,\n",
       "        85648.47 ,  75491.29 ,  72916.34 ,  61825.227,  69532.41 ,\n",
       "        89103.93 ,  74722.664,  76811.414,  73410.945,  67133.94 ,\n",
       "        70733.88 ,  61039.613,  67378.08 ,  72512.445,  99116.64 ,\n",
       "        76028.41 ,  62307.21 ,  76775.82 ,  92391.734,  69692.14 ,\n",
       "        82416.07 ,  70648.445,  80967.63 , 100510.17 ,  71379.47 ,\n",
       "        64141.36 ,  79656.164,  69769.69 ,  70744.78 ,  74148.08 ,\n",
       "        61876.3  , 100891.86 ,  79070.766,  79963.375,  72056.77 ,\n",
       "        73013.72 ,  85309.38 ,  74435.63 ,  61561.29 ,  64640.152,\n",
       "        89974.02 , 105983.04 ,  69314.3  ,  62060.758,  66334.98 ,\n",
       "        72392.21 ,  96370.05 ,  87452.16 ,  70156.94 ,  76959.07 ,\n",
       "        79504.   ,  80051.9  ,  58523.7  ,  61661.516,  64929.715,\n",
       "        89211.91 ,  78298.77 ,  76106.46 ,  67089.91 ,  78159.64 ,\n",
       "        77321.95 ,  74570.92 ,  75963.85 ,  84180.28 ,  81860.7  ,\n",
       "        72766.375,  72783.8  ,  74260.484,  61962.66 ,  99551.3  ,\n",
       "        78485.5  ,  76584.555,  59991.98 ,  67701.734,  68753.82 ,\n",
       "        60524.832,  74239.9  , 112826.17 ,  81964.586,  54607.375,\n",
       "        71587.57 ,  61172.38 ,  61379.8  ,  74801.85 ,  64784.367,\n",
       "        69544.8  ,  95961.18 ,  77850.766,  65813.445,  75717.74 ,\n",
       "        75971.4  ,  80115.21 ,  73997.74 ,  87288.39 ,  65986.55 ,\n",
       "        67767.99 ,  66487.086,  85246.11 ,  59422.23 ,  71091.73 ,\n",
       "        71614.08 ,  69908.41 ,  79290.11 ,  77390.1  ,  99656.93 ,\n",
       "        60541.79 ,  88855.06 ,  67644.69 , 104089.02 ,  74930.13 ,\n",
       "        90783.664,  55927.438,  67609.33 ,  78118.414,  74892.914,\n",
       "        54591.57 ,  89556.65 ,  71532.766,  74863.805, 101020.21 ,\n",
       "        74824.27 , 108330.234,  79318.8  ,  72419.41 ,  64236.707,\n",
       "        70463.36 , 102895.34 ,  89525.16 ,  68538.72 ,  57937.98 ,\n",
       "        77196.89 ,  66926.71 ,  69403.47 , 113383.05 ,  57464.688,\n",
       "        71087.164, 108866.56 ,  87296.06 ,  75563.47 ,  72482.59 ,\n",
       "        77582.93 ,  72735.17 ,  74719.83 ,  77251.984,  73285.8  ,\n",
       "        66664.55 ,  69914.99 ,  90061.11 ,  75631.36 ,  69949.25 ,\n",
       "        84013.43 ,  74953.55 ,  71237.29 ,  67455.87 ,  63766.54 ,\n",
       "        72118.07 ,  72599.86 ,  73433.42 ,  96794.266,  67825.29 ,\n",
       "        84128.13 ,  65708.12 ,  69160.42 ,  83527.09 ,  81956.68 ,\n",
       "        65603.05 ,  76867.016,  69413.76 ,  74543.84 ,  74984.05 ,\n",
       "        98552.18 ,  59278.56 ,  72949.164,  92752.59 ,  86298.84 ,\n",
       "        71601.84 ,  67735.625,  73464.734,  67707.03 ,  81749.63 ,\n",
       "        78159.64 ,  59798.44 ,  70075.54 ,  71058.836,  73618.664,\n",
       "        78741.195,  67036.06 ,  62469.727, 115480.195,  62234.49 ,\n",
       "        70189.47 ,  86354.79 ,  65917.69 ,  72902.56 ,  67825.63 ,\n",
       "        79413.03 , 106791.71 ,  64490.047,  74088.83 ,  75130.3  ,\n",
       "        72509.15 ,  74169.336,  66746.28 ,  58254.9  ,  79072.24 ,\n",
       "        62234.49 ,  74834.91 ,  71825.375,  62577.31 ,  86234.47 ,\n",
       "        76763.99 ,  79912.81 ,  68933.195,  73959.56 ,  69754.2  ,\n",
       "        78404.56 , 108175.47 ,  87324.32 ,  67880.09 ,  74003.266,\n",
       "        70653.59 ,  68673.33 ,  73807.25 ,  65685.06 ,  81504.89 ,\n",
       "        87854.16 ,  85224.17 ,  72433.19 ,  78278.22 ,  68005.9  ,\n",
       "        62282.434,  79173.07 ,  71541.76 ,  72319.41 ,  73052.74 ,\n",
       "        73550.69 ,  82910.93 ,  76615.85 ,  74734.34 ,  76352.35 ,\n",
       "        64468.785,  63903.55 ,  68077.27 ], dtype=float32)"
      ]
     },
     "execution_count": 140,
     "metadata": {},
     "output_type": "execute_result"
    }
   ],
   "source": [
    "xgb_reg_pred = xgb_reg.predict(x_test) # making predictions on the test set\n",
    "xgb_reg_pred"
   ]
  },
  {
   "cell_type": "markdown",
   "id": "d6404552",
   "metadata": {},
   "source": [
    "## Evaluating model performance"
   ]
  },
  {
   "cell_type": "code",
   "execution_count": 141,
   "id": "20b73028",
   "metadata": {},
   "outputs": [
    {
     "name": "stdout",
     "output_type": "stream",
     "text": [
      "The mean squared error of XG Boost Regressor model is:  65914488.902487054\n"
     ]
    }
   ],
   "source": [
    "print(\"The mean squared error of XG Boost Regressor model is: \",mean_squared_error(y_test,xgb_reg_pred))"
   ]
  },
  {
   "cell_type": "code",
   "execution_count": 142,
   "id": "e3133509",
   "metadata": {},
   "outputs": [
    {
     "name": "stdout",
     "output_type": "stream",
     "text": [
      "The coefficient of determination of test set is:  0.5557856234012588\n"
     ]
    }
   ],
   "source": [
    "print(\"The coefficient of determination of test set is: \",r2_score(y_test,xgb_reg_pred))"
   ]
  },
  {
   "cell_type": "code",
   "execution_count": 143,
   "id": "023a2f9c",
   "metadata": {},
   "outputs": [
    {
     "name": "stdout",
     "output_type": "stream",
     "text": [
      "The coefficient of determination of train set is:  0.9999999999315217\n"
     ]
    }
   ],
   "source": [
    "print(\"The coefficient of determination of train set is: \",r2_score(y_train,xgb_reg.predict(x_train)))"
   ]
  },
  {
   "cell_type": "code",
   "execution_count": 144,
   "id": "cb5650dc",
   "metadata": {},
   "outputs": [
    {
     "data": {
      "text/plain": [
       "<AxesSubplot:title={'center':'Feature importance'}, xlabel='F score', ylabel='Features'>"
      ]
     },
     "execution_count": 144,
     "metadata": {},
     "output_type": "execute_result"
    },
    {
     "data": {
      "image/png": "[encoded data removed]",
      "text/plain": [
       "<Figure size 432x288 with 1 Axes>"
      ]
     },
     "metadata": {
      "needs_background": "light"
     },
     "output_type": "display_data"
    }
   ],
   "source": [
    "xgb.plot_importance(xgb_reg) # plotting feature importance graph"
   ]
  },
  {
   "cell_type": "markdown",
   "id": "e105ccca",
   "metadata": {},
   "source": [
    "<a id=\"res\"></a>\n",
    "# Result\n",
    "\n",
    "_After training all the models, the Bagging Regression model is the best model for predicting the salary of upcoming employees because it has the highest r2_score for both test and train set and it has the lowest Mean Squared Error value when compared to other models._\n",
    "\n",
    "- _Linear, Ridge and Lasso Regression - These models' performance on predicting the salary was average._\n",
    "\n",
    "- _Decision Tree Regression - The performance of this model was better than that of Linear, Ridge and Lasso but not as good as Ensemble Techniques._\n",
    "\n",
    "- _Bagging and Random Forest Regressor provided almost the same best performance on both train and test data but the MSE of Bagging Regression was lower than that of Random Forest, thus, making it the best choice._\n",
    "\n",
    "- _Gradient, Ada and XG Boosting models performed excellent (>0.85) on train set but comparatively low on test set._"
   ]
  }
 ],
 "metadata": {
  "kernelspec": {
   "display_name": "Python 3 (ipykernel)",
   "language": "python",
   "name": "python3"
  },
  "language_info": {
   "codemirror_mode": {
    "name": "ipython",
    "version": 3
   },
   "file_extension": ".py",
   "mimetype": "text/x-python",
   "name": "python",
   "nbconvert_exporter": "python",
   "pygments_lexer": "ipython3",
   "version": "3.9.7"
  }
 },
 "nbformat": 4,
 "nbformat_minor": 5
}
