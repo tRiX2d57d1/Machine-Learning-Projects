{
 "cells": [
  {
   "cell_type": "markdown",
   "id": "a9b8079b",
   "metadata": {},
   "source": [
    "# Predictive Analysis using Python\n",
    "\n",
    "### _By Subadarshini Madhanan_\n",
    "\n",
    "__AIM__\n",
    "\n",
    "_This project aims to predict if it will rain tomorrow in Sydney or not._\n",
    "\n"
   ]
  },
  {
   "cell_type": "markdown",
   "id": "d2add557",
   "metadata": {},
   "source": [
    "# Importing necessary libraries"
   ]
  },
  {
   "cell_type": "code",
   "execution_count": 1,
   "id": "5f5ab78e",
   "metadata": {},
   "outputs": [],
   "source": [
    "import pandas as pd\n",
    "import numpy as np\n",
    "import seaborn as sns"
   ]
  },
  {
   "cell_type": "code",
   "execution_count": 2,
   "id": "646db167",
   "metadata": {},
   "outputs": [],
   "source": [
    "df = pd.read_csv(\"Rainfall_data.csv\",header = 0) # The dataset rainfall_data is loaded into the dataframe df"
   ]
  },
  {
   "cell_type": "code",
   "execution_count": 3,
   "id": "51cebe34",
   "metadata": {},
   "outputs": [
    {
     "data": {
      "text/html": [
       "<div>\n",
       "<style scoped>\n",
       "    .dataframe tbody tr th:only-of-type {\n",
       "        vertical-align: middle;\n",
       "    }\n",
       "\n",
       "    .dataframe tbody tr th {\n",
       "        vertical-align: top;\n",
       "    }\n",
       "\n",
       "    .dataframe thead th {\n",
       "        text-align: right;\n",
       "    }\n",
       "</style>\n",
       "<table border=\"1\" class=\"dataframe\">\n",
       "  <thead>\n",
       "    <tr style=\"text-align: right;\">\n",
       "      <th></th>\n",
       "      <th>Date</th>\n",
       "      <th>Location</th>\n",
       "      <th>MinTemp</th>\n",
       "      <th>MaxTemp</th>\n",
       "      <th>Rainfall</th>\n",
       "      <th>Evaporation</th>\n",
       "      <th>Sunshine</th>\n",
       "      <th>Humidity9am</th>\n",
       "      <th>Humidity3pm</th>\n",
       "      <th>Pressure9am</th>\n",
       "      <th>Pressure3pm</th>\n",
       "      <th>Cloud9am</th>\n",
       "      <th>Cloud3pm</th>\n",
       "      <th>Temp9am</th>\n",
       "      <th>Temp3pm</th>\n",
       "      <th>RainToday</th>\n",
       "      <th>RainTomorrow</th>\n",
       "    </tr>\n",
       "  </thead>\n",
       "  <tbody>\n",
       "    <tr>\n",
       "      <th>0</th>\n",
       "      <td>1/2/2008</td>\n",
       "      <td>Sydney</td>\n",
       "      <td>19.5</td>\n",
       "      <td>22.4</td>\n",
       "      <td>15.6</td>\n",
       "      <td>6.2</td>\n",
       "      <td>0.0</td>\n",
       "      <td>92.0</td>\n",
       "      <td>84.0</td>\n",
       "      <td>1017.6</td>\n",
       "      <td>1017.4</td>\n",
       "      <td>8.0</td>\n",
       "      <td>8.0</td>\n",
       "      <td>20.7</td>\n",
       "      <td>20.9</td>\n",
       "      <td>Yes</td>\n",
       "      <td>Yes</td>\n",
       "    </tr>\n",
       "    <tr>\n",
       "      <th>1</th>\n",
       "      <td>2/2/2008</td>\n",
       "      <td>Sydney</td>\n",
       "      <td>19.5</td>\n",
       "      <td>25.6</td>\n",
       "      <td>6.0</td>\n",
       "      <td>3.4</td>\n",
       "      <td>2.7</td>\n",
       "      <td>83.0</td>\n",
       "      <td>73.0</td>\n",
       "      <td>1017.9</td>\n",
       "      <td>1016.4</td>\n",
       "      <td>7.0</td>\n",
       "      <td>7.0</td>\n",
       "      <td>22.4</td>\n",
       "      <td>24.8</td>\n",
       "      <td>Yes</td>\n",
       "      <td>Yes</td>\n",
       "    </tr>\n",
       "    <tr>\n",
       "      <th>2</th>\n",
       "      <td>3/2/2008</td>\n",
       "      <td>Sydney</td>\n",
       "      <td>21.6</td>\n",
       "      <td>24.5</td>\n",
       "      <td>6.6</td>\n",
       "      <td>2.4</td>\n",
       "      <td>0.1</td>\n",
       "      <td>88.0</td>\n",
       "      <td>86.0</td>\n",
       "      <td>1016.7</td>\n",
       "      <td>1015.6</td>\n",
       "      <td>7.0</td>\n",
       "      <td>8.0</td>\n",
       "      <td>23.5</td>\n",
       "      <td>23.0</td>\n",
       "      <td>Yes</td>\n",
       "      <td>Yes</td>\n",
       "    </tr>\n",
       "    <tr>\n",
       "      <th>3</th>\n",
       "      <td>4/2/2008</td>\n",
       "      <td>Sydney</td>\n",
       "      <td>20.2</td>\n",
       "      <td>22.8</td>\n",
       "      <td>18.8</td>\n",
       "      <td>2.2</td>\n",
       "      <td>0.0</td>\n",
       "      <td>83.0</td>\n",
       "      <td>90.0</td>\n",
       "      <td>1014.2</td>\n",
       "      <td>1011.8</td>\n",
       "      <td>8.0</td>\n",
       "      <td>8.0</td>\n",
       "      <td>21.4</td>\n",
       "      <td>20.9</td>\n",
       "      <td>Yes</td>\n",
       "      <td>Yes</td>\n",
       "    </tr>\n",
       "    <tr>\n",
       "      <th>4</th>\n",
       "      <td>5/2/2008</td>\n",
       "      <td>Sydney</td>\n",
       "      <td>19.7</td>\n",
       "      <td>25.7</td>\n",
       "      <td>77.4</td>\n",
       "      <td>NaN</td>\n",
       "      <td>0.0</td>\n",
       "      <td>88.0</td>\n",
       "      <td>74.0</td>\n",
       "      <td>1008.3</td>\n",
       "      <td>1004.8</td>\n",
       "      <td>8.0</td>\n",
       "      <td>8.0</td>\n",
       "      <td>22.5</td>\n",
       "      <td>25.5</td>\n",
       "      <td>Yes</td>\n",
       "      <td>Yes</td>\n",
       "    </tr>\n",
       "  </tbody>\n",
       "</table>\n",
       "</div>"
      ],
      "text/plain": [
       "       Date Location  MinTemp  MaxTemp  Rainfall  Evaporation  Sunshine  \\\n",
       "0  1/2/2008   Sydney     19.5     22.4      15.6          6.2       0.0   \n",
       "1  2/2/2008   Sydney     19.5     25.6       6.0          3.4       2.7   \n",
       "2  3/2/2008   Sydney     21.6     24.5       6.6          2.4       0.1   \n",
       "3  4/2/2008   Sydney     20.2     22.8      18.8          2.2       0.0   \n",
       "4  5/2/2008   Sydney     19.7     25.7      77.4          NaN       0.0   \n",
       "\n",
       "   Humidity9am  Humidity3pm  Pressure9am  Pressure3pm  Cloud9am  Cloud3pm  \\\n",
       "0         92.0         84.0       1017.6       1017.4       8.0       8.0   \n",
       "1         83.0         73.0       1017.9       1016.4       7.0       7.0   \n",
       "2         88.0         86.0       1016.7       1015.6       7.0       8.0   \n",
       "3         83.0         90.0       1014.2       1011.8       8.0       8.0   \n",
       "4         88.0         74.0       1008.3       1004.8       8.0       8.0   \n",
       "\n",
       "   Temp9am  Temp3pm RainToday RainTomorrow  \n",
       "0     20.7     20.9       Yes          Yes  \n",
       "1     22.4     24.8       Yes          Yes  \n",
       "2     23.5     23.0       Yes          Yes  \n",
       "3     21.4     20.9       Yes          Yes  \n",
       "4     22.5     25.5       Yes          Yes  "
      ]
     },
     "execution_count": 3,
     "metadata": {},
     "output_type": "execute_result"
    }
   ],
   "source": [
    "df.head() # Viewing first five rows of the dataset"
   ]
  },
  {
   "cell_type": "code",
   "execution_count": 4,
   "id": "bcf7038c",
   "metadata": {},
   "outputs": [
    {
     "data": {
      "text/plain": [
       "(3337, 17)"
      ]
     },
     "execution_count": 4,
     "metadata": {},
     "output_type": "execute_result"
    }
   ],
   "source": [
    "df.shape # Total number of rows and columns in the dataset"
   ]
  },
  {
   "cell_type": "code",
   "execution_count": 5,
   "id": "464bf9ec",
   "metadata": {
    "scrolled": true
   },
   "outputs": [
    {
     "name": "stdout",
     "output_type": "stream",
     "text": [
      "<class 'pandas.core.frame.DataFrame'>\n",
      "RangeIndex: 3337 entries, 0 to 3336\n",
      "Data columns (total 17 columns):\n",
      " #   Column        Non-Null Count  Dtype  \n",
      "---  ------        --------------  -----  \n",
      " 0   Date          3337 non-null   object \n",
      " 1   Location      3337 non-null   object \n",
      " 2   MinTemp       3334 non-null   float64\n",
      " 3   MaxTemp       3335 non-null   float64\n",
      " 4   Rainfall      3331 non-null   float64\n",
      " 5   Evaporation   3286 non-null   float64\n",
      " 6   Sunshine      3321 non-null   float64\n",
      " 7   Humidity9am   3323 non-null   float64\n",
      " 8   Humidity3pm   3324 non-null   float64\n",
      " 9   Pressure9am   3317 non-null   float64\n",
      " 10  Pressure3pm   3318 non-null   float64\n",
      " 11  Cloud9am      2771 non-null   float64\n",
      " 12  Cloud3pm      2776 non-null   float64\n",
      " 13  Temp9am       3333 non-null   float64\n",
      " 14  Temp3pm       3333 non-null   float64\n",
      " 15  RainToday     3331 non-null   object \n",
      " 16  RainTomorrow  3337 non-null   object \n",
      "dtypes: float64(13), object(4)\n",
      "memory usage: 443.3+ KB\n"
     ]
    }
   ],
   "source": [
    "df.info() # Gives information about the count of rows in all the columns and their data types."
   ]
  },
  {
   "cell_type": "markdown",
   "id": "4a59267c",
   "metadata": {},
   "source": [
    "__Inference__\n",
    "\n",
    "- _Missing values in:_\n",
    "    - _MinTemp_\n",
    "    - _MaxTemp_\n",
    "    - _Rainfall_\n",
    "    - _Evaporation_\n",
    "    - _Sunshine_\n",
    "    - _Humidity9am_\n",
    "    - _Humidity3pm_\n",
    "    - _Pressure9am_\n",
    "    - _Pessure3pm_\n",
    "    - _Cloud9am_\n",
    "    - _Cloud3pm_\n",
    "    - _Temp9am_\n",
    "    - _Temp3pm_\n",
    "    - _RainToday_"
   ]
  },
  {
   "cell_type": "markdown",
   "id": "46e014bc",
   "metadata": {},
   "source": [
    "## EDD"
   ]
  },
  {
   "cell_type": "code",
   "execution_count": 6,
   "id": "98e56861",
   "metadata": {
    "scrolled": true
   },
   "outputs": [
    {
     "data": {
      "text/html": [
       "<div>\n",
       "<style scoped>\n",
       "    .dataframe tbody tr th:only-of-type {\n",
       "        vertical-align: middle;\n",
       "    }\n",
       "\n",
       "    .dataframe tbody tr th {\n",
       "        vertical-align: top;\n",
       "    }\n",
       "\n",
       "    .dataframe thead th {\n",
       "        text-align: right;\n",
       "    }\n",
       "</style>\n",
       "<table border=\"1\" class=\"dataframe\">\n",
       "  <thead>\n",
       "    <tr style=\"text-align: right;\">\n",
       "      <th></th>\n",
       "      <th>MinTemp</th>\n",
       "      <th>MaxTemp</th>\n",
       "      <th>Rainfall</th>\n",
       "      <th>Evaporation</th>\n",
       "      <th>Sunshine</th>\n",
       "      <th>Humidity9am</th>\n",
       "      <th>Humidity3pm</th>\n",
       "      <th>Pressure9am</th>\n",
       "      <th>Pressure3pm</th>\n",
       "      <th>Cloud9am</th>\n",
       "      <th>Cloud3pm</th>\n",
       "      <th>Temp9am</th>\n",
       "      <th>Temp3pm</th>\n",
       "    </tr>\n",
       "  </thead>\n",
       "  <tbody>\n",
       "    <tr>\n",
       "      <th>count</th>\n",
       "      <td>3334.000000</td>\n",
       "      <td>3335.000000</td>\n",
       "      <td>3331.000000</td>\n",
       "      <td>3286.000000</td>\n",
       "      <td>3321.000000</td>\n",
       "      <td>3323.000000</td>\n",
       "      <td>3324.000000</td>\n",
       "      <td>3317.000000</td>\n",
       "      <td>3318.000000</td>\n",
       "      <td>2771.000000</td>\n",
       "      <td>2776.000000</td>\n",
       "      <td>3333.000000</td>\n",
       "      <td>3333.000000</td>\n",
       "    </tr>\n",
       "    <tr>\n",
       "      <th>mean</th>\n",
       "      <td>14.865057</td>\n",
       "      <td>23.002339</td>\n",
       "      <td>3.330231</td>\n",
       "      <td>5.187432</td>\n",
       "      <td>7.179374</td>\n",
       "      <td>68.229010</td>\n",
       "      <td>54.699158</td>\n",
       "      <td>1018.346156</td>\n",
       "      <td>1016.018774</td>\n",
       "      <td>4.181523</td>\n",
       "      <td>4.218660</td>\n",
       "      <td>17.819742</td>\n",
       "      <td>21.533333</td>\n",
       "    </tr>\n",
       "    <tr>\n",
       "      <th>std</th>\n",
       "      <td>4.553641</td>\n",
       "      <td>4.494638</td>\n",
       "      <td>9.895172</td>\n",
       "      <td>2.777407</td>\n",
       "      <td>3.810886</td>\n",
       "      <td>15.085355</td>\n",
       "      <td>16.293530</td>\n",
       "      <td>7.021571</td>\n",
       "      <td>7.032211</td>\n",
       "      <td>2.749578</td>\n",
       "      <td>2.641885</td>\n",
       "      <td>4.897177</td>\n",
       "      <td>4.303737</td>\n",
       "    </tr>\n",
       "    <tr>\n",
       "      <th>min</th>\n",
       "      <td>4.300000</td>\n",
       "      <td>11.700000</td>\n",
       "      <td>0.000000</td>\n",
       "      <td>0.000000</td>\n",
       "      <td>0.000000</td>\n",
       "      <td>19.000000</td>\n",
       "      <td>10.000000</td>\n",
       "      <td>986.700000</td>\n",
       "      <td>989.800000</td>\n",
       "      <td>0.000000</td>\n",
       "      <td>0.000000</td>\n",
       "      <td>6.400000</td>\n",
       "      <td>10.200000</td>\n",
       "    </tr>\n",
       "    <tr>\n",
       "      <th>25%</th>\n",
       "      <td>11.000000</td>\n",
       "      <td>19.600000</td>\n",
       "      <td>0.000000</td>\n",
       "      <td>3.200000</td>\n",
       "      <td>4.300000</td>\n",
       "      <td>58.000000</td>\n",
       "      <td>44.000000</td>\n",
       "      <td>1013.700000</td>\n",
       "      <td>1011.300000</td>\n",
       "      <td>1.000000</td>\n",
       "      <td>1.000000</td>\n",
       "      <td>13.800000</td>\n",
       "      <td>18.400000</td>\n",
       "    </tr>\n",
       "    <tr>\n",
       "      <th>50%</th>\n",
       "      <td>14.900000</td>\n",
       "      <td>22.800000</td>\n",
       "      <td>0.000000</td>\n",
       "      <td>4.800000</td>\n",
       "      <td>8.300000</td>\n",
       "      <td>69.000000</td>\n",
       "      <td>56.000000</td>\n",
       "      <td>1018.600000</td>\n",
       "      <td>1016.300000</td>\n",
       "      <td>5.000000</td>\n",
       "      <td>4.000000</td>\n",
       "      <td>18.200000</td>\n",
       "      <td>21.300000</td>\n",
       "    </tr>\n",
       "    <tr>\n",
       "      <th>75%</th>\n",
       "      <td>18.700000</td>\n",
       "      <td>26.000000</td>\n",
       "      <td>1.400000</td>\n",
       "      <td>7.000000</td>\n",
       "      <td>10.200000</td>\n",
       "      <td>80.000000</td>\n",
       "      <td>65.000000</td>\n",
       "      <td>1023.100000</td>\n",
       "      <td>1020.800000</td>\n",
       "      <td>7.000000</td>\n",
       "      <td>7.000000</td>\n",
       "      <td>21.700000</td>\n",
       "      <td>24.500000</td>\n",
       "    </tr>\n",
       "    <tr>\n",
       "      <th>max</th>\n",
       "      <td>27.600000</td>\n",
       "      <td>45.800000</td>\n",
       "      <td>119.400000</td>\n",
       "      <td>18.400000</td>\n",
       "      <td>13.600000</td>\n",
       "      <td>100.000000</td>\n",
       "      <td>99.000000</td>\n",
       "      <td>1039.000000</td>\n",
       "      <td>1036.700000</td>\n",
       "      <td>9.000000</td>\n",
       "      <td>8.000000</td>\n",
       "      <td>36.500000</td>\n",
       "      <td>44.700000</td>\n",
       "    </tr>\n",
       "  </tbody>\n",
       "</table>\n",
       "</div>"
      ],
      "text/plain": [
       "           MinTemp      MaxTemp     Rainfall  Evaporation     Sunshine  \\\n",
       "count  3334.000000  3335.000000  3331.000000  3286.000000  3321.000000   \n",
       "mean     14.865057    23.002339     3.330231     5.187432     7.179374   \n",
       "std       4.553641     4.494638     9.895172     2.777407     3.810886   \n",
       "min       4.300000    11.700000     0.000000     0.000000     0.000000   \n",
       "25%      11.000000    19.600000     0.000000     3.200000     4.300000   \n",
       "50%      14.900000    22.800000     0.000000     4.800000     8.300000   \n",
       "75%      18.700000    26.000000     1.400000     7.000000    10.200000   \n",
       "max      27.600000    45.800000   119.400000    18.400000    13.600000   \n",
       "\n",
       "       Humidity9am  Humidity3pm  Pressure9am  Pressure3pm     Cloud9am  \\\n",
       "count  3323.000000  3324.000000  3317.000000  3318.000000  2771.000000   \n",
       "mean     68.229010    54.699158  1018.346156  1016.018774     4.181523   \n",
       "std      15.085355    16.293530     7.021571     7.032211     2.749578   \n",
       "min      19.000000    10.000000   986.700000   989.800000     0.000000   \n",
       "25%      58.000000    44.000000  1013.700000  1011.300000     1.000000   \n",
       "50%      69.000000    56.000000  1018.600000  1016.300000     5.000000   \n",
       "75%      80.000000    65.000000  1023.100000  1020.800000     7.000000   \n",
       "max     100.000000    99.000000  1039.000000  1036.700000     9.000000   \n",
       "\n",
       "          Cloud3pm      Temp9am      Temp3pm  \n",
       "count  2776.000000  3333.000000  3333.000000  \n",
       "mean      4.218660    17.819742    21.533333  \n",
       "std       2.641885     4.897177     4.303737  \n",
       "min       0.000000     6.400000    10.200000  \n",
       "25%       1.000000    13.800000    18.400000  \n",
       "50%       4.000000    18.200000    21.300000  \n",
       "75%       7.000000    21.700000    24.500000  \n",
       "max       8.000000    36.500000    44.700000  "
      ]
     },
     "execution_count": 6,
     "metadata": {},
     "output_type": "execute_result"
    }
   ],
   "source": [
    "df.describe()"
   ]
  },
  {
   "cell_type": "markdown",
   "id": "237e5a1f",
   "metadata": {},
   "source": [
    "# Missing value Imputation"
   ]
  },
  {
   "cell_type": "code",
   "execution_count": 7,
   "id": "c13d793a",
   "metadata": {},
   "outputs": [],
   "source": [
    "# This function will create dictionaries with keys as the column name and value as the value to replace the missing values in \n",
    "# the column\n",
    "\n",
    "df = df.fillna(\n",
    "{ 'MinTemp':df['MinTemp'].mean(),\n",
    "  'MaxTemp':df['MaxTemp'].mean(),\n",
    "  'Rainfall':df['Rainfall'].mean(),\n",
    "  'Evaporation': df['Evaporation'].mean(),\n",
    "  'Sunshine':df['Sunshine'].mean(),\n",
    "  'Humidity9am':df['Humidity9am'].mean(),\n",
    "  'Humidity3pm':df['Humidity3pm'].mean(),\n",
    "  'Pressure9am':df['Pressure9am'].mean(),\n",
    "  'Pressure3pm':df['Pressure3pm'].mean(),\n",
    "  'Cloud9am':df['Cloud9am'].mean(),\n",
    "  'Cloud3pm':df['Cloud3pm'].mean(),\n",
    "  'Temp9am':df['Temp9am'].mean(),\n",
    "  'Temp3pm':df['Temp3pm'].mean(),\n",
    "  'RainToday':'No'\n",
    "}\n",
    ")"
   ]
  },
  {
   "cell_type": "code",
   "execution_count": 8,
   "id": "7c341a01",
   "metadata": {
    "scrolled": true
   },
   "outputs": [
    {
     "name": "stdout",
     "output_type": "stream",
     "text": [
      "<class 'pandas.core.frame.DataFrame'>\n",
      "RangeIndex: 3337 entries, 0 to 3336\n",
      "Data columns (total 17 columns):\n",
      " #   Column        Non-Null Count  Dtype  \n",
      "---  ------        --------------  -----  \n",
      " 0   Date          3337 non-null   object \n",
      " 1   Location      3337 non-null   object \n",
      " 2   MinTemp       3337 non-null   float64\n",
      " 3   MaxTemp       3337 non-null   float64\n",
      " 4   Rainfall      3337 non-null   float64\n",
      " 5   Evaporation   3337 non-null   float64\n",
      " 6   Sunshine      3337 non-null   float64\n",
      " 7   Humidity9am   3337 non-null   float64\n",
      " 8   Humidity3pm   3337 non-null   float64\n",
      " 9   Pressure9am   3337 non-null   float64\n",
      " 10  Pressure3pm   3337 non-null   float64\n",
      " 11  Cloud9am      3337 non-null   float64\n",
      " 12  Cloud3pm      3337 non-null   float64\n",
      " 13  Temp9am       3337 non-null   float64\n",
      " 14  Temp3pm       3337 non-null   float64\n",
      " 15  RainToday     3337 non-null   object \n",
      " 16  RainTomorrow  3337 non-null   object \n",
      "dtypes: float64(13), object(4)\n",
      "memory usage: 443.3+ KB\n"
     ]
    }
   ],
   "source": [
    "df.info()"
   ]
  },
  {
   "cell_type": "markdown",
   "id": "c9d04b23",
   "metadata": {},
   "source": [
    "__Inference__\n",
    "\n",
    "_There are no null values in the dataset after imputing the missing values with the mean of the variable._"
   ]
  },
  {
   "cell_type": "code",
   "execution_count": 9,
   "id": "d8801c17",
   "metadata": {},
   "outputs": [
    {
     "data": {
      "text/plain": [
       "<AxesSubplot:xlabel='RainToday', ylabel='count'>"
      ]
     },
     "execution_count": 9,
     "metadata": {},
     "output_type": "execute_result"
    },
    {
     "data": {
      "image/png": "[encoded data removed]",
      "text/plain": [
       "<Figure size 432x288 with 1 Axes>"
      ]
     },
     "metadata": {
      "needs_background": "light"
     },
     "output_type": "display_data"
    }
   ],
   "source": [
    "sns.countplot(x=\"RainToday\",data = df)"
   ]
  },
  {
   "cell_type": "code",
   "execution_count": 10,
   "id": "e8087138",
   "metadata": {},
   "outputs": [
    {
     "data": {
      "text/plain": [
       "<AxesSubplot:xlabel='RainTomorrow', ylabel='count'>"
      ]
     },
     "execution_count": 10,
     "metadata": {},
     "output_type": "execute_result"
    },
    {
     "data": {
      "image/png": "[encoded data removed]",
      "text/plain": [
       "<Figure size 432x288 with 1 Axes>"
      ]
     },
     "metadata": {
      "needs_background": "light"
     },
     "output_type": "display_data"
    }
   ],
   "source": [
    "sns.countplot(x=\"RainTomorrow\", data = df)"
   ]
  },
  {
   "cell_type": "code",
   "execution_count": 11,
   "id": "22dd735a",
   "metadata": {},
   "outputs": [
    {
     "data": {
      "text/plain": [
       "<AxesSubplot:xlabel='Location', ylabel='count'>"
      ]
     },
     "execution_count": 11,
     "metadata": {},
     "output_type": "execute_result"
    },
    {
     "data": {
      "image/png": "[encoded data removed]",
      "text/plain": [
       "<Figure size 432x288 with 1 Axes>"
      ]
     },
     "metadata": {
      "needs_background": "light"
     },
     "output_type": "display_data"
    }
   ],
   "source": [
    "sns.countplot(x=\"Location\", data = df)"
   ]
  },
  {
   "cell_type": "markdown",
   "id": "1bd6b81c",
   "metadata": {},
   "source": [
    "__Inference__\n",
    "\n",
    "_The column \"Location\" has only one value, \"Sydney\", so, it is safe to remove that column._"
   ]
  },
  {
   "cell_type": "markdown",
   "id": "266ece1b",
   "metadata": {},
   "source": [
    "## Feature selection"
   ]
  },
  {
   "cell_type": "code",
   "execution_count": 12,
   "id": "41051eb0",
   "metadata": {},
   "outputs": [],
   "source": [
    "del df['Date'] \n",
    "del df['Location']"
   ]
  },
  {
   "cell_type": "markdown",
   "id": "01075ce1",
   "metadata": {},
   "source": [
    "## one-hot encoding\n",
    "\n",
    "_This changes categorical features into numerical features._"
   ]
  },
  {
   "cell_type": "code",
   "execution_count": 13,
   "id": "cf0ea50e",
   "metadata": {},
   "outputs": [],
   "source": [
    "df = pd.get_dummies(df)"
   ]
  },
  {
   "cell_type": "code",
   "execution_count": 14,
   "id": "b49bc4a4",
   "metadata": {},
   "outputs": [
    {
     "data": {
      "text/html": [
       "<div>\n",
       "<style scoped>\n",
       "    .dataframe tbody tr th:only-of-type {\n",
       "        vertical-align: middle;\n",
       "    }\n",
       "\n",
       "    .dataframe tbody tr th {\n",
       "        vertical-align: top;\n",
       "    }\n",
       "\n",
       "    .dataframe thead th {\n",
       "        text-align: right;\n",
       "    }\n",
       "</style>\n",
       "<table border=\"1\" class=\"dataframe\">\n",
       "  <thead>\n",
       "    <tr style=\"text-align: right;\">\n",
       "      <th></th>\n",
       "      <th>MinTemp</th>\n",
       "      <th>MaxTemp</th>\n",
       "      <th>Rainfall</th>\n",
       "      <th>Evaporation</th>\n",
       "      <th>Sunshine</th>\n",
       "      <th>Humidity9am</th>\n",
       "      <th>Humidity3pm</th>\n",
       "      <th>Pressure9am</th>\n",
       "      <th>Pressure3pm</th>\n",
       "      <th>Cloud9am</th>\n",
       "      <th>Cloud3pm</th>\n",
       "      <th>Temp9am</th>\n",
       "      <th>Temp3pm</th>\n",
       "      <th>RainToday_No</th>\n",
       "      <th>RainToday_Yes</th>\n",
       "      <th>RainTomorrow_No</th>\n",
       "      <th>RainTomorrow_Yes</th>\n",
       "    </tr>\n",
       "  </thead>\n",
       "  <tbody>\n",
       "    <tr>\n",
       "      <th>0</th>\n",
       "      <td>19.5</td>\n",
       "      <td>22.4</td>\n",
       "      <td>15.6</td>\n",
       "      <td>6.200000</td>\n",
       "      <td>0.0</td>\n",
       "      <td>92.0</td>\n",
       "      <td>84.0</td>\n",
       "      <td>1017.6</td>\n",
       "      <td>1017.4</td>\n",
       "      <td>8.0</td>\n",
       "      <td>8.0</td>\n",
       "      <td>20.7</td>\n",
       "      <td>20.9</td>\n",
       "      <td>0</td>\n",
       "      <td>1</td>\n",
       "      <td>0</td>\n",
       "      <td>1</td>\n",
       "    </tr>\n",
       "    <tr>\n",
       "      <th>1</th>\n",
       "      <td>19.5</td>\n",
       "      <td>25.6</td>\n",
       "      <td>6.0</td>\n",
       "      <td>3.400000</td>\n",
       "      <td>2.7</td>\n",
       "      <td>83.0</td>\n",
       "      <td>73.0</td>\n",
       "      <td>1017.9</td>\n",
       "      <td>1016.4</td>\n",
       "      <td>7.0</td>\n",
       "      <td>7.0</td>\n",
       "      <td>22.4</td>\n",
       "      <td>24.8</td>\n",
       "      <td>0</td>\n",
       "      <td>1</td>\n",
       "      <td>0</td>\n",
       "      <td>1</td>\n",
       "    </tr>\n",
       "    <tr>\n",
       "      <th>2</th>\n",
       "      <td>21.6</td>\n",
       "      <td>24.5</td>\n",
       "      <td>6.6</td>\n",
       "      <td>2.400000</td>\n",
       "      <td>0.1</td>\n",
       "      <td>88.0</td>\n",
       "      <td>86.0</td>\n",
       "      <td>1016.7</td>\n",
       "      <td>1015.6</td>\n",
       "      <td>7.0</td>\n",
       "      <td>8.0</td>\n",
       "      <td>23.5</td>\n",
       "      <td>23.0</td>\n",
       "      <td>0</td>\n",
       "      <td>1</td>\n",
       "      <td>0</td>\n",
       "      <td>1</td>\n",
       "    </tr>\n",
       "    <tr>\n",
       "      <th>3</th>\n",
       "      <td>20.2</td>\n",
       "      <td>22.8</td>\n",
       "      <td>18.8</td>\n",
       "      <td>2.200000</td>\n",
       "      <td>0.0</td>\n",
       "      <td>83.0</td>\n",
       "      <td>90.0</td>\n",
       "      <td>1014.2</td>\n",
       "      <td>1011.8</td>\n",
       "      <td>8.0</td>\n",
       "      <td>8.0</td>\n",
       "      <td>21.4</td>\n",
       "      <td>20.9</td>\n",
       "      <td>0</td>\n",
       "      <td>1</td>\n",
       "      <td>0</td>\n",
       "      <td>1</td>\n",
       "    </tr>\n",
       "    <tr>\n",
       "      <th>4</th>\n",
       "      <td>19.7</td>\n",
       "      <td>25.7</td>\n",
       "      <td>77.4</td>\n",
       "      <td>5.187432</td>\n",
       "      <td>0.0</td>\n",
       "      <td>88.0</td>\n",
       "      <td>74.0</td>\n",
       "      <td>1008.3</td>\n",
       "      <td>1004.8</td>\n",
       "      <td>8.0</td>\n",
       "      <td>8.0</td>\n",
       "      <td>22.5</td>\n",
       "      <td>25.5</td>\n",
       "      <td>0</td>\n",
       "      <td>1</td>\n",
       "      <td>0</td>\n",
       "      <td>1</td>\n",
       "    </tr>\n",
       "  </tbody>\n",
       "</table>\n",
       "</div>"
      ],
      "text/plain": [
       "   MinTemp  MaxTemp  Rainfall  Evaporation  Sunshine  Humidity9am  \\\n",
       "0     19.5     22.4      15.6     6.200000       0.0         92.0   \n",
       "1     19.5     25.6       6.0     3.400000       2.7         83.0   \n",
       "2     21.6     24.5       6.6     2.400000       0.1         88.0   \n",
       "3     20.2     22.8      18.8     2.200000       0.0         83.0   \n",
       "4     19.7     25.7      77.4     5.187432       0.0         88.0   \n",
       "\n",
       "   Humidity3pm  Pressure9am  Pressure3pm  Cloud9am  Cloud3pm  Temp9am  \\\n",
       "0         84.0       1017.6       1017.4       8.0       8.0     20.7   \n",
       "1         73.0       1017.9       1016.4       7.0       7.0     22.4   \n",
       "2         86.0       1016.7       1015.6       7.0       8.0     23.5   \n",
       "3         90.0       1014.2       1011.8       8.0       8.0     21.4   \n",
       "4         74.0       1008.3       1004.8       8.0       8.0     22.5   \n",
       "\n",
       "   Temp3pm  RainToday_No  RainToday_Yes  RainTomorrow_No  RainTomorrow_Yes  \n",
       "0     20.9             0              1                0                 1  \n",
       "1     24.8             0              1                0                 1  \n",
       "2     23.0             0              1                0                 1  \n",
       "3     20.9             0              1                0                 1  \n",
       "4     25.5             0              1                0                 1  "
      ]
     },
     "execution_count": 14,
     "metadata": {},
     "output_type": "execute_result"
    }
   ],
   "source": [
    "df.head()"
   ]
  },
  {
   "cell_type": "code",
   "execution_count": 15,
   "id": "9da910db",
   "metadata": {},
   "outputs": [],
   "source": [
    "del df['RainToday_No']\n",
    "del df['RainTomorrow_No']"
   ]
  },
  {
   "cell_type": "markdown",
   "id": "f6147cc7",
   "metadata": {},
   "source": [
    "## x - y split"
   ]
  },
  {
   "cell_type": "code",
   "execution_count": 16,
   "id": "00e5221e",
   "metadata": {},
   "outputs": [],
   "source": [
    "x = df.drop(\"RainTomorrow_Yes\", axis = 1) # Including all columns except the dependent variable column \n",
    "y = df[\"RainTomorrow_Yes\"] # y contains the dependent variable"
   ]
  },
  {
   "cell_type": "markdown",
   "id": "f9e5ff57",
   "metadata": {},
   "source": [
    "# Test-Train Split"
   ]
  },
  {
   "cell_type": "code",
   "execution_count": 17,
   "id": "8fcd87c4",
   "metadata": {},
   "outputs": [],
   "source": [
    "from sklearn.model_selection import train_test_split"
   ]
  },
  {
   "cell_type": "code",
   "execution_count": 18,
   "id": "f5524021",
   "metadata": {},
   "outputs": [],
   "source": [
    "from sklearn.linear_model import LogisticRegression"
   ]
  },
  {
   "cell_type": "code",
   "execution_count": 19,
   "id": "2e876308",
   "metadata": {},
   "outputs": [],
   "source": [
    "# splitting data into train and test data\n",
    "x_train, x_test, y_train, y_test = train_test_split(x, y, test_size=0.2, random_state=0)"
   ]
  },
  {
   "cell_type": "code",
   "execution_count": 20,
   "id": "53e09d5c",
   "metadata": {},
   "outputs": [
    {
     "name": "stdout",
     "output_type": "stream",
     "text": [
      "(2669, 14) (668, 14) (2669,) (668,)\n"
     ]
    }
   ],
   "source": [
    "print (x_train.shape,x_test.shape,y_train.shape, y_test.shape)"
   ]
  },
  {
   "cell_type": "code",
   "execution_count": 21,
   "id": "73ec8cb8",
   "metadata": {
    "scrolled": true
   },
   "outputs": [
    {
     "name": "stderr",
     "output_type": "stream",
     "text": [
      "C:\\Users\\Asus\\anaconda3\\lib\\site-packages\\sklearn\\linear_model\\_logistic.py:763: ConvergenceWarning: lbfgs failed to converge (status=1):\n",
      "STOP: TOTAL NO. of ITERATIONS REACHED LIMIT.\n",
      "\n",
      "Increase the number of iterations (max_iter) or scale the data as shown in:\n",
      "    https://scikit-learn.org/stable/modules/preprocessing.html\n",
      "Please also refer to the documentation for alternative solver options:\n",
      "    https://scikit-learn.org/stable/modules/linear_model.html#logistic-regression\n",
      "  n_iter_i = _check_optimize_result(\n"
     ]
    },
    {
     "data": {
      "text/plain": [
       "LogisticRegression()"
      ]
     },
     "execution_count": 21,
     "metadata": {},
     "output_type": "execute_result"
    }
   ],
   "source": [
    "clf_LR = LogisticRegression() # creating a logistic regression object\n",
    "clf_LR.fit(x_train,y_train) # fitting train data into the object"
   ]
  },
  {
   "cell_type": "code",
   "execution_count": 22,
   "id": "b5ea5030",
   "metadata": {},
   "outputs": [
    {
     "data": {
      "text/plain": [
       "array([0, 0, 0, 0, 0, 0, 0, 0, 0, 0, 0, 0, 0, 0, 0, 0, 0, 0, 0, 0, 0, 0,\n",
       "       0, 0, 0, 0, 0, 0, 0, 0, 0, 1, 0, 0, 0, 0, 1, 1, 1, 0, 0, 0, 0, 0,\n",
       "       0, 0, 0, 0, 0, 0, 0, 0, 1, 0, 0, 0, 0, 0, 1, 0, 1, 0, 0, 0, 0, 0,\n",
       "       0, 0, 0, 0, 0, 1, 0, 0, 0, 0, 0, 0, 0, 0, 0, 0, 0, 0, 0, 1, 0, 1,\n",
       "       1, 0, 0, 0, 1, 0, 1, 0, 0, 0, 0, 0, 0, 0, 0, 0, 0, 0, 0, 0, 0, 1,\n",
       "       0, 1, 1, 0, 1, 0, 0, 0, 0, 0, 0, 0, 1, 0, 0, 1, 0, 1, 0, 0, 0, 0,\n",
       "       0, 1, 1, 0, 1, 0, 0, 0, 0, 0, 0, 0, 0, 0, 0, 0, 0, 0, 0, 0, 1, 0,\n",
       "       0, 0, 1, 1, 0, 0, 0, 1, 0, 0, 1, 1, 0, 0, 0, 0, 1, 0, 0, 1, 0, 1,\n",
       "       0, 0, 0, 0, 0, 1, 1, 0, 0, 0, 0, 0, 0, 1, 0, 0, 0, 1, 0, 0, 0, 0,\n",
       "       1, 1, 0, 0, 0, 1, 1, 0, 1, 0, 0, 0, 0, 0, 0, 0, 0, 0, 0, 0, 0, 1,\n",
       "       0, 1, 0, 0, 0, 0, 0, 0, 1, 0, 0, 0, 0, 0, 0, 0, 0, 0, 0, 1, 0, 1,\n",
       "       0, 0, 0, 0, 0, 0, 0, 0, 0, 1, 0, 1, 0, 0, 0, 0, 0, 0, 0, 0, 0, 0,\n",
       "       0, 0, 1, 0, 0, 0, 0, 1, 0, 0, 0, 1, 0, 1, 1, 0, 0, 0, 0, 0, 0, 1,\n",
       "       1, 0, 1, 0, 0, 0, 0, 0, 0, 1, 1, 0, 0, 1, 0, 0, 0, 0, 0, 0, 0, 0,\n",
       "       0, 0, 0, 0, 0, 0, 0, 0, 1, 0, 0, 0, 1, 1, 0, 0, 0, 0, 0, 0, 0, 0,\n",
       "       0, 0, 0, 0, 0, 0, 1, 1, 0, 0, 0, 0, 0, 0, 0, 0, 0, 0, 0, 0, 0, 0,\n",
       "       0, 0, 0, 0, 0, 0, 0, 0, 0, 0, 0, 0, 0, 1, 0, 0, 0, 1, 0, 0, 0, 0,\n",
       "       0, 0, 0, 0, 0, 0, 0, 0, 0, 0, 1, 0, 0, 0, 0, 1, 0, 0, 0, 0, 1, 1,\n",
       "       0, 0, 0, 0, 0, 0, 0, 1, 1, 1, 0, 1, 1, 0, 1, 0, 0, 0, 1, 0, 0, 0,\n",
       "       0, 0, 0, 0, 1, 0, 0, 0, 1, 0, 1, 0, 0, 1, 0, 1, 1, 0, 0, 0, 0, 0,\n",
       "       0, 0, 0, 0, 0, 1, 1, 1, 1, 0, 0, 0, 0, 0, 0, 1, 0, 0, 0, 0, 0, 0,\n",
       "       0, 0, 0, 1, 0, 0, 0, 0, 0, 0, 0, 0, 0, 0, 0, 0, 0, 0, 1, 0, 0, 0,\n",
       "       0, 0, 0, 0, 0, 0, 0, 1, 1, 0, 0, 0, 0, 0, 0, 0, 0, 0, 0, 0, 0, 0,\n",
       "       0, 0, 0, 0, 0, 0, 0, 1, 1, 0, 0, 0, 0, 0, 0, 0, 0, 0, 0, 0, 0, 0,\n",
       "       0, 1, 0, 0, 0, 0, 0, 0, 0, 1, 0, 0, 0, 0, 0, 1, 0, 0, 0, 0, 0, 1,\n",
       "       0, 0, 0, 0, 1, 0, 0, 0, 0, 0, 0, 0, 0, 0, 0, 0, 0, 0, 1, 0, 0, 0,\n",
       "       0, 0, 0, 0, 0, 1, 0, 1, 1, 1, 1, 0, 0, 0, 0, 0, 0, 0, 0, 0, 0, 0,\n",
       "       0, 0, 0, 1, 0, 0, 0, 0, 0, 0, 1, 0, 1, 0, 0, 1, 0, 0, 0, 0, 0, 0,\n",
       "       0, 0, 0, 0, 0, 1, 0, 0, 0, 0, 0, 0, 0, 0, 0, 0, 0, 1, 0, 1, 0, 0,\n",
       "       0, 1, 0, 0, 0, 0, 0, 0, 0, 1, 1, 0, 0, 1, 0, 0, 0, 0, 0, 0, 0, 1,\n",
       "       1, 0, 0, 0, 0, 0, 0, 0], dtype=uint8)"
      ]
     },
     "execution_count": 22,
     "metadata": {},
     "output_type": "execute_result"
    }
   ],
   "source": [
    "y_test_pred = clf_LR.predict(x_test) # making predictions using the test data\n",
    "y_test_pred"
   ]
  },
  {
   "cell_type": "code",
   "execution_count": 23,
   "id": "28d0ef00",
   "metadata": {},
   "outputs": [],
   "source": [
    "from sklearn.metrics import accuracy_score, confusion_matrix"
   ]
  },
  {
   "cell_type": "code",
   "execution_count": 24,
   "id": "48b54511",
   "metadata": {},
   "outputs": [
    {
     "data": {
      "text/plain": [
       "array([[475,  35],\n",
       "       [ 75,  83]], dtype=int64)"
      ]
     },
     "execution_count": 24,
     "metadata": {},
     "output_type": "execute_result"
    }
   ],
   "source": [
    "confusion_matrix(y_test, y_test_pred)"
   ]
  },
  {
   "cell_type": "code",
   "execution_count": 25,
   "id": "22775159",
   "metadata": {},
   "outputs": [
    {
     "name": "stdout",
     "output_type": "stream",
     "text": [
      "The accuracy score on test set is:  0.8353293413173652\n"
     ]
    }
   ],
   "source": [
    "print(\"The accuracy score on test set is: \",accuracy_score(y_test, y_test_pred))"
   ]
  },
  {
   "cell_type": "markdown",
   "id": "f27c34c3",
   "metadata": {},
   "source": [
    "# Logistic Regression"
   ]
  },
  {
   "cell_type": "code",
   "execution_count": 26,
   "id": "bd8d86dc",
   "metadata": {},
   "outputs": [
    {
     "name": "stderr",
     "output_type": "stream",
     "text": [
      "C:\\Users\\Asus\\anaconda3\\lib\\site-packages\\sklearn\\linear_model\\_logistic.py:763: ConvergenceWarning: lbfgs failed to converge (status=1):\n",
      "STOP: TOTAL NO. of ITERATIONS REACHED LIMIT.\n",
      "\n",
      "Increase the number of iterations (max_iter) or scale the data as shown in:\n",
      "    https://scikit-learn.org/stable/modules/preprocessing.html\n",
      "Please also refer to the documentation for alternative solver options:\n",
      "    https://scikit-learn.org/stable/modules/linear_model.html#logistic-regression\n",
      "  n_iter_i = _check_optimize_result(\n"
     ]
    },
    {
     "data": {
      "text/plain": [
       "LogisticRegression()"
      ]
     },
     "execution_count": 26,
     "metadata": {},
     "output_type": "execute_result"
    }
   ],
   "source": [
    "lr = LogisticRegression() # creating a logistic regression object\n",
    "lr.fit(x,y) # fitting x and y in the object"
   ]
  },
  {
   "cell_type": "code",
   "execution_count": 27,
   "id": "af669f3e",
   "metadata": {},
   "outputs": [
    {
     "data": {
      "text/plain": [
       "array([[-0.10188067,  0.09265053,  0.03454044,  0.01998312, -0.22301997,\n",
       "         0.00537537,  0.05067888, -0.07060039,  0.06651128, -0.10290482,\n",
       "         0.18252986,  0.03328796, -0.02441275,  0.05644923]])"
      ]
     },
     "execution_count": 27,
     "metadata": {},
     "output_type": "execute_result"
    }
   ],
   "source": [
    "lr.coef_ # finding slopes"
   ]
  },
  {
   "cell_type": "code",
   "execution_count": 28,
   "id": "54a716ad",
   "metadata": {},
   "outputs": [
    {
     "data": {
      "text/plain": [
       "array([0.00072408])"
      ]
     },
     "execution_count": 28,
     "metadata": {},
     "output_type": "execute_result"
    }
   ],
   "source": [
    "lr.intercept_ # finding beta naught"
   ]
  },
  {
   "cell_type": "code",
   "execution_count": 29,
   "id": "65e97d32",
   "metadata": {},
   "outputs": [],
   "source": [
    "import statsmodels.api as sn"
   ]
  },
  {
   "cell_type": "code",
   "execution_count": 30,
   "id": "6ee09391",
   "metadata": {},
   "outputs": [
    {
     "name": "stderr",
     "output_type": "stream",
     "text": [
      "C:\\Users\\Asus\\anaconda3\\lib\\site-packages\\statsmodels\\tsa\\tsatools.py:142: FutureWarning: In a future version of pandas all arguments of concat except for the argument 'objs' will be keyword-only\n",
      "  x = pd.concat(x[::order], 1)\n"
     ]
    }
   ],
   "source": [
    "x_cons = sn.add_constant(x) # adding a constant value to x variable"
   ]
  },
  {
   "cell_type": "code",
   "execution_count": 31,
   "id": "7de640d5",
   "metadata": {},
   "outputs": [
    {
     "data": {
      "text/html": [
       "<div>\n",
       "<style scoped>\n",
       "    .dataframe tbody tr th:only-of-type {\n",
       "        vertical-align: middle;\n",
       "    }\n",
       "\n",
       "    .dataframe tbody tr th {\n",
       "        vertical-align: top;\n",
       "    }\n",
       "\n",
       "    .dataframe thead th {\n",
       "        text-align: right;\n",
       "    }\n",
       "</style>\n",
       "<table border=\"1\" class=\"dataframe\">\n",
       "  <thead>\n",
       "    <tr style=\"text-align: right;\">\n",
       "      <th></th>\n",
       "      <th>const</th>\n",
       "      <th>MinTemp</th>\n",
       "      <th>MaxTemp</th>\n",
       "      <th>Rainfall</th>\n",
       "      <th>Evaporation</th>\n",
       "      <th>Sunshine</th>\n",
       "      <th>Humidity9am</th>\n",
       "      <th>Humidity3pm</th>\n",
       "      <th>Pressure9am</th>\n",
       "      <th>Pressure3pm</th>\n",
       "      <th>Cloud9am</th>\n",
       "      <th>Cloud3pm</th>\n",
       "      <th>Temp9am</th>\n",
       "      <th>Temp3pm</th>\n",
       "      <th>RainToday_Yes</th>\n",
       "    </tr>\n",
       "  </thead>\n",
       "  <tbody>\n",
       "    <tr>\n",
       "      <th>0</th>\n",
       "      <td>1.0</td>\n",
       "      <td>19.5</td>\n",
       "      <td>22.4</td>\n",
       "      <td>15.6</td>\n",
       "      <td>6.200000</td>\n",
       "      <td>0.0</td>\n",
       "      <td>92.0</td>\n",
       "      <td>84.0</td>\n",
       "      <td>1017.6</td>\n",
       "      <td>1017.4</td>\n",
       "      <td>8.0</td>\n",
       "      <td>8.0</td>\n",
       "      <td>20.7</td>\n",
       "      <td>20.9</td>\n",
       "      <td>1</td>\n",
       "    </tr>\n",
       "    <tr>\n",
       "      <th>1</th>\n",
       "      <td>1.0</td>\n",
       "      <td>19.5</td>\n",
       "      <td>25.6</td>\n",
       "      <td>6.0</td>\n",
       "      <td>3.400000</td>\n",
       "      <td>2.7</td>\n",
       "      <td>83.0</td>\n",
       "      <td>73.0</td>\n",
       "      <td>1017.9</td>\n",
       "      <td>1016.4</td>\n",
       "      <td>7.0</td>\n",
       "      <td>7.0</td>\n",
       "      <td>22.4</td>\n",
       "      <td>24.8</td>\n",
       "      <td>1</td>\n",
       "    </tr>\n",
       "    <tr>\n",
       "      <th>2</th>\n",
       "      <td>1.0</td>\n",
       "      <td>21.6</td>\n",
       "      <td>24.5</td>\n",
       "      <td>6.6</td>\n",
       "      <td>2.400000</td>\n",
       "      <td>0.1</td>\n",
       "      <td>88.0</td>\n",
       "      <td>86.0</td>\n",
       "      <td>1016.7</td>\n",
       "      <td>1015.6</td>\n",
       "      <td>7.0</td>\n",
       "      <td>8.0</td>\n",
       "      <td>23.5</td>\n",
       "      <td>23.0</td>\n",
       "      <td>1</td>\n",
       "    </tr>\n",
       "    <tr>\n",
       "      <th>3</th>\n",
       "      <td>1.0</td>\n",
       "      <td>20.2</td>\n",
       "      <td>22.8</td>\n",
       "      <td>18.8</td>\n",
       "      <td>2.200000</td>\n",
       "      <td>0.0</td>\n",
       "      <td>83.0</td>\n",
       "      <td>90.0</td>\n",
       "      <td>1014.2</td>\n",
       "      <td>1011.8</td>\n",
       "      <td>8.0</td>\n",
       "      <td>8.0</td>\n",
       "      <td>21.4</td>\n",
       "      <td>20.9</td>\n",
       "      <td>1</td>\n",
       "    </tr>\n",
       "    <tr>\n",
       "      <th>4</th>\n",
       "      <td>1.0</td>\n",
       "      <td>19.7</td>\n",
       "      <td>25.7</td>\n",
       "      <td>77.4</td>\n",
       "      <td>5.187432</td>\n",
       "      <td>0.0</td>\n",
       "      <td>88.0</td>\n",
       "      <td>74.0</td>\n",
       "      <td>1008.3</td>\n",
       "      <td>1004.8</td>\n",
       "      <td>8.0</td>\n",
       "      <td>8.0</td>\n",
       "      <td>22.5</td>\n",
       "      <td>25.5</td>\n",
       "      <td>1</td>\n",
       "    </tr>\n",
       "    <tr>\n",
       "      <th>...</th>\n",
       "      <td>...</td>\n",
       "      <td>...</td>\n",
       "      <td>...</td>\n",
       "      <td>...</td>\n",
       "      <td>...</td>\n",
       "      <td>...</td>\n",
       "      <td>...</td>\n",
       "      <td>...</td>\n",
       "      <td>...</td>\n",
       "      <td>...</td>\n",
       "      <td>...</td>\n",
       "      <td>...</td>\n",
       "      <td>...</td>\n",
       "      <td>...</td>\n",
       "      <td>...</td>\n",
       "    </tr>\n",
       "    <tr>\n",
       "      <th>3332</th>\n",
       "      <td>1.0</td>\n",
       "      <td>8.6</td>\n",
       "      <td>19.6</td>\n",
       "      <td>0.0</td>\n",
       "      <td>2.000000</td>\n",
       "      <td>7.8</td>\n",
       "      <td>73.0</td>\n",
       "      <td>52.0</td>\n",
       "      <td>1025.9</td>\n",
       "      <td>1025.3</td>\n",
       "      <td>2.0</td>\n",
       "      <td>2.0</td>\n",
       "      <td>10.5</td>\n",
       "      <td>17.9</td>\n",
       "      <td>0</td>\n",
       "    </tr>\n",
       "    <tr>\n",
       "      <th>3333</th>\n",
       "      <td>1.0</td>\n",
       "      <td>9.3</td>\n",
       "      <td>19.2</td>\n",
       "      <td>0.0</td>\n",
       "      <td>2.000000</td>\n",
       "      <td>9.2</td>\n",
       "      <td>78.0</td>\n",
       "      <td>53.0</td>\n",
       "      <td>1028.5</td>\n",
       "      <td>1024.6</td>\n",
       "      <td>2.0</td>\n",
       "      <td>2.0</td>\n",
       "      <td>11.0</td>\n",
       "      <td>18.7</td>\n",
       "      <td>0</td>\n",
       "    </tr>\n",
       "    <tr>\n",
       "      <th>3334</th>\n",
       "      <td>1.0</td>\n",
       "      <td>9.4</td>\n",
       "      <td>17.7</td>\n",
       "      <td>0.0</td>\n",
       "      <td>2.400000</td>\n",
       "      <td>2.7</td>\n",
       "      <td>85.0</td>\n",
       "      <td>56.0</td>\n",
       "      <td>1020.8</td>\n",
       "      <td>1015.0</td>\n",
       "      <td>6.0</td>\n",
       "      <td>6.0</td>\n",
       "      <td>10.2</td>\n",
       "      <td>17.3</td>\n",
       "      <td>0</td>\n",
       "    </tr>\n",
       "    <tr>\n",
       "      <th>3335</th>\n",
       "      <td>1.0</td>\n",
       "      <td>10.1</td>\n",
       "      <td>19.3</td>\n",
       "      <td>0.0</td>\n",
       "      <td>1.400000</td>\n",
       "      <td>9.3</td>\n",
       "      <td>56.0</td>\n",
       "      <td>35.0</td>\n",
       "      <td>1017.3</td>\n",
       "      <td>1015.1</td>\n",
       "      <td>5.0</td>\n",
       "      <td>2.0</td>\n",
       "      <td>12.4</td>\n",
       "      <td>19.0</td>\n",
       "      <td>0</td>\n",
       "    </tr>\n",
       "    <tr>\n",
       "      <th>3336</th>\n",
       "      <td>1.0</td>\n",
       "      <td>7.6</td>\n",
       "      <td>19.3</td>\n",
       "      <td>0.0</td>\n",
       "      <td>3.400000</td>\n",
       "      <td>9.4</td>\n",
       "      <td>73.0</td>\n",
       "      <td>32.0</td>\n",
       "      <td>1018.6</td>\n",
       "      <td>1015.4</td>\n",
       "      <td>1.0</td>\n",
       "      <td>1.0</td>\n",
       "      <td>9.4</td>\n",
       "      <td>18.8</td>\n",
       "      <td>0</td>\n",
       "    </tr>\n",
       "  </tbody>\n",
       "</table>\n",
       "<p>3337 rows × 15 columns</p>\n",
       "</div>"
      ],
      "text/plain": [
       "      const  MinTemp  MaxTemp  Rainfall  Evaporation  Sunshine  Humidity9am  \\\n",
       "0       1.0     19.5     22.4      15.6     6.200000       0.0         92.0   \n",
       "1       1.0     19.5     25.6       6.0     3.400000       2.7         83.0   \n",
       "2       1.0     21.6     24.5       6.6     2.400000       0.1         88.0   \n",
       "3       1.0     20.2     22.8      18.8     2.200000       0.0         83.0   \n",
       "4       1.0     19.7     25.7      77.4     5.187432       0.0         88.0   \n",
       "...     ...      ...      ...       ...          ...       ...          ...   \n",
       "3332    1.0      8.6     19.6       0.0     2.000000       7.8         73.0   \n",
       "3333    1.0      9.3     19.2       0.0     2.000000       9.2         78.0   \n",
       "3334    1.0      9.4     17.7       0.0     2.400000       2.7         85.0   \n",
       "3335    1.0     10.1     19.3       0.0     1.400000       9.3         56.0   \n",
       "3336    1.0      7.6     19.3       0.0     3.400000       9.4         73.0   \n",
       "\n",
       "      Humidity3pm  Pressure9am  Pressure3pm  Cloud9am  Cloud3pm  Temp9am  \\\n",
       "0            84.0       1017.6       1017.4       8.0       8.0     20.7   \n",
       "1            73.0       1017.9       1016.4       7.0       7.0     22.4   \n",
       "2            86.0       1016.7       1015.6       7.0       8.0     23.5   \n",
       "3            90.0       1014.2       1011.8       8.0       8.0     21.4   \n",
       "4            74.0       1008.3       1004.8       8.0       8.0     22.5   \n",
       "...           ...          ...          ...       ...       ...      ...   \n",
       "3332         52.0       1025.9       1025.3       2.0       2.0     10.5   \n",
       "3333         53.0       1028.5       1024.6       2.0       2.0     11.0   \n",
       "3334         56.0       1020.8       1015.0       6.0       6.0     10.2   \n",
       "3335         35.0       1017.3       1015.1       5.0       2.0     12.4   \n",
       "3336         32.0       1018.6       1015.4       1.0       1.0      9.4   \n",
       "\n",
       "      Temp3pm  RainToday_Yes  \n",
       "0        20.9              1  \n",
       "1        24.8              1  \n",
       "2        23.0              1  \n",
       "3        20.9              1  \n",
       "4        25.5              1  \n",
       "...       ...            ...  \n",
       "3332     17.9              0  \n",
       "3333     18.7              0  \n",
       "3334     17.3              0  \n",
       "3335     19.0              0  \n",
       "3336     18.8              0  \n",
       "\n",
       "[3337 rows x 15 columns]"
      ]
     },
     "execution_count": 31,
     "metadata": {},
     "output_type": "execute_result"
    }
   ],
   "source": [
    "x_cons"
   ]
  },
  {
   "cell_type": "code",
   "execution_count": 32,
   "id": "a7e9aeac",
   "metadata": {},
   "outputs": [],
   "source": [
    "import statsmodels.discrete.discrete_model as sm"
   ]
  },
  {
   "cell_type": "code",
   "execution_count": 33,
   "id": "dd586295",
   "metadata": {},
   "outputs": [
    {
     "name": "stdout",
     "output_type": "stream",
     "text": [
      "Optimization terminated successfully.\n",
      "         Current function value: inf\n",
      "         Iterations 7\n"
     ]
    },
    {
     "name": "stderr",
     "output_type": "stream",
     "text": [
      "C:\\Users\\Asus\\anaconda3\\lib\\site-packages\\statsmodels\\discrete\\discrete_model.py:1810: RuntimeWarning: overflow encountered in exp\n",
      "  return 1/(1+np.exp(-X))\n",
      "C:\\Users\\Asus\\anaconda3\\lib\\site-packages\\statsmodels\\discrete\\discrete_model.py:1863: RuntimeWarning: divide by zero encountered in log\n",
      "  return np.sum(np.log(self.cdf(q*np.dot(X,params))))\n"
     ]
    }
   ],
   "source": [
    "logit = sm.Logit(y,x_cons).fit() # fitting the values into an object"
   ]
  },
  {
   "cell_type": "code",
   "execution_count": 34,
   "id": "f272754e",
   "metadata": {},
   "outputs": [
    {
     "name": "stderr",
     "output_type": "stream",
     "text": [
      "C:\\Users\\Asus\\anaconda3\\lib\\site-packages\\statsmodels\\base\\model.py:547: HessianInversionWarning: Inverting hessian failed, no bse or cov_params available\n",
      "  warnings.warn('Inverting hessian failed, no bse or cov_params '\n",
      "C:\\Users\\Asus\\anaconda3\\lib\\site-packages\\statsmodels\\base\\model.py:547: HessianInversionWarning: Inverting hessian failed, no bse or cov_params available\n",
      "  warnings.warn('Inverting hessian failed, no bse or cov_params '\n"
     ]
    },
    {
     "data": {
      "text/html": [
       "<table class=\"simpletable\">\n",
       "<caption>Logit Regression Results</caption>\n",
       "<tr>\n",
       "  <th>Dep. Variable:</th>   <td>RainTomorrow_Yes</td> <th>  No. Observations:  </th>  <td>  3337</td> \n",
       "</tr>\n",
       "<tr>\n",
       "  <th>Model:</th>                 <td>Logit</td>      <th>  Df Residuals:      </th>  <td>  3322</td> \n",
       "</tr>\n",
       "<tr>\n",
       "  <th>Method:</th>                 <td>MLE</td>       <th>  Df Model:          </th>  <td>    14</td> \n",
       "</tr>\n",
       "<tr>\n",
       "  <th>Date:</th>            <td>Wed, 23 Aug 2023</td> <th>  Pseudo R-squ.:     </th>  <td>   inf</td> \n",
       "</tr>\n",
       "<tr>\n",
       "  <th>Time:</th>                <td>10:03:14</td>     <th>  Log-Likelihood:    </th> <td>    -inf</td>\n",
       "</tr>\n",
       "<tr>\n",
       "  <th>converged:</th>             <td>True</td>       <th>  LL-Null:           </th> <td>  0.0000</td>\n",
       "</tr>\n",
       "<tr>\n",
       "  <th>Covariance Type:</th>     <td>nonrobust</td>    <th>  LLR p-value:       </th>  <td> 1.000</td> \n",
       "</tr>\n",
       "</table>\n",
       "<table class=\"simpletable\">\n",
       "<tr>\n",
       "        <td></td>           <th>coef</th>     <th>std err</th>      <th>z</th>      <th>P>|z|</th>  <th>[0.025</th>    <th>0.975]</th>  \n",
       "</tr>\n",
       "<tr>\n",
       "  <th>const</th>         <td>   29.7954</td> <td>    8.542</td> <td>    3.488</td> <td> 0.000</td> <td>   13.053</td> <td>   46.538</td>\n",
       "</tr>\n",
       "<tr>\n",
       "  <th>MinTemp</th>       <td>   -0.2385</td> <td>    0.048</td> <td>   -4.958</td> <td> 0.000</td> <td>   -0.333</td> <td>   -0.144</td>\n",
       "</tr>\n",
       "<tr>\n",
       "  <th>MaxTemp</th>       <td>    0.0804</td> <td>    0.043</td> <td>    1.869</td> <td> 0.062</td> <td>   -0.004</td> <td>    0.165</td>\n",
       "</tr>\n",
       "<tr>\n",
       "  <th>Rainfall</th>      <td>    0.0105</td> <td>    0.007</td> <td>    1.609</td> <td> 0.108</td> <td>   -0.002</td> <td>    0.023</td>\n",
       "</tr>\n",
       "<tr>\n",
       "  <th>Evaporation</th>   <td>    0.0604</td> <td>    0.025</td> <td>    2.375</td> <td> 0.018</td> <td>    0.011</td> <td>    0.110</td>\n",
       "</tr>\n",
       "<tr>\n",
       "  <th>Sunshine</th>      <td>   -0.2295</td> <td>    0.023</td> <td>  -10.137</td> <td> 0.000</td> <td>   -0.274</td> <td>   -0.185</td>\n",
       "</tr>\n",
       "<tr>\n",
       "  <th>Humidity9am</th>   <td>    0.0133</td> <td>    0.007</td> <td>    1.928</td> <td> 0.054</td> <td>   -0.000</td> <td>    0.027</td>\n",
       "</tr>\n",
       "<tr>\n",
       "  <th>Humidity3pm</th>   <td>    0.0514</td> <td>    0.007</td> <td>    7.510</td> <td> 0.000</td> <td>    0.038</td> <td>    0.065</td>\n",
       "</tr>\n",
       "<tr>\n",
       "  <th>Pressure9am</th>   <td>   -0.1180</td> <td>    0.031</td> <td>   -3.815</td> <td> 0.000</td> <td>   -0.179</td> <td>   -0.057</td>\n",
       "</tr>\n",
       "<tr>\n",
       "  <th>Pressure3pm</th>   <td>    0.0844</td> <td>    0.030</td> <td>    2.830</td> <td> 0.005</td> <td>    0.026</td> <td>    0.143</td>\n",
       "</tr>\n",
       "<tr>\n",
       "  <th>Cloud9am</th>      <td>   -0.0806</td> <td>    0.030</td> <td>   -2.658</td> <td> 0.008</td> <td>   -0.140</td> <td>   -0.021</td>\n",
       "</tr>\n",
       "<tr>\n",
       "  <th>Cloud3pm</th>      <td>    0.1465</td> <td>    0.032</td> <td>    4.597</td> <td> 0.000</td> <td>    0.084</td> <td>    0.209</td>\n",
       "</tr>\n",
       "<tr>\n",
       "  <th>Temp9am</th>       <td>    0.1374</td> <td>    0.051</td> <td>    2.682</td> <td> 0.007</td> <td>    0.037</td> <td>    0.238</td>\n",
       "</tr>\n",
       "<tr>\n",
       "  <th>Temp3pm</th>       <td>   -0.0233</td> <td>    0.050</td> <td>   -0.462</td> <td> 0.644</td> <td>   -0.122</td> <td>    0.075</td>\n",
       "</tr>\n",
       "<tr>\n",
       "  <th>RainToday_Yes</th> <td>    0.7040</td> <td>    0.137</td> <td>    5.143</td> <td> 0.000</td> <td>    0.436</td> <td>    0.972</td>\n",
       "</tr>\n",
       "</table>"
      ],
      "text/plain": [
       "<class 'statsmodels.iolib.summary.Summary'>\n",
       "\"\"\"\n",
       "                           Logit Regression Results                           \n",
       "==============================================================================\n",
       "Dep. Variable:       RainTomorrow_Yes   No. Observations:                 3337\n",
       "Model:                          Logit   Df Residuals:                     3322\n",
       "Method:                           MLE   Df Model:                           14\n",
       "Date:                Wed, 23 Aug 2023   Pseudo R-squ.:                     inf\n",
       "Time:                        10:03:14   Log-Likelihood:                   -inf\n",
       "converged:                       True   LL-Null:                        0.0000\n",
       "Covariance Type:            nonrobust   LLR p-value:                     1.000\n",
       "=================================================================================\n",
       "                    coef    std err          z      P>|z|      [0.025      0.975]\n",
       "---------------------------------------------------------------------------------\n",
       "const            29.7954      8.542      3.488      0.000      13.053      46.538\n",
       "MinTemp          -0.2385      0.048     -4.958      0.000      -0.333      -0.144\n",
       "MaxTemp           0.0804      0.043      1.869      0.062      -0.004       0.165\n",
       "Rainfall          0.0105      0.007      1.609      0.108      -0.002       0.023\n",
       "Evaporation       0.0604      0.025      2.375      0.018       0.011       0.110\n",
       "Sunshine         -0.2295      0.023    -10.137      0.000      -0.274      -0.185\n",
       "Humidity9am       0.0133      0.007      1.928      0.054      -0.000       0.027\n",
       "Humidity3pm       0.0514      0.007      7.510      0.000       0.038       0.065\n",
       "Pressure9am      -0.1180      0.031     -3.815      0.000      -0.179      -0.057\n",
       "Pressure3pm       0.0844      0.030      2.830      0.005       0.026       0.143\n",
       "Cloud9am         -0.0806      0.030     -2.658      0.008      -0.140      -0.021\n",
       "Cloud3pm          0.1465      0.032      4.597      0.000       0.084       0.209\n",
       "Temp9am           0.1374      0.051      2.682      0.007       0.037       0.238\n",
       "Temp3pm          -0.0233      0.050     -0.462      0.644      -0.122       0.075\n",
       "RainToday_Yes     0.7040      0.137      5.143      0.000       0.436       0.972\n",
       "=================================================================================\n",
       "\"\"\""
      ]
     },
     "execution_count": 34,
     "metadata": {},
     "output_type": "execute_result"
    }
   ],
   "source": [
    "logit.summary()"
   ]
  },
  {
   "cell_type": "markdown",
   "id": "85ba5e28",
   "metadata": {},
   "source": [
    "__Inference__\n",
    "\n",
    "_Independent variables, rainfall and Temp 3 PM have no significant relationship with the dependent variable._"
   ]
  },
  {
   "cell_type": "markdown",
   "id": "5ffff24f",
   "metadata": {},
   "source": [
    "## Prediction and confusion matrix"
   ]
  },
  {
   "cell_type": "code",
   "execution_count": 35,
   "id": "ce272d58",
   "metadata": {},
   "outputs": [
    {
     "data": {
      "text/plain": [
       "array([[0.09960533, 0.90039467],\n",
       "       [0.3325617 , 0.6674383 ],\n",
       "       [0.12546637, 0.87453363],\n",
       "       ...,\n",
       "       [0.67727735, 0.32272265],\n",
       "       [0.97629666, 0.02370334],\n",
       "       [0.96905648, 0.03094352]])"
      ]
     },
     "execution_count": 35,
     "metadata": {},
     "output_type": "execute_result"
    }
   ],
   "source": [
    "lr.predict_proba(x) # Predicting probabilities"
   ]
  },
  {
   "cell_type": "code",
   "execution_count": 36,
   "id": "acdd03f3",
   "metadata": {},
   "outputs": [
    {
     "data": {
      "text/plain": [
       "array([1, 1, 1, ..., 0, 0, 0], dtype=uint8)"
      ]
     },
     "execution_count": 36,
     "metadata": {},
     "output_type": "execute_result"
    }
   ],
   "source": [
    "y_pred = lr.predict(x) # predicting the values of independent variable\n",
    "y_pred"
   ]
  },
  {
   "cell_type": "code",
   "execution_count": 37,
   "id": "ed586e5b",
   "metadata": {},
   "outputs": [],
   "source": [
    "y_pred_03 = (lr.predict_proba(x)[:,1] >= 0.5) # threshold is set to 0.5 so any value above 0.5 will be considered true"
   ]
  },
  {
   "cell_type": "code",
   "execution_count": 38,
   "id": "beb81721",
   "metadata": {
    "scrolled": false
   },
   "outputs": [
    {
     "data": {
      "text/plain": [
       "array([ True,  True,  True, ..., False, False, False])"
      ]
     },
     "execution_count": 38,
     "metadata": {},
     "output_type": "execute_result"
    }
   ],
   "source": [
    "y_pred_03 # Predicting rainfall"
   ]
  },
  {
   "cell_type": "code",
   "execution_count": 39,
   "id": "09cd094f",
   "metadata": {},
   "outputs": [
    {
     "data": {
      "text/plain": [
       "array([[2284,  188],\n",
       "       [ 382,  483]], dtype=int64)"
      ]
     },
     "execution_count": 39,
     "metadata": {},
     "output_type": "execute_result"
    }
   ],
   "source": [
    "confusion_matrix(y, y_pred)"
   ]
  },
  {
   "cell_type": "code",
   "execution_count": 40,
   "id": "6a1709f9",
   "metadata": {},
   "outputs": [
    {
     "data": {
      "text/plain": [
       "array([[2284,  188],\n",
       "       [ 382,  483]], dtype=int64)"
      ]
     },
     "execution_count": 40,
     "metadata": {},
     "output_type": "execute_result"
    }
   ],
   "source": [
    "confusion_matrix(y, y_pred_03)"
   ]
  },
  {
   "cell_type": "markdown",
   "id": "7149e1d8",
   "metadata": {},
   "source": [
    "# Evaluating model performance"
   ]
  },
  {
   "cell_type": "code",
   "execution_count": 41,
   "id": "c8e3244b",
   "metadata": {},
   "outputs": [],
   "source": [
    "from sklearn.metrics import precision_score, recall_score"
   ]
  },
  {
   "cell_type": "code",
   "execution_count": 42,
   "id": "b0f04ac8",
   "metadata": {},
   "outputs": [
    {
     "name": "stdout",
     "output_type": "stream",
     "text": [
      "The precision score is:  0.7198211624441133\n"
     ]
    }
   ],
   "source": [
    "print(\"The precision score is: \",precision_score(y, y_pred)) "
   ]
  },
  {
   "cell_type": "code",
   "execution_count": 43,
   "id": "9d10bfcd",
   "metadata": {},
   "outputs": [
    {
     "name": "stdout",
     "output_type": "stream",
     "text": [
      "The recall score is:  0.5583815028901734\n"
     ]
    }
   ],
   "source": [
    "print(\"The recall score is: \",recall_score(y, y_pred))"
   ]
  },
  {
   "cell_type": "code",
   "execution_count": 44,
   "id": "f4369d41",
   "metadata": {},
   "outputs": [],
   "source": [
    "from sklearn.metrics import roc_auc_score"
   ]
  },
  {
   "cell_type": "code",
   "execution_count": 45,
   "id": "1f2ecce7",
   "metadata": {},
   "outputs": [
    {
     "name": "stdout",
     "output_type": "stream",
     "text": [
      "The roc_auc_score is:  0.7411648614774491\n"
     ]
    }
   ],
   "source": [
    "print(\"The roc_auc_score is: \",roc_auc_score(y, y_pred)) "
   ]
  },
  {
   "cell_type": "code",
   "execution_count": 46,
   "id": "92a67124",
   "metadata": {},
   "outputs": [
    {
     "name": "stdout",
     "output_type": "stream",
     "text": [
      "The accuracy_score is:  0.8291878933173509\n"
     ]
    }
   ],
   "source": [
    "print(\"The accuracy_score is: \",accuracy_score(y,y_pred))"
   ]
  },
  {
   "cell_type": "markdown",
   "id": "78230995",
   "metadata": {},
   "source": [
    "# Linear Discriminant Analysis"
   ]
  },
  {
   "cell_type": "code",
   "execution_count": 47,
   "id": "6d91bb66",
   "metadata": {},
   "outputs": [],
   "source": [
    "from sklearn.discriminant_analysis import LinearDiscriminantAnalysis"
   ]
  },
  {
   "cell_type": "code",
   "execution_count": 48,
   "id": "b1f479a4",
   "metadata": {},
   "outputs": [
    {
     "data": {
      "text/plain": [
       "LinearDiscriminantAnalysis()"
      ]
     },
     "execution_count": 48,
     "metadata": {},
     "output_type": "execute_result"
    }
   ],
   "source": [
    "lda = LinearDiscriminantAnalysis() # Creating a Linear Discriminant Analysis object\n",
    "lda.fit(x, y) # fitting the object "
   ]
  },
  {
   "cell_type": "code",
   "execution_count": 49,
   "id": "0ba39a1a",
   "metadata": {},
   "outputs": [],
   "source": [
    "y_pred_lda = lda.predict(x) # Predicting values "
   ]
  },
  {
   "cell_type": "code",
   "execution_count": 50,
   "id": "e47e3efe",
   "metadata": {},
   "outputs": [
    {
     "data": {
      "text/plain": [
       "array([1, 1, 1, ..., 0, 0, 0], dtype=uint8)"
      ]
     },
     "execution_count": 50,
     "metadata": {},
     "output_type": "execute_result"
    }
   ],
   "source": [
    "y_pred_lda"
   ]
  },
  {
   "cell_type": "markdown",
   "id": "95de18d7",
   "metadata": {},
   "source": [
    "## Evaluating model performance"
   ]
  },
  {
   "cell_type": "code",
   "execution_count": 51,
   "id": "bd9f8fd4",
   "metadata": {},
   "outputs": [
    {
     "data": {
      "text/plain": [
       "array([[2266,  206],\n",
       "       [ 360,  505]], dtype=int64)"
      ]
     },
     "execution_count": 51,
     "metadata": {},
     "output_type": "execute_result"
    }
   ],
   "source": [
    "confusion_matrix(y, y_pred_lda)"
   ]
  },
  {
   "cell_type": "code",
   "execution_count": 52,
   "id": "511ada47",
   "metadata": {},
   "outputs": [
    {
     "name": "stdout",
     "output_type": "stream",
     "text": [
      "The accuracy_score is:  0.8303865747677555\n"
     ]
    }
   ],
   "source": [
    "print(\"The accuracy_score is: \",accuracy_score(y,y_pred_lda))"
   ]
  },
  {
   "cell_type": "code",
   "execution_count": 53,
   "id": "fc592d73",
   "metadata": {},
   "outputs": [
    {
     "name": "stdout",
     "output_type": "stream",
     "text": [
      "The precision score is:  0.710267229254571\n"
     ]
    }
   ],
   "source": [
    "print(\"The precision score is: \",precision_score(y, y_pred_lda))"
   ]
  },
  {
   "cell_type": "code",
   "execution_count": 54,
   "id": "55c877b9",
   "metadata": {},
   "outputs": [
    {
     "name": "stdout",
     "output_type": "stream",
     "text": [
      "The recall score is:  0.5838150289017341\n"
     ]
    }
   ],
   "source": [
    "print(\"The recall score is: \",recall_score(y, y_pred_lda)) "
   ]
  },
  {
   "cell_type": "code",
   "execution_count": 55,
   "id": "93631914",
   "metadata": {},
   "outputs": [
    {
     "name": "stdout",
     "output_type": "stream",
     "text": [
      "The roc_auc_score is:  0.7502408477842004\n"
     ]
    }
   ],
   "source": [
    "print(\"The roc_auc_score is: \",roc_auc_score(y, y_pred_lda))"
   ]
  },
  {
   "cell_type": "markdown",
   "id": "f4c6daf9",
   "metadata": {},
   "source": [
    "# K-Nearest Neighbor Classification"
   ]
  },
  {
   "cell_type": "code",
   "execution_count": 56,
   "id": "aeb58427",
   "metadata": {},
   "outputs": [],
   "source": [
    "from sklearn import preprocessing\n",
    "scaler = preprocessing.StandardScaler().fit(x_train) # Creating a scaler variable and fitting it\n",
    "x_train_s= scaler.transform(x_train)"
   ]
  },
  {
   "cell_type": "code",
   "execution_count": 57,
   "id": "38a650d9",
   "metadata": {},
   "outputs": [],
   "source": [
    "scaler = preprocessing.StandardScaler().fit(x_test)\n",
    "x_test_s= scaler.transform(x_test)"
   ]
  },
  {
   "cell_type": "code",
   "execution_count": 58,
   "id": "caf0e229",
   "metadata": {},
   "outputs": [
    {
     "data": {
      "text/plain": [
       "array([[-0.54758843, -0.65317774, -0.294074  , ..., -0.18576557,\n",
       "        -0.64609428, -0.56351951],\n",
       "       [ 0.00722081,  0.58739924, -0.31359137, ..., -0.24790038,\n",
       "        -0.28964973, -0.56351951],\n",
       "       [ 0.14037502,  1.06107409, -0.31359137, ...,  0.72554502,\n",
       "         1.30246924, -0.56351951],\n",
       "       ...,\n",
       "       [-0.88047397, -0.60806585, -0.31359137, ..., -0.12363075,\n",
       "        -0.59856834, -0.56351951],\n",
       "       [ 0.14037502,  1.80542029, -0.31359137, ...,  0.29060133,\n",
       "         1.96783239, -0.56351951],\n",
       "       [-1.79036112, -1.30730015, -0.31359137, ..., -1.84269391,\n",
       "        -1.0975907 , -0.56351951]])"
      ]
     },
     "execution_count": 58,
     "metadata": {},
     "output_type": "execute_result"
    }
   ],
   "source": [
    "x_test_s"
   ]
  },
  {
   "cell_type": "code",
   "execution_count": 59,
   "id": "42972c1d",
   "metadata": {},
   "outputs": [
    {
     "data": {
      "text/plain": [
       "KNeighborsClassifier(n_neighbors=1)"
      ]
     },
     "execution_count": 59,
     "metadata": {},
     "output_type": "execute_result"
    }
   ],
   "source": [
    "from sklearn.neighbors import KNeighborsClassifier\n",
    "clf_knn_1 = KNeighborsClassifier(n_neighbors=1) # Creating a KNN object with n_neighbors = 1\n",
    "clf_knn_1.fit(x_train_s, y_train) # Fitting the object"
   ]
  },
  {
   "cell_type": "markdown",
   "id": "7a35990e",
   "metadata": {},
   "source": [
    "## Evaluating model performance before hyperparameter tuning"
   ]
  },
  {
   "cell_type": "code",
   "execution_count": 60,
   "id": "ee2570fb",
   "metadata": {},
   "outputs": [
    {
     "data": {
      "text/plain": [
       "array([[414,  96],\n",
       "       [ 74,  84]], dtype=int64)"
      ]
     },
     "execution_count": 60,
     "metadata": {},
     "output_type": "execute_result"
    }
   ],
   "source": [
    "confusion_matrix(y_test, clf_knn_1.predict(x_test_s))"
   ]
  },
  {
   "cell_type": "code",
   "execution_count": 61,
   "id": "c7f0ee20",
   "metadata": {
    "scrolled": true
   },
   "outputs": [
    {
     "name": "stdout",
     "output_type": "stream",
     "text": [
      "The accuracy score is:  0.7455089820359282\n"
     ]
    }
   ],
   "source": [
    "print(\"The accuracy score is: \",accuracy_score(y_test, clf_knn_1.predict(x_test_s)))"
   ]
  },
  {
   "cell_type": "code",
   "execution_count": 62,
   "id": "1d763b80",
   "metadata": {},
   "outputs": [
    {
     "name": "stdout",
     "output_type": "stream",
     "text": [
      "The precision score is:  0.4666666666666667\n"
     ]
    }
   ],
   "source": [
    "print(\"The precision score is: \",precision_score(y_test,clf_knn_1.predict(x_test_s)))"
   ]
  },
  {
   "cell_type": "code",
   "execution_count": 63,
   "id": "98d58b98",
   "metadata": {},
   "outputs": [
    {
     "name": "stdout",
     "output_type": "stream",
     "text": [
      "The roc_auc_score is:  0.671705137751303\n"
     ]
    }
   ],
   "source": [
    "print(\"The roc_auc_score is: \",roc_auc_score(y_test,clf_knn_1.predict(x_test_s)))"
   ]
  },
  {
   "cell_type": "code",
   "execution_count": 64,
   "id": "b49afc79",
   "metadata": {},
   "outputs": [
    {
     "name": "stdout",
     "output_type": "stream",
     "text": [
      "The recall_score is:  0.5316455696202531\n"
     ]
    }
   ],
   "source": [
    "print(\"The recall_score is: \",recall_score(y_test,clf_knn_1.predict(x_test_s)))"
   ]
  },
  {
   "cell_type": "markdown",
   "id": "225e4c79",
   "metadata": {},
   "source": [
    "## Changing hyperparameters"
   ]
  },
  {
   "cell_type": "code",
   "execution_count": 65,
   "id": "7b9de5fc",
   "metadata": {},
   "outputs": [
    {
     "data": {
      "text/plain": [
       "0.8008982035928144"
      ]
     },
     "execution_count": 65,
     "metadata": {},
     "output_type": "execute_result"
    }
   ],
   "source": [
    "clf_knn_3 = KNeighborsClassifier(n_neighbors=3) # Creating a KNN object with n_neighbors = 3\n",
    "clf_knn_3.fit(x_train_s, y_train) # Fitting the model\n",
    "accuracy_score(y_test, clf_knn_3.predict(x_test_s))"
   ]
  },
  {
   "cell_type": "markdown",
   "id": "76e6fd53",
   "metadata": {},
   "source": [
    "## Hyperparameter Tuning using GridSearchCV\n",
    "_To find the best hyperparameters to enhance the performance of the model_"
   ]
  },
  {
   "cell_type": "code",
   "execution_count": 66,
   "id": "1064274d",
   "metadata": {},
   "outputs": [],
   "source": [
    "from sklearn.model_selection import GridSearchCV"
   ]
  },
  {
   "cell_type": "code",
   "execution_count": 67,
   "id": "cfa5a5c4",
   "metadata": {},
   "outputs": [],
   "source": [
    "params = {'n_neighbors': [1, 2, 3, 4, 5, 6, 7, 8, 9, 10, 20,30]} # Defining different n_neighbors"
   ]
  },
  {
   "cell_type": "code",
   "execution_count": 68,
   "id": "9b11220d",
   "metadata": {},
   "outputs": [],
   "source": [
    "grid_search_cv = GridSearchCV(KNeighborsClassifier(), params) # Creating a GridSearch object"
   ]
  },
  {
   "cell_type": "code",
   "execution_count": 69,
   "id": "0ccd74f8",
   "metadata": {},
   "outputs": [
    {
     "data": {
      "text/plain": [
       "GridSearchCV(estimator=KNeighborsClassifier(),\n",
       "             param_grid={'n_neighbors': [1, 2, 3, 4, 5, 6, 7, 8, 9, 10, 20,\n",
       "                                         30]})"
      ]
     },
     "execution_count": 69,
     "metadata": {},
     "output_type": "execute_result"
    }
   ],
   "source": [
    "grid_search_cv.fit(x_train_s, y_train) # Fitting the object"
   ]
  },
  {
   "cell_type": "code",
   "execution_count": 70,
   "id": "ef599184",
   "metadata": {},
   "outputs": [
    {
     "data": {
      "text/plain": [
       "{'n_neighbors': 20}"
      ]
     },
     "execution_count": 70,
     "metadata": {},
     "output_type": "execute_result"
    }
   ],
   "source": [
    "grid_search_cv.best_params_ # Viewing the best n_neighbor"
   ]
  },
  {
   "cell_type": "markdown",
   "id": "35c09a58",
   "metadata": {},
   "source": [
    "## The best parameters"
   ]
  },
  {
   "cell_type": "code",
   "execution_count": 71,
   "id": "9a25ad0e",
   "metadata": {},
   "outputs": [],
   "source": [
    "optimised_KNN = grid_search_cv.best_estimator_"
   ]
  },
  {
   "cell_type": "code",
   "execution_count": 72,
   "id": "97ce6b12",
   "metadata": {},
   "outputs": [],
   "source": [
    "y_test_pred = optimised_KNN.predict(x_test_s) # Making prediction using the best estimator "
   ]
  },
  {
   "cell_type": "markdown",
   "id": "25ed15cf",
   "metadata": {},
   "source": [
    "## Evaluating model performance after hyperparameter tuning "
   ]
  },
  {
   "cell_type": "code",
   "execution_count": 73,
   "id": "c6617895",
   "metadata": {},
   "outputs": [
    {
     "data": {
      "text/plain": [
       "array([[483,  27],\n",
       "       [ 84,  74]], dtype=int64)"
      ]
     },
     "execution_count": 73,
     "metadata": {},
     "output_type": "execute_result"
    }
   ],
   "source": [
    "confusion_matrix(y_test, y_test_pred)"
   ]
  },
  {
   "cell_type": "code",
   "execution_count": 74,
   "id": "237fef6e",
   "metadata": {},
   "outputs": [
    {
     "name": "stdout",
     "output_type": "stream",
     "text": [
      "The accuracy_score is:  0.8338323353293413\n"
     ]
    }
   ],
   "source": [
    "print(\"The accuracy_score is: \",accuracy_score(y_test, y_test_pred))"
   ]
  },
  {
   "cell_type": "markdown",
   "id": "d1ff47e2",
   "metadata": {},
   "source": [
    "__Inference__\n",
    "\n",
    "- _The accuracy_score of KNN with n_neighbors = 1 is : 0.7455089820359282._\n",
    "\n",
    "- _The accuracy_score of KNN with n_neighbors = 3 is: 0.8008982035928144._\n",
    "\n",
    "- _The accuracy of the KNN model after GridSearch CV: 0.8338323353293413._\n",
    "\n",
    "- _Therefore, after hyperparameter tuning, the model showed better accuracy_score._"
   ]
  },
  {
   "cell_type": "markdown",
   "id": "c1b6b026",
   "metadata": {},
   "source": [
    "# Decision Tree Classifier"
   ]
  },
  {
   "cell_type": "code",
   "execution_count": 75,
   "id": "b4b1c941",
   "metadata": {},
   "outputs": [
    {
     "data": {
      "text/plain": [
       "DecisionTreeClassifier(max_depth=3)"
      ]
     },
     "execution_count": 75,
     "metadata": {},
     "output_type": "execute_result"
    }
   ],
   "source": [
    "from sklearn import tree\n",
    "\n",
    "# creating a decision tree classifier object\n",
    "clftree = tree.DecisionTreeClassifier(max_depth = 3)\n",
    "\n",
    "clftree.fit(x_train, y_train) # Fitting the model\n"
   ]
  },
  {
   "cell_type": "code",
   "execution_count": 76,
   "id": "58fd0278",
   "metadata": {},
   "outputs": [
    {
     "data": {
      "text/plain": [
       "array([0, 0, 0, 0, 0, 0, 0, 0, 0, 0, 0, 0, 0, 0, 0, 0, 0, 0, 0, 0, 0, 0,\n",
       "       0, 0, 0, 0, 0, 0, 0, 0, 0, 1, 0, 0, 0, 1, 1, 1, 1, 0, 0, 0, 0, 0,\n",
       "       0, 0, 0, 1, 1, 0, 0, 0, 1, 0, 0, 0, 0, 0, 1, 0, 1, 0, 0, 0, 0, 1,\n",
       "       0, 0, 0, 0, 0, 0, 0, 0, 0, 0, 0, 0, 1, 0, 0, 0, 0, 1, 0, 1, 0, 1,\n",
       "       1, 0, 0, 0, 1, 0, 0, 0, 0, 0, 0, 0, 0, 1, 0, 0, 1, 0, 0, 0, 0, 1,\n",
       "       0, 1, 1, 0, 1, 0, 0, 0, 0, 0, 0, 0, 1, 0, 0, 1, 0, 1, 0, 0, 0, 0,\n",
       "       0, 1, 1, 0, 0, 0, 0, 0, 0, 1, 0, 0, 0, 0, 0, 0, 0, 0, 0, 1, 1, 0,\n",
       "       0, 0, 1, 0, 0, 0, 0, 1, 0, 0, 0, 1, 0, 1, 0, 0, 1, 0, 0, 0, 0, 0,\n",
       "       0, 0, 0, 0, 0, 1, 1, 0, 0, 0, 1, 0, 0, 1, 0, 0, 1, 1, 0, 0, 0, 0,\n",
       "       1, 0, 0, 0, 0, 1, 1, 0, 1, 0, 0, 0, 0, 0, 0, 0, 0, 0, 1, 0, 0, 1,\n",
       "       0, 0, 0, 0, 0, 0, 0, 1, 1, 0, 1, 0, 0, 0, 0, 0, 0, 0, 0, 1, 0, 1,\n",
       "       0, 0, 0, 0, 1, 0, 0, 0, 0, 1, 1, 0, 0, 1, 0, 0, 0, 0, 0, 0, 0, 1,\n",
       "       0, 0, 1, 0, 0, 1, 0, 0, 0, 0, 1, 1, 0, 1, 1, 0, 0, 1, 0, 0, 0, 1,\n",
       "       0, 0, 1, 0, 0, 0, 0, 0, 0, 1, 0, 0, 0, 1, 0, 0, 0, 0, 0, 1, 0, 0,\n",
       "       0, 0, 0, 0, 0, 0, 0, 0, 1, 0, 0, 0, 1, 1, 0, 0, 0, 1, 0, 0, 1, 0,\n",
       "       0, 0, 0, 0, 0, 0, 1, 0, 0, 0, 0, 1, 0, 0, 0, 0, 0, 0, 0, 0, 0, 0,\n",
       "       0, 0, 0, 0, 0, 0, 0, 0, 0, 1, 0, 0, 0, 1, 0, 0, 0, 0, 0, 0, 0, 0,\n",
       "       0, 1, 0, 0, 0, 0, 0, 1, 0, 0, 1, 0, 0, 0, 1, 1, 0, 0, 0, 0, 1, 1,\n",
       "       1, 0, 0, 0, 0, 0, 0, 0, 0, 1, 0, 1, 0, 0, 1, 0, 0, 1, 1, 0, 0, 0,\n",
       "       0, 0, 0, 0, 1, 0, 0, 0, 1, 0, 1, 0, 1, 0, 0, 0, 0, 0, 0, 0, 0, 0,\n",
       "       0, 0, 0, 0, 1, 1, 1, 0, 1, 0, 0, 0, 0, 0, 0, 1, 0, 0, 0, 0, 0, 0,\n",
       "       0, 0, 0, 1, 0, 0, 0, 0, 1, 0, 0, 0, 0, 0, 0, 0, 0, 0, 1, 0, 0, 0,\n",
       "       0, 0, 0, 0, 0, 0, 0, 1, 0, 0, 0, 0, 0, 0, 0, 0, 0, 0, 0, 0, 1, 0,\n",
       "       0, 0, 0, 1, 0, 0, 0, 1, 1, 0, 0, 0, 0, 0, 0, 0, 0, 0, 0, 1, 1, 0,\n",
       "       0, 1, 0, 0, 1, 0, 0, 0, 0, 1, 0, 0, 0, 0, 0, 1, 0, 0, 0, 0, 0, 1,\n",
       "       0, 0, 0, 0, 1, 0, 0, 0, 1, 0, 0, 0, 0, 0, 0, 0, 0, 0, 1, 0, 0, 0,\n",
       "       0, 0, 0, 0, 0, 0, 0, 0, 1, 1, 1, 0, 0, 0, 1, 1, 0, 0, 0, 0, 0, 1,\n",
       "       0, 0, 0, 0, 0, 0, 0, 1, 0, 0, 0, 0, 0, 0, 0, 1, 0, 0, 0, 0, 1, 0,\n",
       "       1, 0, 0, 0, 0, 1, 0, 0, 0, 0, 0, 0, 0, 0, 0, 0, 0, 1, 0, 1, 0, 0,\n",
       "       0, 1, 0, 0, 0, 0, 0, 0, 0, 1, 0, 0, 0, 0, 1, 0, 1, 0, 0, 0, 0, 0,\n",
       "       1, 0, 0, 1, 0, 0, 0, 0], dtype=uint8)"
      ]
     },
     "execution_count": 76,
     "metadata": {},
     "output_type": "execute_result"
    }
   ],
   "source": [
    "# Predicting values using trained model\n",
    "y_train_pred = clftree.predict(x_train)\n",
    "y_test_pred = clftree.predict(x_test)\n",
    "y_test_pred"
   ]
  },
  {
   "cell_type": "markdown",
   "id": "60fdce98",
   "metadata": {},
   "source": [
    "## Evaluating model performance"
   ]
  },
  {
   "cell_type": "code",
   "execution_count": 77,
   "id": "1eb8cf4b",
   "metadata": {},
   "outputs": [
    {
     "data": {
      "text/plain": [
       "array([[1777,  185],\n",
       "       [ 279,  428]], dtype=int64)"
      ]
     },
     "execution_count": 77,
     "metadata": {},
     "output_type": "execute_result"
    }
   ],
   "source": [
    "confusion_matrix(y_train, y_train_pred)"
   ]
  },
  {
   "cell_type": "code",
   "execution_count": 78,
   "id": "539fb3a1",
   "metadata": {},
   "outputs": [
    {
     "data": {
      "text/plain": [
       "array([[457,  53],\n",
       "       [ 73,  85]], dtype=int64)"
      ]
     },
     "execution_count": 78,
     "metadata": {},
     "output_type": "execute_result"
    }
   ],
   "source": [
    "confusion_matrix(y_test, y_test_pred)"
   ]
  },
  {
   "cell_type": "code",
   "execution_count": 79,
   "id": "1f486f5a",
   "metadata": {},
   "outputs": [
    {
     "name": "stdout",
     "output_type": "stream",
     "text": [
      "The accuracy_score of the model on test set is:  0.811377245508982\n"
     ]
    }
   ],
   "source": [
    "print(\"The accuracy_score of the model on test set is: \",accuracy_score(y_test, y_test_pred))"
   ]
  },
  {
   "cell_type": "code",
   "execution_count": 80,
   "id": "2d9d48f2",
   "metadata": {},
   "outputs": [
    {
     "name": "stdout",
     "output_type": "stream",
     "text": [
      "The precision score is:  0.6159420289855072\n"
     ]
    }
   ],
   "source": [
    "print(\"The precision score is: \",precision_score(y_test,y_test_pred))"
   ]
  },
  {
   "cell_type": "code",
   "execution_count": 81,
   "id": "528e3cb5",
   "metadata": {},
   "outputs": [
    {
     "name": "stdout",
     "output_type": "stream",
     "text": [
      "The recall_score is:  0.5379746835443038\n"
     ]
    }
   ],
   "source": [
    "print(\"The recall_score is: \",recall_score(y_test,y_test_pred))"
   ]
  },
  {
   "cell_type": "code",
   "execution_count": 82,
   "id": "a02079cd",
   "metadata": {},
   "outputs": [
    {
     "name": "stdout",
     "output_type": "stream",
     "text": [
      "The roc_auc_score is:  0.7170265574584264\n"
     ]
    }
   ],
   "source": [
    "print(\"The roc_auc_score is: \",roc_auc_score(y_test,y_test_pred))"
   ]
  },
  {
   "cell_type": "markdown",
   "id": "6e38769e",
   "metadata": {},
   "source": [
    "## Plotting the decision tree"
   ]
  },
  {
   "cell_type": "code",
   "execution_count": 83,
   "id": "5327bb0b",
   "metadata": {},
   "outputs": [
    {
     "data": {
      "image/png": "[encoded data removed]",
      "text/plain": [
       "<IPython.core.display.Image object>"
      ]
     },
     "execution_count": 83,
     "metadata": {},
     "output_type": "execute_result"
    }
   ],
   "source": [
    "dot_data = tree.export_graphviz(clftree, out_file=None,feature_names= x_train.columns, filled = True)\n",
    "\n",
    "from IPython.display import Image\n",
    "\n",
    "import pydotplus\n",
    "\n",
    "graph = pydotplus.graph_from_dot_data(dot_data)\n",
    "Image(graph.create_png())\n"
   ]
  },
  {
   "cell_type": "markdown",
   "id": "cc3e5efb",
   "metadata": {},
   "source": [
    "## Controlling tree growth"
   ]
  },
  {
   "cell_type": "code",
   "execution_count": 84,
   "id": "07dcb2a3",
   "metadata": {},
   "outputs": [
    {
     "data": {
      "text/plain": [
       "DecisionTreeClassifier(max_depth=4, min_samples_leaf=20)"
      ]
     },
     "execution_count": 84,
     "metadata": {},
     "output_type": "execute_result"
    }
   ],
   "source": [
    "clftree2 = tree.DecisionTreeClassifier(min_samples_leaf = 20, max_depth=4)\n",
    "\n",
    "clftree2.fit(x_train, y_train)"
   ]
  },
  {
   "cell_type": "markdown",
   "id": "dabdc836",
   "metadata": {},
   "source": [
    "## Plotting decision tree after controlling tree growth"
   ]
  },
  {
   "cell_type": "code",
   "execution_count": 85,
   "id": "0d286d14",
   "metadata": {},
   "outputs": [
    {
     "data": {
      "image/png": "[encoded data removed]",
      "text/plain": [
       "<IPython.core.display.Image object>"
      ]
     },
     "execution_count": 85,
     "metadata": {},
     "output_type": "execute_result"
    }
   ],
   "source": [
    "dot_data = tree.export_graphviz(clftree2, out_file=None,feature_names= x_train.columns, filled = True)\n",
    "\n",
    "graph2 = pydotplus.graph_from_dot_data(dot_data)\n",
    "\n",
    "Image(graph2.create_png())"
   ]
  },
  {
   "cell_type": "code",
   "execution_count": 86,
   "id": "435bd909",
   "metadata": {},
   "outputs": [
    {
     "name": "stdout",
     "output_type": "stream",
     "text": [
      "The accuracy score of the model after controlling tree growth is:  0.8233532934131736\n"
     ]
    }
   ],
   "source": [
    "print(\"The accuracy score of the model after controlling tree growth is: \",accuracy_score(y_test, clftree2.predict(x_test)))"
   ]
  },
  {
   "cell_type": "markdown",
   "id": "b26de2f7",
   "metadata": {},
   "source": [
    "# Bagging Classification"
   ]
  },
  {
   "cell_type": "code",
   "execution_count": 87,
   "id": "b513fd31",
   "metadata": {},
   "outputs": [
    {
     "data": {
      "text/plain": [
       "BaggingClassifier(base_estimator=DecisionTreeClassifier(), n_estimators=1000,\n",
       "                  n_jobs=-1, random_state=42)"
      ]
     },
     "execution_count": 87,
     "metadata": {},
     "output_type": "execute_result"
    }
   ],
   "source": [
    "from sklearn import tree\n",
    "\n",
    "# creating a base decision tree classification object\n",
    "clftree = tree.DecisionTreeClassifier()\n",
    "\n",
    "from sklearn.ensemble import BaggingClassifier\n",
    "\n",
    "# creating a bagging classifier model with decision tree classifier object as base model\n",
    "bag_clf = BaggingClassifier(base_estimator=clftree, n_estimators=1000,\n",
    "                            bootstrap=True, n_jobs=-1,\n",
    "                            random_state=42)\n",
    "\n",
    "bag_clf.fit(x_train, y_train) # fitting the train variables into the model\n",
    "\n"
   ]
  },
  {
   "cell_type": "markdown",
   "id": "d6822f9e",
   "metadata": {},
   "source": [
    "## Evaluating model performance"
   ]
  },
  {
   "cell_type": "code",
   "execution_count": 88,
   "id": "64070f2a",
   "metadata": {},
   "outputs": [
    {
     "data": {
      "text/plain": [
       "array([[468,  42],\n",
       "       [ 74,  84]], dtype=int64)"
      ]
     },
     "execution_count": 88,
     "metadata": {},
     "output_type": "execute_result"
    }
   ],
   "source": [
    "confusion_matrix(y_test, bag_clf.predict(x_test))"
   ]
  },
  {
   "cell_type": "code",
   "execution_count": 89,
   "id": "70452565",
   "metadata": {},
   "outputs": [
    {
     "name": "stdout",
     "output_type": "stream",
     "text": [
      "The accuracy of the model on test data is:  0.8263473053892215\n"
     ]
    }
   ],
   "source": [
    "print(\"The accuracy of the model on test data is: \",accuracy_score(y_test, bag_clf.predict(x_test)))"
   ]
  },
  {
   "cell_type": "code",
   "execution_count": 90,
   "id": "11da77ba",
   "metadata": {},
   "outputs": [
    {
     "name": "stdout",
     "output_type": "stream",
     "text": [
      "The precision score is:  0.6666666666666666\n"
     ]
    }
   ],
   "source": [
    "print(\"The precision score is: \",precision_score(y_test,bag_clf.predict(x_test)))"
   ]
  },
  {
   "cell_type": "code",
   "execution_count": 91,
   "id": "23f5cad4",
   "metadata": {},
   "outputs": [
    {
     "name": "stdout",
     "output_type": "stream",
     "text": [
      "The recall_score is:  0.5316455696202531\n"
     ]
    }
   ],
   "source": [
    "print(\"The recall_score is: \",recall_score(y_test,bag_clf.predict(x_test)))"
   ]
  },
  {
   "cell_type": "code",
   "execution_count": 92,
   "id": "0d5b9654",
   "metadata": {},
   "outputs": [
    {
     "name": "stdout",
     "output_type": "stream",
     "text": [
      "The roc_auc_score is:  0.7246463142218913\n"
     ]
    }
   ],
   "source": [
    "print(\"The roc_auc_score is: \",roc_auc_score(y_test,bag_clf.predict(x_test)))"
   ]
  },
  {
   "cell_type": "markdown",
   "id": "b8c483ff",
   "metadata": {},
   "source": [
    "# Random Forest Classification"
   ]
  },
  {
   "cell_type": "code",
   "execution_count": 93,
   "id": "f569930b",
   "metadata": {},
   "outputs": [
    {
     "data": {
      "text/plain": [
       "RandomForestClassifier(n_estimators=1000, n_jobs=-1, random_state=42)"
      ]
     },
     "execution_count": 93,
     "metadata": {},
     "output_type": "execute_result"
    }
   ],
   "source": [
    "from sklearn.ensemble import RandomForestClassifier\n",
    "\n",
    "# creating a random forest classification object\n",
    "rf_clf = RandomForestClassifier(n_estimators=1000, n_jobs=-1 ,random_state=42)\n",
    "\n",
    "rf_clf.fit(x_train, y_train) # fitting x train and y train into the model"
   ]
  },
  {
   "cell_type": "markdown",
   "id": "a55a9033",
   "metadata": {},
   "source": [
    "## Evaluating the model performance"
   ]
  },
  {
   "cell_type": "code",
   "execution_count": 94,
   "id": "f49ea9cf",
   "metadata": {},
   "outputs": [
    {
     "data": {
      "text/plain": [
       "array([[481,  29],\n",
       "       [ 77,  81]], dtype=int64)"
      ]
     },
     "execution_count": 94,
     "metadata": {},
     "output_type": "execute_result"
    }
   ],
   "source": [
    "confusion_matrix(y_test, rf_clf.predict(x_test))"
   ]
  },
  {
   "cell_type": "code",
   "execution_count": 95,
   "id": "74da6909",
   "metadata": {
    "scrolled": false
   },
   "outputs": [
    {
     "name": "stdout",
     "output_type": "stream",
     "text": [
      "The accuracy score is:  0.8413173652694611\n"
     ]
    }
   ],
   "source": [
    "print(\"The accuracy score is: \",accuracy_score(y_test, rf_clf.predict(x_test)))"
   ]
  },
  {
   "cell_type": "code",
   "execution_count": 96,
   "id": "198c9d86",
   "metadata": {},
   "outputs": [
    {
     "name": "stdout",
     "output_type": "stream",
     "text": [
      "The accuracy score is:  1.0\n"
     ]
    }
   ],
   "source": [
    "print(\"The accuracy score is: \",accuracy_score(y_train, rf_clf.predict(x_train)))"
   ]
  },
  {
   "cell_type": "code",
   "execution_count": 97,
   "id": "9c11a60f",
   "metadata": {},
   "outputs": [
    {
     "name": "stdout",
     "output_type": "stream",
     "text": [
      "The precision score is:  0.7363636363636363\n"
     ]
    }
   ],
   "source": [
    "print(\"The precision score is: \",precision_score(y_test,rf_clf.predict(x_test)))"
   ]
  },
  {
   "cell_type": "code",
   "execution_count": 98,
   "id": "099e4a82",
   "metadata": {},
   "outputs": [
    {
     "name": "stdout",
     "output_type": "stream",
     "text": [
      "The recall_score is:  0.5126582278481012\n"
     ]
    }
   ],
   "source": [
    "print(\"The recall_score is: \",recall_score(y_test,rf_clf.predict(x_test)))"
   ]
  },
  {
   "cell_type": "code",
   "execution_count": 99,
   "id": "b14a3a7b",
   "metadata": {
    "scrolled": true
   },
   "outputs": [
    {
     "name": "stdout",
     "output_type": "stream",
     "text": [
      "The roc_auc_score is:  0.727897741375031\n"
     ]
    }
   ],
   "source": [
    "print(\"The roc_auc_score is: \",roc_auc_score(y_test,rf_clf.predict(x_test)))"
   ]
  },
  {
   "cell_type": "markdown",
   "id": "0ca70e8f",
   "metadata": {},
   "source": [
    "__Inference__\n",
    "\n",
    "_The accuracy of Random Forest Classification on test set is: 0.8413173652694611._\n",
    "\n",
    "_The accuracy of Random Forest Classification on train set is: 1.0_"
   ]
  },
  {
   "cell_type": "markdown",
   "id": "26d9991e",
   "metadata": {},
   "source": [
    "# Gradient Boosting Classification"
   ]
  },
  {
   "cell_type": "code",
   "execution_count": 100,
   "id": "1867b295",
   "metadata": {},
   "outputs": [
    {
     "data": {
      "text/plain": [
       "GradientBoostingClassifier()"
      ]
     },
     "execution_count": 100,
     "metadata": {},
     "output_type": "execute_result"
    }
   ],
   "source": [
    "from sklearn.ensemble import GradientBoostingClassifier\n",
    "\n",
    "gbc_clf = GradientBoostingClassifier() # creating a Gradient Boost Classification object\n",
    "gbc_clf.fit(x_train, y_train) # fitting x and y-train into the model"
   ]
  },
  {
   "cell_type": "code",
   "execution_count": 101,
   "id": "94363eee",
   "metadata": {},
   "outputs": [
    {
     "name": "stdout",
     "output_type": "stream",
     "text": [
      "The accuracy score is:  0.8413173652694611\n"
     ]
    }
   ],
   "source": [
    "print(\"The accuracy score is: \",accuracy_score(y_test, gbc_clf.predict(x_test)))"
   ]
  },
  {
   "cell_type": "code",
   "execution_count": 124,
   "id": "ee864960",
   "metadata": {},
   "outputs": [
    {
     "name": "stdout",
     "output_type": "stream",
     "text": [
      "The accuracy score on train data is:  0.8771075309104533\n"
     ]
    }
   ],
   "source": [
    "print(\"The accuracy score on train data is: \",accuracy_score(y_train, gbc_clf.predict(x_train)))"
   ]
  },
  {
   "cell_type": "code",
   "execution_count": 102,
   "id": "769b88a8",
   "metadata": {},
   "outputs": [
    {
     "name": "stdout",
     "output_type": "stream",
     "text": [
      "The precision score is:  0.7407407407407407\n"
     ]
    }
   ],
   "source": [
    "print(\"The precision score is: \",precision_score(y_test,gbc_clf.predict(x_test)))"
   ]
  },
  {
   "cell_type": "code",
   "execution_count": 103,
   "id": "ffc77b3c",
   "metadata": {},
   "outputs": [
    {
     "name": "stdout",
     "output_type": "stream",
     "text": [
      "The recall score is:  0.5063291139240507\n"
     ]
    }
   ],
   "source": [
    "print(\"The recall score is: \",recall_score(y_test,gbc_clf.predict(x_test)))"
   ]
  },
  {
   "cell_type": "code",
   "execution_count": 104,
   "id": "f14e3714",
   "metadata": {},
   "outputs": [
    {
     "name": "stdout",
     "output_type": "stream",
     "text": [
      "The roc_auc_score is:  0.7257135765698683\n"
     ]
    }
   ],
   "source": [
    "print(\"The roc_auc_score is: \",roc_auc_score(y_test,gbc_clf.predict(x_test)))"
   ]
  },
  {
   "cell_type": "markdown",
   "id": "d25f286d",
   "metadata": {},
   "source": [
    "## Hyperparameter Tuning"
   ]
  },
  {
   "cell_type": "code",
   "execution_count": 105,
   "id": "03b6e517",
   "metadata": {},
   "outputs": [
    {
     "data": {
      "text/plain": [
       "GradientBoostingClassifier(learning_rate=0.05, n_estimators=1000)"
      ]
     },
     "execution_count": 105,
     "metadata": {},
     "output_type": "execute_result"
    }
   ],
   "source": [
    "# creating a new Gradient Boost Classification object with hyperparameters\n",
    "gbc_clf2 = GradientBoostingClassifier(learning_rate =0.05, n_estimators =1000, max_depth = 3) \n",
    "gbc_clf2.fit(x_train, y_train)"
   ]
  },
  {
   "cell_type": "markdown",
   "id": "cfcab0e5",
   "metadata": {},
   "source": [
    "## Evaluating model performance"
   ]
  },
  {
   "cell_type": "code",
   "execution_count": 106,
   "id": "a7e2a7ce",
   "metadata": {},
   "outputs": [
    {
     "name": "stdout",
     "output_type": "stream",
     "text": [
      "The accuracy of the model for train data is:  0.962907455976021\n"
     ]
    }
   ],
   "source": [
    "print(\"The accuracy of the model for train data is: \",accuracy_score(y_train, gbc_clf2.predict(x_train)))\n"
   ]
  },
  {
   "cell_type": "code",
   "execution_count": 107,
   "id": "089fec20",
   "metadata": {},
   "outputs": [
    {
     "name": "stdout",
     "output_type": "stream",
     "text": [
      "The accuracy of the model on test data is:  0.8413173652694611\n"
     ]
    }
   ],
   "source": [
    "print(\"The accuracy of the model on test data is: \", accuracy_score(y_test, gbc_clf2.predict(x_test)))"
   ]
  },
  {
   "cell_type": "markdown",
   "id": "fe7feba7",
   "metadata": {},
   "source": [
    "__Inference__\n",
    "\n",
    "_The accuracy score of Gradient Boost Classification on test data is: 0.8413173652694611_\n",
    "\n",
    "_The accuracy score of Gradient Boost Classification on train data is: 0.962907455976021_"
   ]
  },
  {
   "cell_type": "markdown",
   "id": "8f62c548",
   "metadata": {},
   "source": [
    "# Ada Boost Classification"
   ]
  },
  {
   "cell_type": "code",
   "execution_count": 108,
   "id": "eece36ec",
   "metadata": {},
   "outputs": [
    {
     "data": {
      "text/plain": [
       "AdaBoostClassifier(learning_rate=0.02, n_estimators=5000)"
      ]
     },
     "execution_count": 108,
     "metadata": {},
     "output_type": "execute_result"
    }
   ],
   "source": [
    "from sklearn.ensemble import AdaBoostClassifier\n",
    "\n",
    "# creating an Ada Boost Classification object\n",
    "ada_clf = AdaBoostClassifier(learning_rate =0.02, n_estimators =5000)\n",
    "\n",
    "ada_clf.fit(x_train, y_train) # fitting the x-train and y-train into the model"
   ]
  },
  {
   "cell_type": "markdown",
   "id": "2b2aefa1",
   "metadata": {},
   "source": [
    "## Evaluating model performance"
   ]
  },
  {
   "cell_type": "code",
   "execution_count": 109,
   "id": "b29ceafd",
   "metadata": {},
   "outputs": [
    {
     "name": "stdout",
     "output_type": "stream",
     "text": [
      "The accuracy score of Ada Boost on train data is:  0.855751217684526\n"
     ]
    }
   ],
   "source": [
    "print(\"The accuracy score of Ada Boost on train data is: \",accuracy_score(y_train, ada_clf.predict(x_train)))"
   ]
  },
  {
   "cell_type": "code",
   "execution_count": 110,
   "id": "f81fc588",
   "metadata": {},
   "outputs": [
    {
     "name": "stdout",
     "output_type": "stream",
     "text": [
      "The accuracy of Ada Boost on test data is:  0.8383233532934131\n"
     ]
    }
   ],
   "source": [
    "print(\"The accuracy of Ada Boost on test data is: \",accuracy_score(y_test, ada_clf.predict(x_test)))"
   ]
  },
  {
   "cell_type": "markdown",
   "id": "85f0e31a",
   "metadata": {},
   "source": [
    "## Using Random Forest Classifier as base model\n",
    "_Random Forest Classifier can be used as base model to further enhance the performance of the model_"
   ]
  },
  {
   "cell_type": "code",
   "execution_count": 111,
   "id": "11104482",
   "metadata": {},
   "outputs": [
    {
     "data": {
      "text/plain": [
       "AdaBoostClassifier(base_estimator=RandomForestClassifier(n_estimators=1000,\n",
       "                                                         n_jobs=-1,\n",
       "                                                         random_state=42),\n",
       "                   learning_rate=0.05, n_estimators=500)"
      ]
     },
     "execution_count": 111,
     "metadata": {},
     "output_type": "execute_result"
    }
   ],
   "source": [
    "# Creating a Ada Boost Classifier object with Random Forest Classifier as base model\n",
    "ada_clf2 = AdaBoostClassifier(rf_clf,learning_rate =0.05, n_estimators =500)\n",
    "\n",
    "# Fitting the model\n",
    "ada_clf2.fit(x_train, y_train)"
   ]
  },
  {
   "cell_type": "code",
   "execution_count": 112,
   "id": "4e0ab28e",
   "metadata": {
    "scrolled": true
   },
   "outputs": [
    {
     "name": "stdout",
     "output_type": "stream",
     "text": [
      "The accuracy score of the model on test data is:  0.844311377245509\n"
     ]
    }
   ],
   "source": [
    "print(\"The accuracy score of the model on test data is: \",accuracy_score(y_test, ada_clf2.predict(x_test)))"
   ]
  },
  {
   "cell_type": "code",
   "execution_count": 113,
   "id": "8e97f527",
   "metadata": {},
   "outputs": [
    {
     "name": "stdout",
     "output_type": "stream",
     "text": [
      "The accuracy score of the model on train data is:  1.0\n"
     ]
    }
   ],
   "source": [
    "print(\"The accuracy score of the model on train data is: \", accuracy_score(y_train, ada_clf2.predict(x_train)))"
   ]
  },
  {
   "cell_type": "code",
   "execution_count": 114,
   "id": "78dba5f0",
   "metadata": {},
   "outputs": [
    {
     "name": "stdout",
     "output_type": "stream",
     "text": [
      "The precision score is:  0.7454545454545455\n"
     ]
    }
   ],
   "source": [
    "print(\"The precision score is: \",precision_score(y_test,ada_clf2.predict(x_test)))"
   ]
  },
  {
   "cell_type": "code",
   "execution_count": 115,
   "id": "5196fad0",
   "metadata": {},
   "outputs": [
    {
     "name": "stdout",
     "output_type": "stream",
     "text": [
      "The recall score is:  0.5189873417721519\n"
     ]
    }
   ],
   "source": [
    "print(\"The recall score is: \",recall_score(y_test,ada_clf2.predict(x_test)))"
   ]
  },
  {
   "cell_type": "code",
   "execution_count": 116,
   "id": "af0d456a",
   "metadata": {
    "scrolled": true
   },
   "outputs": [
    {
     "name": "stdout",
     "output_type": "stream",
     "text": [
      "The roc_auc_score is:  0.7193844626458178\n"
     ]
    }
   ],
   "source": [
    "print(\"The roc_auc_score is: \",roc_auc_score(y_test,ada_clf.predict(x_test)))"
   ]
  },
  {
   "cell_type": "markdown",
   "id": "7ef7ff29",
   "metadata": {},
   "source": [
    "__Inference__\n",
    "\n",
    "_The accuracy score of Ada Boost Classification on test data is: 0.844311377245509._\n",
    "\n",
    "_The accuracy score of Ada Boost Classification on train data is: 1.0_\n",
    "\n",
    "_The Precision score of Ada Boost Classification is: 0.7454545454545455_\n",
    "\n",
    "_The recall score of Ada Boost Classification is: 0.5189873417721519_\n",
    "\n",
    "_The roc_auc_score of Ada Boost Classification is: 0.7193844626458178_"
   ]
  },
  {
   "cell_type": "markdown",
   "id": "132216ba",
   "metadata": {},
   "source": [
    "# XG Boost Classification"
   ]
  },
  {
   "cell_type": "code",
   "execution_count": 117,
   "id": "bb5d0a34",
   "metadata": {},
   "outputs": [
    {
     "data": {
      "text/plain": [
       "XGBClassifier(base_score=None, booster=None, callbacks=None,\n",
       "              colsample_bylevel=None, colsample_bynode=None,\n",
       "              colsample_bytree=None, early_stopping_rounds=None,\n",
       "              enable_categorical=False, eval_metric=None, feature_types=None,\n",
       "              gamma=None, gpu_id=None, grow_policy=None, importance_type=None,\n",
       "              interaction_constraints=None, learning_rate=0.3, max_bin=None,\n",
       "              max_cat_threshold=None, max_cat_to_onehot=None,\n",
       "              max_delta_step=None, max_depth=5, max_leaves=None,\n",
       "              min_child_weight=None, missing=nan, monotone_constraints=None,\n",
       "              n_estimators=10000, n_jobs=-1, num_parallel_tree=None,\n",
       "              predictor=None, random_state=None, ...)"
      ]
     },
     "execution_count": 117,
     "metadata": {},
     "output_type": "execute_result"
    }
   ],
   "source": [
    "import xgboost as xgb\n",
    "\n",
    "# Creating a XG Boost Classifier object\n",
    "xgb_clf = xgb.XGBClassifier(max_depth=5, n_estimators=10000, learning_rate=0.3, n_jobs=-1) \n",
    "\n",
    "xgb_clf.fit(x_train, y_train) # fitting the model"
   ]
  },
  {
   "cell_type": "code",
   "execution_count": 118,
   "id": "60c319aa",
   "metadata": {},
   "outputs": [
    {
     "data": {
      "text/plain": [
       "<AxesSubplot:title={'center':'Feature importance'}, xlabel='F score', ylabel='Features'>"
      ]
     },
     "execution_count": 118,
     "metadata": {},
     "output_type": "execute_result"
    },
    {
     "data": {
      "image/png": "[encoded data removed]",
      "text/plain": [
       "<Figure size 432x288 with 1 Axes>"
      ]
     },
     "metadata": {
      "needs_background": "light"
     },
     "output_type": "display_data"
    }
   ],
   "source": [
    "xgb.plot_importance(xgb_clf) # plotting feature importance chart "
   ]
  },
  {
   "cell_type": "code",
   "execution_count": 119,
   "id": "f7497061",
   "metadata": {},
   "outputs": [
    {
     "name": "stdout",
     "output_type": "stream",
     "text": [
      "The accuracy score of the model on test data is:  0.8293413173652695\n"
     ]
    }
   ],
   "source": [
    "print(\"The accuracy score of the model on test data is: \",accuracy_score(y_test, xgb_clf.predict(x_test)))"
   ]
  },
  {
   "cell_type": "markdown",
   "id": "d189e8b9",
   "metadata": {},
   "source": [
    "## Hyperparameter Tuning\n",
    "_To enhance the performance of the model_"
   ]
  },
  {
   "cell_type": "code",
   "execution_count": 120,
   "id": "f08aa622",
   "metadata": {},
   "outputs": [],
   "source": [
    "xgb_clf = xgb.XGBClassifier(n_estimators=250,learning_rate=0.1, random_state=42)\n",
    "\n",
    "# defining new hyperparameters\n",
    "param_test1 = {\n",
    " 'max_depth':range(3,10,2),\n",
    "    'gamma' : [0.1,0.2,0.3],\n",
    "    'subsample':[0.8,0.9],\n",
    "    'colsample_bytree':[0.8,0.9],\n",
    "    'reg_alpha':[ 1e-2, 0.1, 1]\n",
    "}\n",
    "\n",
    "# using gridsearch CV to find the best hyperparameters to enhance the model's performance\n",
    "grid_search = GridSearchCV(xgb_clf, param_test1,\n",
    "                           n_jobs=-1, cv=5, scoring='accuracy')\n",
    "\n",
    "grid_search.fit(x_train, y_train)\n",
    "\n",
    "cvxg_clf = grid_search.best_estimator_"
   ]
  },
  {
   "cell_type": "markdown",
   "id": "75d4a0e7",
   "metadata": {},
   "source": [
    "## Evaluating the model performance after hyperparameter tuning"
   ]
  },
  {
   "cell_type": "code",
   "execution_count": 121,
   "id": "47276885",
   "metadata": {},
   "outputs": [
    {
     "name": "stdout",
     "output_type": "stream",
     "text": [
      "The accuracy score of the model is:  0.8383233532934131\n"
     ]
    }
   ],
   "source": [
    "print(\"The accuracy score of the model is: \",accuracy_score(y_test, cvxg_clf.predict(x_test))) "
   ]
  },
  {
   "cell_type": "code",
   "execution_count": 122,
   "id": "03e9f9a7",
   "metadata": {},
   "outputs": [
    {
     "data": {
      "text/plain": [
       "{'colsample_bytree': 0.9,\n",
       " 'gamma': 0.1,\n",
       " 'max_depth': 3,\n",
       " 'reg_alpha': 0.1,\n",
       " 'subsample': 0.9}"
      ]
     },
     "execution_count": 122,
     "metadata": {},
     "output_type": "execute_result"
    }
   ],
   "source": [
    "grid_search.best_params_ # the best hyperparameters for this model"
   ]
  }
 ],
 "metadata": {
  "kernelspec": {
   "display_name": "Python 3 (ipykernel)",
   "language": "python",
   "name": "python3"
  },
  "language_info": {
   "codemirror_mode": {
    "name": "ipython",
    "version": 3
   },
   "file_extension": ".py",
   "mimetype": "text/x-python",
   "name": "python",
   "nbconvert_exporter": "python",
   "pygments_lexer": "ipython3",
   "version": "3.9.7"
  }
 },
 "nbformat": 4,
 "nbformat_minor": 5
}
